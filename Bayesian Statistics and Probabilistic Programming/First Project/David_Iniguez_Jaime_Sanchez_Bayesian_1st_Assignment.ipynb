{
 "cells": [
  {
   "cell_type": "markdown",
   "id": "indoor-catalyst",
   "metadata": {
    "id": "indoor-catalyst",
    "tags": []
   },
   "source": [
    "<h1 style=\"color:blue\"> Bayesian Statistics and Probabilistic Programming</h1>\n",
    "\n",
    "<h1 style=\"color:blue\"> Spring 2024 - Homework 01</h1>\n",
    "\n",
    "<h3 style=\"color:blue\">2024-03-25</h3>\n",
    "\n",
    "Team Members:\n",
    "\n",
    "David Íñiguez Gómez. Email address: dinigugo108@alumnes.ub.edu\n",
    "\n",
    "Jaime Leonardo Sánchez Salazar. Email address: jsanchsa72@alumnes.ub.edu\n",
    "\n"
   ]
  },
  {
   "cell_type": "markdown",
   "id": "floppy-carbon",
   "metadata": {
    "id": "floppy-carbon"
   },
   "source": [
    "<h1 style=\"color:blue\">Instructions</h1>"
   ]
  },
  {
   "cell_type": "markdown",
   "id": "70c9392f-68be-443f-869f-3d11500d23d8",
   "metadata": {
    "id": "70c9392f-68be-443f-869f-3d11500d23d8"
   },
   "source": [
    "### Submissions:\n",
    "\n",
    "1. By **groups** of _about_ three students (meaning: two is OK, four is not advisable but possible. Individual homeworks will also be accepted but collaborative work is preferable).\n",
    "\n",
    "2. Please send me an **email** with the team members names by March 31.\n",
    "\n",
    "3. Only **one copy** of each group's work must be uploaded (by any member).\n",
    "\n",
    "4. **Full names** and **email address** of all team members must appear in the header."
   ]
  },
  {
   "cell_type": "markdown",
   "id": "205b1149-7745-4070-af12-b16374a0b741",
   "metadata": {
    "id": "205b1149-7745-4070-af12-b16374a0b741"
   },
   "source": [
    "### Format:\n",
    "\n",
    "A Jupyter or an Rmd **notebook** with a **header** clearly stating the names of all contributors."
   ]
  },
  {
   "cell_type": "markdown",
   "id": "c7ffc8d7-72ad-4915-a21b-863c669d439d",
   "metadata": {
    "id": "c7ffc8d7-72ad-4915-a21b-863c669d439d",
    "tags": []
   },
   "source": [
    "### Documentation:\n",
    "\n",
    "1. Comments **in code cells** (e.g., meaning of variables, parameters, purpose of functions) are necessary but not sufficient.\n",
    "\n",
    "2. You are expected to give full explanations of steps taken in your solution (in **Markdown cells**), as well as discussion of results and their meaning.\n",
    "\n",
    "3. Do not be afraid of being too verbose or too elementary, explain as if to someone learning."
   ]
  },
  {
   "cell_type": "markdown",
   "id": "de26c667-4256-4b2a-bfb8-cc11bc9a10bb",
   "metadata": {
    "id": "de26c667-4256-4b2a-bfb8-cc11bc9a10bb"
   },
   "source": [
    "### External sources\n",
    "\n",
    "Getting _inspiration_ from any book, document, blog, web page, even mimicking solutions given in there, is **allowed and encouraged,** provided you give a **proper reference,** understand every such material, and explain it in you own words, even more exhaustively. Do not **copy/paste literally large chunks of code** I will detect it, believe me, even missing source reference. Bleak consequences."
   ]
  },
  {
   "cell_type": "markdown",
   "id": "52ca45a3-4eab-4ff4-94d1-0fac33d6e15a",
   "metadata": {
    "id": "52ca45a3-4eab-4ff4-94d1-0fac33d6e15a"
   },
   "source": [
    "### Deadline:\n",
    "\n",
    "Completed assignments are due on **Monday, April 15**. They are to be uploaded to the Virtual Campus."
   ]
  },
  {
   "cell_type": "markdown",
   "id": "b51a75a2",
   "metadata": {
    "id": "b51a75a2"
   },
   "source": [
    "<h1 style=\"color:blue\">Exercises</h1>"
   ]
  },
  {
   "cell_type": "markdown",
   "id": "41a31419",
   "metadata": {
    "id": "41a31419"
   },
   "source": [
    "## Exercise 1: Placenta previa"
   ]
  },
  {
   "cell_type": "markdown",
   "id": "5dc76861",
   "metadata": {
    "id": "5dc76861"
   },
   "source": [
    "This exercise pertains to what we studied in `Binomial.3.Placenta.previa.pub.ipynb`.\n",
    "\n",
    "1. Compute the posterior pdf, and both prior and posterior predictor pmf for the placenta previa problem, using a conjugate $\\textrm{Beta}(\\alpha,\\beta)$ prior, for several values of the parameters, obtaining for each of them a 95% (centered) credible interval and the MAP and posterior expectation estimators of $\\theta$. In particular, reproduce Figure 2.3 and Table 2.1 in BDA3 [1]. Do the same for those $\\alpha_0$ and $\\beta_0$ such that $\\textrm{Beta}(\\alpha_0,\\beta_0)$ has the same expectation and variance than the piecewise linear nonconjugate prior. Compare the posterior quantities with both priors.\n",
    "\n",
    "2. Simulate the prior predictive pmf with the nonconjugate piecewise linear pdf. Do it in both possible ways: (1) Sample from $h$ by the inverse transformation method and (2) Sample from its discretization. Summarize the resulting simulated sample: plot the empirical pmf, compute median, mode, expectation, standard deviation. Compare the results with those obtained from the conjugate prior $\\textrm{Beta}(\\alpha_0,\\beta_0)$.\n",
    "\n",
    "3. Simulate the posterior predictive pmf (given the observed data of 437 female births from 980 placenta previa births) with the nonconjugate piecewise linear pdf. Sample from the the discretization of the posterior pdf as in Exercise 1. Summarize the resulting simulated sample: plot the empirical pmf, compute median, mode, expectation, standard deviation. Compare the results with those obtained from the conjugate prior $\\textrm{Beta}(\\alpha_0,\\beta_0)$.\n",
    "\n",
    "[1] _Bayesian Data Analysis - Third edition_ **(BDA3),** pag. 37."
   ]
  },
  {
   "cell_type": "markdown",
   "id": "33e6f8a1-7880-4470-90d8-d23da22d8b55",
   "metadata": {},
   "source": [
    "## 1.  Compute the posterior pdf, and both prior and posterior predictor pmf for the placenta previa problem, using a conjugate $\\textrm{Beta}(\\alpha,\\beta)$ prior, for several values of the parameters, obtaining for each of them a 95% (centered) credible interval and the MAP and posterior expectation estimators of $\\theta$. In particular, reproduce Figure 2.3 and Table 2.1 in BDA3 [1]. Do the same for those $\\alpha_0$ and $\\beta_0$ such that $\\textrm{Beta}(\\alpha_0,\\beta_0)$ has the same expectation and variance than the piecewise linear nonconjugate prior. Compare the posterior quantities with both priors."
   ]
  },
  {
   "cell_type": "markdown",
   "id": "c3ec0724-75a9-4d2e-93c8-4a6fd72dbea0",
   "metadata": {},
   "source": [
    "We compute the posterior pdf by simply adding the number of postive (female births) and negative cases (male births) to the prior estimation, where we consider $\\alpha = \\beta = 1$ (uniform distribution)."
   ]
  },
  {
   "cell_type": "code",
   "execution_count": 1,
   "id": "0df116ff-d5dd-40a8-b223-ae73a9ea1ee9",
   "metadata": {},
   "outputs": [],
   "source": [
    "total_births <- 980\n",
    "female_births <- 437\n",
    "prop_female_population <- 0.5\n",
    "alpha_prior <- 1\n",
    "beta_prior <- 1\n",
    "alpha_posterior <- alpha_prior + female_births\n",
    "beta_posterior <- beta_prior + total_births - female_births"
   ]
  },
  {
   "cell_type": "code",
   "execution_count": 2,
   "id": "d20bc8d8-c056-49e8-b9f6-3207e422654d",
   "metadata": {},
   "outputs": [],
   "source": [
    "x <- seq(0,1, by=0.001)\n",
    "beta <- dbeta(x,alpha_posterior,beta_posterior)"
   ]
  },
  {
   "cell_type": "code",
   "execution_count": 3,
   "id": "2edc27a6-f54f-4ef4-9b2a-3b52f9d39990",
   "metadata": {},
   "outputs": [
    {
     "data": {
      "image/png": "[encoded data removed]",
      "text/plain": [
       "Plot with title \"Posterior Distribution\""
      ]
     },
     "metadata": {},
     "output_type": "display_data"
    }
   ],
   "source": [
    "plot(x, beta, xlab=\"X\",\n",
    "     ylab = \"Beta Density\", type = \"l\",\n",
    "     col = \"Red\",\n",
    "    main = \"Posterior Distribution\") "
   ]
  },
  {
   "cell_type": "markdown",
   "id": "f5f8374f-c2d3-4263-a870-6568c8e3f587",
   "metadata": {},
   "source": [
    "Now we are going to generate points according to that distribution, and also the logit transformation of the distribution, that is defined as $logit = log(\\theta/(1-\\theta))$, and the male-female ratio, defined as $MF = (1-\\theta)/\\theta$"
   ]
  },
  {
   "cell_type": "code",
   "execution_count": 4,
   "id": "51b1d07a-cac2-4d6a-baa8-fdb415cca279",
   "metadata": {},
   "outputs": [
    {
     "data": {
      "image/png": "[encoded data removed]",
      "text/plain": [
       "Plot with title \"Male-Female ratio\""
      ]
     },
     "metadata": {},
     "output_type": "display_data"
    }
   ],
   "source": [
    "#Posterior distribution, probability of female birth\n",
    "beta_plot <- rbeta(1000, alpha_posterior,beta_posterior)\n",
    "log <- log(beta_plot/(1-beta_plot))\n",
    "ratio <- (1-beta_plot)/beta_plot\n",
    "par(mfrow = c(1, 3))  # Set up a 1x3 layout for plotting\n",
    "hist(beta_plot,breaks = as.integer(sqrt(1000)),  freq = FALSE, main = \"Beta distribution\", xlab = \" \" , ylab = \"Density\", col = \"skyblue\",  xlim = c(0.35, 0.55))\n",
    "hist(log,breaks = as.integer(sqrt(1000)),  freq = FALSE, main = \"Logit transform\", xlab = \" \", ylab = \"Density\", col = \"skyblue\",  xlim = c(-0.5, 0.1))\n",
    "hist(ratio,breaks = as.integer(sqrt(1000)),  freq = FALSE, main = \"Male-Female ratio\", xlab = \" \", ylab = \"Density\", col = \"skyblue\",  xlim = c(1, 1.6))\n",
    "par(mfrow = c(1, 1))"
   ]
  },
  {
   "cell_type": "markdown",
   "id": "75123f9b-a436-4559-9304-670fca3068c9",
   "metadata": {},
   "source": [
    "Let us first take the proportion female population as 0.5, as the paper first suggets. Then we will change this value to 0.485."
   ]
  },
  {
   "cell_type": "code",
   "execution_count": 5,
   "id": "699ca10a-8f09-458b-ad86-eb946d02d792",
   "metadata": {},
   "outputs": [
    {
     "name": "stdout",
     "output_type": "stream",
     "text": [
      "The value of the lower quantile is: 0.415 \n",
      "The value of the upper quantile is: 0.477"
     ]
    }
   ],
   "source": [
    "lower_quantile <- qbeta(0.025, alpha_posterior,beta_posterior)\n",
    "upper_quantile <- qbeta(0.975, alpha_posterior,beta_posterior)\n",
    "cat(\"The value of the lower quantile is:\", round(lower_quantile,3), \"\\n\")\n",
    "cat(\"The value of the upper quantile is:\", round(upper_quantile,3))"
   ]
  },
  {
   "cell_type": "code",
   "execution_count": 6,
   "id": "b85a098d-924d-4983-933f-497f014d5b37",
   "metadata": {},
   "outputs": [
    {
     "name": "stdout",
     "output_type": "stream",
     "text": [
      "The value of the posterior median is: 0.446"
     ]
    }
   ],
   "source": [
    "posterior_median <- qbeta(0.5, alpha_posterior, beta_posterior)\n",
    "cat(\"The value of the posterior median is:\", round(posterior_median,3))"
   ]
  },
  {
   "cell_type": "markdown",
   "id": "8d358a4d-edb0-43a6-9e6a-cafab5295014",
   "metadata": {},
   "source": [
    "Let us reproduce Figure 2.3 and Table 2.1 in BDA3 [1]. That is, we are going to vary the value of the sum of the parameters of the prior distribution, that is, $\\alpha$ and $\\beta$."
   ]
  },
  {
   "cell_type": "code",
   "execution_count": 7,
   "id": "771de366-ecb2-45ab-8b48-a56674ceaa27",
   "metadata": {},
   "outputs": [],
   "source": [
    "sum_ab <- c(2,5,10,20,100,200)"
   ]
  },
  {
   "cell_type": "code",
   "execution_count": 8,
   "id": "e70a2795-fe44-4d5d-8c24-9183979036af",
   "metadata": {},
   "outputs": [],
   "source": [
    "total_births <- 980\n",
    "female_births <- 437\n",
    "prop_female_population <- 0.485 \n",
    "alpha_prior <- prop_female_population * sum_ab\n",
    "beta_prior <- sum_ab-alpha_prior\n",
    "alpha_posterior <- alpha_prior + female_births\n",
    "beta_posterior <- beta_prior + total_births - female_births"
   ]
  },
  {
   "cell_type": "code",
   "execution_count": 9,
   "id": "62ad5c0e-a7dd-438c-bb2d-79c01a8c7e69",
   "metadata": {},
   "outputs": [],
   "source": [
    "x <- seq(0,1, by=0.0001)\n",
    "beta <- dbeta(x,alpha_posterior,beta_posterior)"
   ]
  },
  {
   "cell_type": "code",
   "execution_count": 10,
   "id": "1f637622-da5c-435f-a6f2-604174c96c5c",
   "metadata": {},
   "outputs": [],
   "source": [
    "lower_quantile <- qbeta(0.025, alpha_posterior,beta_posterior)\n",
    "upper_quantile <- qbeta(0.975, alpha_posterior,beta_posterior)\n",
    "posterior_median <- qbeta(0.5, alpha_posterior, beta_posterior)\n",
    "map <- (alpha_posterior -1)/(alpha_posterior+beta_posterior -2) #we consider here the mode of a beta distribution"
   ]
  },
  {
   "cell_type": "markdown",
   "id": "4cd3ca21-e93c-45e4-8995-e9c9ca3c3728",
   "metadata": {},
   "source": [
    "Let us check the new values of $\\alpha$ and $\\beta$ (prior parameters) and the consequences of this new parameters:"
   ]
  },
  {
   "cell_type": "code",
   "execution_count": 11,
   "id": "18171db7-cbcd-475c-92ce-9b71dd1565f5",
   "metadata": {},
   "outputs": [
    {
     "name": "stdout",
     "output_type": "stream",
     "text": [
      "  Alpha_Prior Beta_Prior Alpha_Beta_Sum Posterior_Median   X95interval   MAP\n",
      "1       0.970      1.030              2            0.446 [0.415,0.477] 0.446\n",
      "2       2.425      2.575              5            0.446 [0.415,0.477] 0.446\n",
      "3       4.850      5.150             10            0.446 [0.415,0.477] 0.446\n",
      "4       9.700     10.300             20            0.447 [0.416,0.478] 0.447\n",
      "5      48.500     51.500            100            0.450  [0.42,0.479] 0.449\n",
      "6      97.000    103.000            200            0.453 [0.424,0.481] 0.452\n"
     ]
    }
   ],
   "source": [
    "table <- data.frame(Alpha_Prior = alpha_prior, \n",
    "                    Beta_Prior = beta_prior, \n",
    "                    Alpha_Beta_Sum = alpha_prior + beta_prior,\n",
    "                    Posterior_Median = round(posterior_median, 3), \n",
    "                    \"95interval\" = paste(\"[\", round(lower_quantile, 3), \",\", round(upper_quantile, 3), \"]\", sep = \"\"),\n",
    "                   MAP = round(map,3))\n",
    "\n",
    "# Mostrar la tabla\n",
    "print(table)\n"
   ]
  },
  {
   "cell_type": "markdown",
   "id": "f41016f8-a929-46ab-8956-8fca7be79472",
   "metadata": {},
   "source": [
    "Now, we are going to plot the prior and posterior distribution for all the different $\\alpha, \\beta$ that we have found."
   ]
  },
  {
   "cell_type": "code",
   "execution_count": 12,
   "id": "8e7638c6-3222-4af9-b9e9-5271da128474",
   "metadata": {},
   "outputs": [
    {
     "data": {
      "image/png": "[encoded data removed]",
      "text/plain": [
       "Plot with title \"Alpha= 97 , Beta= 103\""
      ]
     },
     "metadata": {},
     "output_type": "display_data"
    }
   ],
   "source": [
    "x <- seq(0,1, by=0.0001)\n",
    "\n",
    "par(mfrow = c(2, 3))\n",
    "\n",
    "for (i in 1:length(alpha_prior)){\n",
    "    plot(x,dbeta(x,alpha_prior[i],beta_prior[i]),\"l\",lwd=1,col=\"red\",xlim=c(0,1),ylab=\"\",main=paste(\"Alpha=\", alpha_prior[i], \", Beta=\", beta_prior[i]))\n",
    "    lines (x,dbeta(x,alpha_posterior[i],beta_posterior[i]),\"l\",lwd=1,col=\"blue\",xlim=c(0,1),ylim=c(0,1),ylab=\"\")\n",
    "\n",
    "    legend(\"topright\", legend = c(\"Prior\", \"Post\"), col = c(\"red\", \"blue\"), lty = 1, lwd = 2, cex = 0.8)\n",
    "}\n",
    "\n",
    "par(mfrow = c(1, 1))"
   ]
  },
  {
   "cell_type": "markdown",
   "id": "1edd8c1b-5a59-4176-8378-97204a638d8b",
   "metadata": {},
   "source": [
    "As we can see in the graphs, as the value of alpha prior and beta prior increases, the width of the probability distribution is reduced. This is because if you increase the number of initial measurements, there is more certainty that the distribution will be closer to the mean, which implies that the standard deviation of the distribution will be smaller as we increase the number of initial samples. . This can be seen visually because the maximum value of the distribution is greater for larger values ​​of alpha and beta, so if the integral always has to be equal to 1, that implies that the data are less dispersed."
   ]
  },
  {
   "cell_type": "markdown",
   "id": "8c8f9c9e-8be6-4ce8-b64f-77bb0a977552",
   "metadata": {},
   "source": [
    "Now we solve a system so that $h(t)$ and $Beta(\\alpha,\\beta)$ have the same mean and variance. First, we determine the mean and variance of the nonconjugate distribution, and then we will substiute this value to the mean and variance of a Beta distribution as a function of $\\alpha,\\beta$.\n",
    "\n",
    "Recall that the mean and variance of a Beta Distribution are the following:\n",
    "\n",
    "- $E[x] = \\frac{\\alpha}{\\alpha+\\beta}$\n",
    "- $\\sigma^2[x] = \\frac{\\alpha\\beta}{(\\alpha+\\beta)^2(\\alpha+\\beta+1)}$"
   ]
  },
  {
   "cell_type": "code",
   "execution_count": 13,
   "id": "45925d38-b672-4f87-bbe5-c40d89e5c4a1",
   "metadata": {},
   "outputs": [],
   "source": [
    "m<-0.485\n",
    "c<-0.100\n",
    "p.tails<-0.4\n",
    "a<-0.5\n",
    "b<-5.0\n",
    "A<-a+b-(b*m)/c\n",
    "B<-a+b+(b*m)/c\n",
    "h<-function(t){return(a*(t>=0)*(t<m-c)+a*(t>m+c)*(t<=1)+(A+b*t/c)*(t>m-c)*(t<m)+(B-b*t/c)*(t>m)*(t<m+c))}"
   ]
  },
  {
   "cell_type": "code",
   "execution_count": 14,
   "id": "3b959069-2748-4892-9a1d-5a399e30f254",
   "metadata": {
    "scrolled": true
   },
   "outputs": [
    {
     "name": "stdout",
     "output_type": "stream",
     "text": [
      "Mean of h(t) = 0.4924976 , Variance of h(t) = 0.04261333"
     ]
    }
   ],
   "source": [
    "x<-seq(0,1,length=100000)\n",
    "mean_h <- mean(h(x)*x)\n",
    "variance_h <- mean((x-m)^2*h(x))\n",
    "cat(\"Mean of h(t) =\", mean_h, \", Variance of h(t) =\", variance_h)"
   ]
  },
  {
   "cell_type": "markdown",
   "id": "283558d7-a8d6-4e5f-b5f3-1881b7e50d5b",
   "metadata": {},
   "source": [
    "Solving the previous system equations we got the following expressions for $\\alpha_0$ and $\\beta_0$:"
   ]
  },
  {
   "cell_type": "code",
   "execution_count": 15,
   "id": "2e9b4de8-a69f-400c-9a65-490efffbc33f",
   "metadata": {},
   "outputs": [
    {
     "name": "stdout",
     "output_type": "stream",
     "text": [
      "Alpha prior = 2.396192 , Beta prior = 2.469197"
     ]
    }
   ],
   "source": [
    "alpha0 <- ((1-mean_h)*mean_h^2)/variance_h-mean_h\n",
    "beta0 <- alpha0*(1-mean_h)/mean_h\n",
    "cat(\"Alpha prior =\", alpha0, \", Beta prior =\", beta0)"
   ]
  },
  {
   "cell_type": "code",
   "execution_count": 16,
   "id": "b256a600-16e0-47a9-b457-563ec85fa7f6",
   "metadata": {},
   "outputs": [
    {
     "name": "stdout",
     "output_type": "stream",
     "text": [
      "Alpha posterior = 439.3962 , Beta posterior = 545.4692"
     ]
    }
   ],
   "source": [
    "alpha0_posterior <- alpha0 + female_births\n",
    "beta0_posterior <- beta0 + total_births - female_births\n",
    "cat(\"Alpha posterior =\", alpha0_posterior, \", Beta posterior =\", beta0_posterior)"
   ]
  },
  {
   "cell_type": "code",
   "execution_count": 17,
   "id": "c32d67ce-5eb4-4748-a76f-d88646806606",
   "metadata": {},
   "outputs": [
    {
     "name": "stdout",
     "output_type": "stream",
     "text": [
      "The value of the lower quantile is: 0.415 \n",
      "The value of the upper quantile is: 0.477 \n",
      "The value of the posterior median is: 0.446 \n",
      "The value of the MAP is: 0.446"
     ]
    }
   ],
   "source": [
    "lower_quantile <- qbeta(0.025, alpha0_posterior,beta0_posterior)\n",
    "upper_quantile <- qbeta(0.975, alpha0_posterior,beta0_posterior)\n",
    "posterior_median <- qbeta(0.5, alpha0_posterior, beta0_posterior)\n",
    "map <- (alpha0_posterior -1)/(alpha0_posterior+beta0_posterior -2)\n",
    "cat(\"The value of the lower quantile is:\", round(lower_quantile,3), \"\\n\")\n",
    "cat(\"The value of the upper quantile is:\", round(upper_quantile,3), \"\\n\")\n",
    "cat(\"The value of the posterior median is:\", round(posterior_median,3), \"\\n\")\n",
    "cat(\"The value of the MAP is:\", round(map,3))"
   ]
  },
  {
   "cell_type": "code",
   "execution_count": 18,
   "id": "70a96e08-99df-4f0c-ae3f-ba1cee2db4e6",
   "metadata": {},
   "outputs": [
    {
     "data": {
      "image/png": "[encoded data removed]",
      "text/plain": [
       "Plot with title \"Alpha= 2.396 , Beta= 2.469\""
      ]
     },
     "metadata": {},
     "output_type": "display_data"
    }
   ],
   "source": [
    "x <- seq(0,1, by=0.0001)\n",
    "plot(x,dbeta(x,alpha0,beta0),\"l\",lwd=1,col=\"red\",xlim=c(0,1),ylab=\"\",main=paste(\"Alpha=\", round(alpha0,3), \", Beta=\", round(beta0,3)))\n",
    "lines (x,dbeta(x,alpha0_posterior,beta0_posterior),\"l\",lwd=1,col=\"blue\",xlim=c(0,1),ylim=c(0,1),ylab=\"\")\n",
    "\n",
    "legend(\"topright\", legend = c(\"Prior\", \"Post\"), col = c(\"red\", \"blue\"), lty = 1, lwd = 2, cex = 0.8)"
   ]
  },
  {
   "cell_type": "markdown",
   "id": "1226d3b4-7d01-48ea-8648-705bfe6d5f12",
   "metadata": {},
   "source": [
    "## 2. Simulate the prior predictive pmf with the nonconjugate piecewise linear pdf. Do it in both possible ways: (1) Sample from $h$ by the inverse transformation method and (2) Sample from its discretization. Summarize the resulting simulated sample: plot the empirical pmf, compute median, mode, expectation, standard deviation. Compare the results with those obtained from the conjugate prior $\\textrm{Beta}(\\alpha_0,\\beta_0)$."
   ]
  },
  {
   "cell_type": "markdown",
   "id": "e262212f-1d89-41b1-b95c-692987023439",
   "metadata": {},
   "source": [
    "Let us first plot $h(t)$:"
   ]
  },
  {
   "cell_type": "code",
   "execution_count": 19,
   "id": "da078f7f-e884-4689-8803-aac2056b516a",
   "metadata": {},
   "outputs": [],
   "source": [
    "n<-980\n",
    "x<-437\n",
    "N<-1000 # number of grid intervals\n",
    "t<-seq(0,1,length=N)\n",
    "t<-t[-N]# remove last point (equal to 1: we want N intervals)"
   ]
  },
  {
   "cell_type": "code",
   "execution_count": 20,
   "id": "6f7b9b91-2bfe-4ffb-bb57-60d0b45b85eb",
   "metadata": {
    "scrolled": true
   },
   "outputs": [
    {
     "data": {
      "image/png": "[encoded data removed]",
      "text/plain": [
       "Plot with title \"Piecewise linear prior\""
      ]
     },
     "metadata": {},
     "output_type": "display_data"
    }
   ],
   "source": [
    "options(repr.plot.width=6,repr.plot.height=6)\n",
    "u<-seq(0,1,length=N)\n",
    "plot(u,h(u),\"l\",lwd=2,col=\"blue\",xlim=c(0,1),ylim=c(0,5.5),ylab=\"\",main=\"Piecewise linear prior\")\n",
    "abline(h=0,lwd=2,col=\"black\")\n",
    "abline(v=m,lwd=2,col=\"green\")\n",
    "abline(h=a+b,lwd=2,col=\"green\")\n",
    "lines(u,h(u),lwd=2,col=\"blue\")\n",
    "text(-0.01,a+b-0.15,\"a+b\")\n",
    "text(-0.01,a+0.15,\"a\")\n",
    "text(m,-0.15,\"m\")\n",
    "text(m-c-0.01,-0.15,\"m-c\")\n",
    "text(m+c-0.01,-0.15,\"m+c\")"
   ]
  },
  {
   "cell_type": "markdown",
   "id": "d4e63d75-bf80-4400-a8f4-e41d517a7d3c",
   "metadata": {},
   "source": [
    "### Discretization method "
   ]
  },
  {
   "cell_type": "markdown",
   "id": "5dae324d-214e-4072-bb3d-f2b41e7c639f",
   "metadata": {},
   "source": [
    "In this method, we build $N$ boxes $(t_1,...,t_N)$ that have a width of $\\delta = 1/N$ and height $h_i = h(t_i)$. After that, we generate a random number $\\omega \\in [0,1]$, and localize the box that is associated with it with the cumulative probability function, so that the boxes with a higher value of $h(t)$ are more likely to be selected."
   ]
  },
  {
   "cell_type": "code",
   "execution_count": 21,
   "id": "1aad95d7-65c5-4d81-87c8-3443e65ca400",
   "metadata": {},
   "outputs": [],
   "source": [
    "N = 10000\n",
    "u<-seq(0,1,length=N)\n",
    "boxes <- (1/N) * sapply(u, h)\n",
    "cumboxes <- cumsum(boxes)"
   ]
  },
  {
   "cell_type": "code",
   "execution_count": 22,
   "id": "fc6610c1-2392-4819-83b3-b63b8e780d60",
   "metadata": {},
   "outputs": [
    {
     "data": {
      "image/png": "[encoded data removed]",
      "text/plain": [
       "Plot with title \"Beta prior\""
      ]
     },
     "metadata": {},
     "output_type": "display_data"
    }
   ],
   "source": [
    "num_samples <- 10000\n",
    "random_numbers <- runif(num_samples)\n",
    "\n",
    "# Find the index of the last value in cumboxes that is smaller than each value in the set\n",
    "indices <- sapply(random_numbers, function(value) {\n",
    "  idx <- min(which(cumboxes > value))\n",
    "  if (is.infinite(idx)) {\n",
    "    print (value)\n",
    "    print(\"No valid index found.\")\n",
    "    return(1)  # Return 1 if no valid index is found\n",
    "  } else {\n",
    "    return(idx)\n",
    "  }\n",
    "})\n",
    "\n",
    "results <- indices / num_samples\n",
    "\n",
    "\n",
    "par(mfrow = c(1, 2))  # Reset plotting layout\n",
    "\n",
    "hist(results, breaks = 50, freq = FALSE, main = \"Non conjugate\", xlab = \"Sample Value\", col = \"skyblue\", border = \"white\", xlim = c(0, 1), ylim = c(0, 5.5))\n",
    "betaprior <- rbeta(num_samples,alpha0,beta0)\n",
    "hist(betaprior, breaks = 50, freq = FALSE, main = \"Beta prior\", xlab = \"Sample Value\", col = \"red\", border = \"white\", xlim = c(0, 1), ylim = c(0, 5.5))\n",
    "\n",
    "par(mfrow = c(1, 1))  # Reset plotting layout"
   ]
  },
  {
   "cell_type": "markdown",
   "id": "ae69f2a8-a235-4636-ad5c-a32a15e56258",
   "metadata": {},
   "source": [
    "We create a function that returns the median, mode, mean and standard deviation of the histogram"
   ]
  },
  {
   "cell_type": "code",
   "execution_count": 23,
   "id": "fd3f264c-5881-4fd2-916e-6778e47e144a",
   "metadata": {},
   "outputs": [],
   "source": [
    "array_statistics <- function(array) {\n",
    "\n",
    "  median_value <- median(array)\n",
    "  mode_value <- names(sort(table(array), decreasing = TRUE))[1]\n",
    "  expectation_value <- mean(array)\n",
    "  standard_deviation_value <- sd(array)\n",
    "  return(list(\n",
    "    Median = round(median_value,3),\n",
    "    Mode = round(as.numeric(mode_value),3),\n",
    "    Expectation = round(expectation_value,3),\n",
    "    Standard_Deviation = round(standard_deviation_value,3)\n",
    "  ))\n",
    "}"
   ]
  },
  {
   "cell_type": "code",
   "execution_count": 24,
   "id": "c023ed7b-d408-4ff3-b1fb-3739b1eb4346",
   "metadata": {},
   "outputs": [
    {
     "data": {
      "text/html": [
       "<dl>\n",
       "\t<dt>$Median</dt>\n",
       "\t\t<dd>0.486</dd>\n",
       "\t<dt>$Mode</dt>\n",
       "\t\t<dd>0.487</dd>\n",
       "\t<dt>$Expectation</dt>\n",
       "\t\t<dd>0.493</dd>\n",
       "\t<dt>$Standard_Deviation</dt>\n",
       "\t\t<dd>0.207</dd>\n",
       "</dl>\n"
      ],
      "text/latex": [
       "\\begin{description}\n",
       "\\item[\\$Median] 0.486\n",
       "\\item[\\$Mode] 0.487\n",
       "\\item[\\$Expectation] 0.493\n",
       "\\item[\\$Standard\\_Deviation] 0.207\n",
       "\\end{description}\n"
      ],
      "text/markdown": [
       "$Median\n",
       ":   0.486\n",
       "$Mode\n",
       ":   0.487\n",
       "$Expectation\n",
       ":   0.493\n",
       "$Standard_Deviation\n",
       ":   0.207\n",
       "\n",
       "\n"
      ],
      "text/plain": [
       "$Median\n",
       "[1] 0.486\n",
       "\n",
       "$Mode\n",
       "[1] 0.487\n",
       "\n",
       "$Expectation\n",
       "[1] 0.493\n",
       "\n",
       "$Standard_Deviation\n",
       "[1] 0.207\n"
      ]
     },
     "metadata": {},
     "output_type": "display_data"
    }
   ],
   "source": [
    "array_statistics(results)"
   ]
  },
  {
   "cell_type": "code",
   "execution_count": 25,
   "id": "1cac03b9-9e58-4ec5-879d-cc68ca87e3d0",
   "metadata": {
    "scrolled": true
   },
   "outputs": [
    {
     "data": {
      "text/html": [
       "<dl>\n",
       "\t<dt>$Median</dt>\n",
       "\t\t<dd>0.487</dd>\n",
       "\t<dt>$Mode</dt>\n",
       "\t\t<dd>0.006</dd>\n",
       "\t<dt>$Expectation</dt>\n",
       "\t\t<dd>0.488</dd>\n",
       "\t<dt>$Standard_Deviation</dt>\n",
       "\t\t<dd>0.208</dd>\n",
       "</dl>\n"
      ],
      "text/latex": [
       "\\begin{description}\n",
       "\\item[\\$Median] 0.487\n",
       "\\item[\\$Mode] 0.006\n",
       "\\item[\\$Expectation] 0.488\n",
       "\\item[\\$Standard\\_Deviation] 0.208\n",
       "\\end{description}\n"
      ],
      "text/markdown": [
       "$Median\n",
       ":   0.487\n",
       "$Mode\n",
       ":   0.006\n",
       "$Expectation\n",
       ":   0.488\n",
       "$Standard_Deviation\n",
       ":   0.208\n",
       "\n",
       "\n"
      ],
      "text/plain": [
       "$Median\n",
       "[1] 0.487\n",
       "\n",
       "$Mode\n",
       "[1] 0.006\n",
       "\n",
       "$Expectation\n",
       "[1] 0.488\n",
       "\n",
       "$Standard_Deviation\n",
       "[1] 0.208\n"
      ]
     },
     "metadata": {},
     "output_type": "display_data"
    }
   ],
   "source": [
    "array_statistics(betaprior)"
   ]
  },
  {
   "cell_type": "markdown",
   "id": "852fb2e6-a1bb-46db-8c32-dbfbbb37014a",
   "metadata": {},
   "source": [
    "As we can see, the expectation, median and standard deviation are quite similar, since we set $\\alpha_0, \\beta_0$ to satisfy that they have the same mean and standard deviation as the nonconjugate distribution."
   ]
  },
  {
   "cell_type": "markdown",
   "id": "103faeb3-36b5-46fc-91e8-41f6f0c31cf8",
   "metadata": {},
   "source": [
    "### Inverse transformation method"
   ]
  },
  {
   "cell_type": "markdown",
   "id": "41ca172d-69e3-4019-9bf6-462ed57dd34c",
   "metadata": {},
   "source": [
    "The idea of this method is to obtain the probability distribution from the analytic cumulative function, so here we don't discretize the probabilities. We generate a random number $\\omega \\in [0,1]$, and determine the inverse image of it, that is the probablity associated with first, we define the cumulative function of h(t) to plot it and see its behaviour. "
   ]
  },
  {
   "cell_type": "code",
   "execution_count": 26,
   "id": "6b488267-c4bb-443e-9b86-105fe47c4b03",
   "metadata": {},
   "outputs": [],
   "source": [
    "cumh<-function(t){return(a*t*(t>=0)*(t<m-c)+(a*t+b*c)*(t>m+c)*(t<=1)+(a*t+b/c*(t-(m-c))*(t-(m-c))/2)*(t>m-c)*(t<m)+(a*t+b*c-(m+c-t)*(m+c-t)*b/c/2)*(t>m)*(t<m+c))}"
   ]
  },
  {
   "cell_type": "code",
   "execution_count": 27,
   "id": "9c496bb2-9f49-4478-83de-3959d2f66b05",
   "metadata": {},
   "outputs": [
    {
     "data": {
      "image/png": "[encoded data removed]",
      "text/plain": [
       "Plot with title \"CDF\""
      ]
     },
     "metadata": {},
     "output_type": "display_data"
    }
   ],
   "source": [
    "N = 1000\n",
    "u<-seq(0,1,length=N)\n",
    "plot(u,cumh(u),\"l\",lwd=2,col=\"blue\",xlim=c(0,1),ylim=c(0,1),ylab=\"\",main=\"CDF\")\n"
   ]
  },
  {
   "cell_type": "markdown",
   "id": "a2b81b25-2962-4aee-a85d-fd3ea9061837",
   "metadata": {},
   "source": [
    "We define the cumulative inverse distribution as a piecewise defined function, just as we did on the definition of $h(t)$. The solution we are going to solve for each section is (where $\\omega$ is the random number and $x$ the associated value of the cumulative inverse function:\n",
    "\n",
    "- $\\omega = ax$     if     $\\omega \\in [0,a(m-c))$\n",
    "- $\\omega = ax + \\frac{b}{2c}(x-(m-c))^2$     if        $\\omega \\in [a(m-c),am+\\frac{cb}{2})$\n",
    "- $\\omega = ax + \\frac{cb}{2} + b(x-m) - \\frac{b}{2c}(x-m)^2$      if        $\\omega \\in [am+\\frac{cb}{2},a(m+c)+cb)$\n",
    "- $\\omega = ax + cb$             if        $\\omega \\in [a(m+c)+cb,1]$"
   ]
  },
  {
   "cell_type": "code",
   "execution_count": 28,
   "id": "1aeeb7bb-0523-4023-90e0-c39285d09297",
   "metadata": {},
   "outputs": [],
   "source": [
    "cumhinv <- function(y) {\n",
    "  if ((y >= 0) && (y < (a * (m - c)))) {\n",
    "    return (y / a)\n",
    "  } \n",
    "    else if (y >= a * (m - c) && y < a * m + c * b / 2) {\n",
    "    return ((sqrt(c) * sqrt(a^2 * c + 2 * a * b * c - 2 * a * b * m + 2 * b * y) - a * c - b * c + b * m) / b)\n",
    "  } \n",
    "    else if (y >= a * m + c * b / 2 && y < a * (m + c) + b*c) {\n",
    "    r = y -  (a * m + c * b / 2)\n",
    "    A <- -b/(2*c)\n",
    "    B <- a+b\n",
    "    C <- -r\n",
    "    coeficientes <- c(A,B,C)\n",
    "    raices <- polyroot(coeficientes)\n",
    "    raices <- 1/raices\n",
    "    raices_reales_positivas <- Re(raices[which(abs(Im(raices)) < 1e-8 & Re(raices) <= c)])\n",
    "    xaux <- raices_reales_positivas\n",
    "    return (xaux+m)\n",
    "  } \n",
    "    else if (y >= (a * (m + c) + b*c) && y <= 1) {\n",
    "    return ((y - b * c) / a)\n",
    "  } \n",
    "    else {\n",
    "    return (NA)  # To handle cases outside the defined range\n",
    "  }\n",
    "}"
   ]
  },
  {
   "cell_type": "markdown",
   "id": "2309e758-1b1a-41f3-a9b3-3edcb25dcf88",
   "metadata": {},
   "source": [
    "Plot of the cumulative invrse distribution. It should be the inverse function of the cumulative distribution"
   ]
  },
  {
   "cell_type": "code",
   "execution_count": 29,
   "id": "b9d6f8ea-9ba4-4d2a-b749-a1934a9e000d",
   "metadata": {},
   "outputs": [
    {
     "data": {
      "image/png": "[encoded data removed]",
      "text/plain": [
       "Plot with title \"Inverse CDF\""
      ]
     },
     "metadata": {},
     "output_type": "display_data"
    }
   ],
   "source": [
    "N = 100\n",
    "u<-seq(0,1,length=N)\n",
    "# print (calculate_xaux(u, m, cvar, a, b))\n",
    "plot(u, sapply(u, cumhinv),\"l\",lwd=2,col=\"blue\",xlim=c(0,1),ylab=\"\",main=\"Inverse CDF\")"
   ]
  },
  {
   "cell_type": "code",
   "execution_count": 30,
   "id": "da6bcfc1-5376-4ad4-96fa-72a62f4a75be",
   "metadata": {},
   "outputs": [
    {
     "data": {
      "image/png": "[encoded data removed]",
      "text/plain": [
       "Plot with title \"Beta prior\""
      ]
     },
     "metadata": {},
     "output_type": "display_data"
    }
   ],
   "source": [
    "num_samples <- 10000\n",
    "random_numbers <- runif(num_samples)\n",
    "\n",
    "# Use cumhinv function to transform the random numbers\n",
    "samples <- sapply(random_numbers, cumhinv)\n",
    "\n",
    "# Plot the histogram of generated samples\n",
    "par(mfrow = c(1, 2))  # Set up a 1x3 layout for plotting\n",
    "\n",
    "\n",
    "hist(samples, breaks = 50, freq = FALSE, main = \"Non conjugate\", xlab = \"Sample Value\", col = \"skyblue\", border = \"white\")\n",
    "betaprior <- rbeta(num_samples,alpha0,beta0)\n",
    "hist(betaprior, breaks = 50, freq = FALSE, main = \"Beta prior\", xlab = \"Sample Value\", col = \"red\", border = \"white\", xlim = c(0, 1), ylim = c(0, 5.5))\n",
    "\n",
    "par(mfrow = c(1, 1))  # Reset plotting layout"
   ]
  },
  {
   "cell_type": "markdown",
   "id": "8b06d40a-dbed-4b75-82af-fd97e2c0c648",
   "metadata": {},
   "source": [
    "As before, we compute the median, mode, expectation, standard deviation statistics: "
   ]
  },
  {
   "cell_type": "code",
   "execution_count": 31,
   "id": "47558f6a-f6e0-4a1d-939c-24d385d39539",
   "metadata": {
    "scrolled": true
   },
   "outputs": [
    {
     "data": {
      "text/html": [
       "<dl>\n",
       "\t<dt>$Median</dt>\n",
       "\t\t<dd>0.486</dd>\n",
       "\t<dt>$Mode</dt>\n",
       "\t\t<dd>0</dd>\n",
       "\t<dt>$Expectation</dt>\n",
       "\t\t<dd>0.493</dd>\n",
       "\t<dt>$Standard_Deviation</dt>\n",
       "\t\t<dd>0.204</dd>\n",
       "</dl>\n"
      ],
      "text/latex": [
       "\\begin{description}\n",
       "\\item[\\$Median] 0.486\n",
       "\\item[\\$Mode] 0\n",
       "\\item[\\$Expectation] 0.493\n",
       "\\item[\\$Standard\\_Deviation] 0.204\n",
       "\\end{description}\n"
      ],
      "text/markdown": [
       "$Median\n",
       ":   0.486\n",
       "$Mode\n",
       ":   0\n",
       "$Expectation\n",
       ":   0.493\n",
       "$Standard_Deviation\n",
       ":   0.204\n",
       "\n",
       "\n"
      ],
      "text/plain": [
       "$Median\n",
       "[1] 0.486\n",
       "\n",
       "$Mode\n",
       "[1] 0\n",
       "\n",
       "$Expectation\n",
       "[1] 0.493\n",
       "\n",
       "$Standard_Deviation\n",
       "[1] 0.204\n"
      ]
     },
     "metadata": {},
     "output_type": "display_data"
    }
   ],
   "source": [
    "array_statistics (samples)"
   ]
  },
  {
   "cell_type": "code",
   "execution_count": 32,
   "id": "40aeb2aa-23e0-4ce0-9158-fcc25b800144",
   "metadata": {
    "scrolled": true
   },
   "outputs": [
    {
     "data": {
      "text/html": [
       "<dl>\n",
       "\t<dt>$Median</dt>\n",
       "\t\t<dd>0.486</dd>\n",
       "\t<dt>$Mode</dt>\n",
       "\t\t<dd>0.01</dd>\n",
       "\t<dt>$Expectation</dt>\n",
       "\t\t<dd>0.489</dd>\n",
       "\t<dt>$Standard_Deviation</dt>\n",
       "\t\t<dd>0.206</dd>\n",
       "</dl>\n"
      ],
      "text/latex": [
       "\\begin{description}\n",
       "\\item[\\$Median] 0.486\n",
       "\\item[\\$Mode] 0.01\n",
       "\\item[\\$Expectation] 0.489\n",
       "\\item[\\$Standard\\_Deviation] 0.206\n",
       "\\end{description}\n"
      ],
      "text/markdown": [
       "$Median\n",
       ":   0.486\n",
       "$Mode\n",
       ":   0.01\n",
       "$Expectation\n",
       ":   0.489\n",
       "$Standard_Deviation\n",
       ":   0.206\n",
       "\n",
       "\n"
      ],
      "text/plain": [
       "$Median\n",
       "[1] 0.486\n",
       "\n",
       "$Mode\n",
       "[1] 0.01\n",
       "\n",
       "$Expectation\n",
       "[1] 0.489\n",
       "\n",
       "$Standard_Deviation\n",
       "[1] 0.206\n"
      ]
     },
     "metadata": {},
     "output_type": "display_data"
    }
   ],
   "source": [
    "array_statistics (betaprior)"
   ]
  },
  {
   "cell_type": "markdown",
   "id": "15a560cb-b5a8-4fc6-84c8-11049a53b0ff",
   "metadata": {},
   "source": [
    "As we can see, the expectation, median and standard deviation are quite similar, since we set $\\alpha_0, \\beta_0$ to satisfy that they have the same mean and standard deviation as the nonconjugate distribution. Knowing that we are generating numbers in a continous set, the mode has no sense at all, since the probability of getting exactly the same probability (the value) twice is 0."
   ]
  },
  {
   "cell_type": "markdown",
   "id": "03108cfa-5068-4882-8e97-e5cd6860890d",
   "metadata": {},
   "source": [
    "## 3. Simulate the posterior predictive pmf (given the observed data of 437 female births from 980 placenta previa births) with the nonconjugate piecewise linear pdf. Sample from the the discretization of the posterior pdf as in Exercise 1. Summarize the resulting simulated sample: plot the empirical pmf, compute median, mode, expectation, standard deviation. Compare the results with those obtained from the conjugate prior $\\textrm{Beta}(\\alpha_0,\\beta_0)$.\n"
   ]
  },
  {
   "cell_type": "markdown",
   "id": "b50c4673-57b2-4cce-9638-569fe32b6f10",
   "metadata": {},
   "source": [
    "Using the Bayes theorem, we can determine he posterior predictive pmf $p(\\theta | X) \\propto p(X|\\theta) · p(\\theta)$, where $p(X|\\theta)$ is the likelihood function, that in the case of a binomial problem, can be obtained as $p(X|\\theta) = \\theta ^\\alpha(1-\\theta)^\\beta$. After that, we simply normalize the obtained function"
   ]
  },
  {
   "cell_type": "code",
   "execution_count": 33,
   "id": "6140354c-956a-4c41-9fbc-4d43c81afa4d",
   "metadata": {},
   "outputs": [
    {
     "data": {
      "image/png": "[encoded data removed]",
      "text/plain": [
       "Plot with title \"Posterior PDF\""
      ]
     },
     "metadata": {},
     "output_type": "display_data"
    }
   ],
   "source": [
    "likelihood <- function(theta, alpha, beta) {\n",
    "  return (theta^alpha * (1 - theta)^beta)\n",
    "}\n",
    "\n",
    "alpha <- 437 # Number of successes\n",
    "beta <- 980-437  # Number of failures\n",
    "N = 10000\n",
    "theta <- seq(0, 1, length=N) \n",
    "\n",
    "# Calculate the unnormalized posterior distribution\n",
    "unnormalized_posterior <- likelihood(theta, alpha, beta) * h(theta)\n",
    "\n",
    "# Normalize the posterior distribution\n",
    "posterior <- N*(unnormalized_posterior / sum(unnormalized_posterior))\n",
    "\n",
    "plot(theta, posterior, type = \"l\", col = \"blue\", \n",
    "     xlab = expression(theta), ylab = \"Posterior Probability Density\",\n",
    "     main = \"Posterior PDF\")"
   ]
  },
  {
   "cell_type": "markdown",
   "id": "28485a28-39e6-44a8-b03d-db3f1734be6c",
   "metadata": {},
   "source": [
    "As we did in previous parts, we build histograms of the posterior pdf of the nonconjugate and the conjugate distributions starting from a random sample."
   ]
  },
  {
   "cell_type": "code",
   "execution_count": 34,
   "id": "60180593-ff1b-4c13-96c7-71942b63a83c",
   "metadata": {},
   "outputs": [
    {
     "data": {
      "image/png": "[encoded data removed]",
      "text/plain": [
       "Plot with title \"Beta posterior\""
      ]
     },
     "metadata": {},
     "output_type": "display_data"
    }
   ],
   "source": [
    "num_samples = 10000\n",
    "random_numbers <- runif(num_samples)\n",
    "cumposterior <- cumsum(posterior/N)\n",
    "\n",
    "# Find the index of the last value in cumposterior that is smaller than each value in the set\n",
    "indices <- sapply(random_numbers, function(value) {\n",
    "  idx <- max(which(cumposterior <= value))\n",
    "  if (is.infinite(idx)) {\n",
    "    print (value)\n",
    "    print(\"No valid index found.\")\n",
    "    return(0)  # Return 0 if no valid index is found\n",
    "  } else {\n",
    "    return(idx)\n",
    "  }\n",
    "})\n",
    "\n",
    "results <- indices / num_samples\n",
    "par(mfrow = c(1, 2))\n",
    "\n",
    "hist(results, breaks = 50, freq = FALSE, main = \"Non conjugate\", xlab = \"Sample Value\", col = \"skyblue\", border = \"white\", xlim = c(0.38, 0.52), ylim = c(0, 25))\n",
    "beta_posterior <- rbeta(num_samples,alpha0_posterior,beta0_posterior)\n",
    "hist(beta_posterior, breaks = 50, freq = FALSE, main = \"Beta posterior\", xlab = \"Sample Value\", col = \"red\", border = \"white\", xlim = c(0.38, 0.52), ylim = c(0, 25))\n",
    "\n",
    "par(mfrow = c(1, 1)) "
   ]
  },
  {
   "cell_type": "markdown",
   "id": "eeabc20c-2084-443d-a9cd-fd5d9a6ebff2",
   "metadata": {},
   "source": [
    "Finally, we show once again the mean, standard deviation, mode and median. As we could notice, since the posterior probability distributions are quite similar, one can expect that these variables would be similar too."
   ]
  },
  {
   "cell_type": "code",
   "execution_count": 35,
   "id": "91665d5b-c1d4-4ef5-865d-14960f8fa99f",
   "metadata": {},
   "outputs": [
    {
     "data": {
      "text/html": [
       "<dl>\n",
       "\t<dt>$Median</dt>\n",
       "\t\t<dd>0.45</dd>\n",
       "\t<dt>$Mode</dt>\n",
       "\t\t<dd>0.444</dd>\n",
       "\t<dt>$Expectation</dt>\n",
       "\t\t<dd>0.449</dd>\n",
       "\t<dt>$Standard_Deviation</dt>\n",
       "\t\t<dd>0.015</dd>\n",
       "</dl>\n"
      ],
      "text/latex": [
       "\\begin{description}\n",
       "\\item[\\$Median] 0.45\n",
       "\\item[\\$Mode] 0.444\n",
       "\\item[\\$Expectation] 0.449\n",
       "\\item[\\$Standard\\_Deviation] 0.015\n",
       "\\end{description}\n"
      ],
      "text/markdown": [
       "$Median\n",
       ":   0.45\n",
       "$Mode\n",
       ":   0.444\n",
       "$Expectation\n",
       ":   0.449\n",
       "$Standard_Deviation\n",
       ":   0.015\n",
       "\n",
       "\n"
      ],
      "text/plain": [
       "$Median\n",
       "[1] 0.45\n",
       "\n",
       "$Mode\n",
       "[1] 0.444\n",
       "\n",
       "$Expectation\n",
       "[1] 0.449\n",
       "\n",
       "$Standard_Deviation\n",
       "[1] 0.015\n"
      ]
     },
     "metadata": {},
     "output_type": "display_data"
    }
   ],
   "source": [
    "array_statistics(results)"
   ]
  },
  {
   "cell_type": "code",
   "execution_count": 36,
   "id": "b57780f7-a454-4dcc-aa41-23af0404416e",
   "metadata": {},
   "outputs": [
    {
     "data": {
      "text/html": [
       "<dl>\n",
       "\t<dt>$Median</dt>\n",
       "\t\t<dd>0.446</dd>\n",
       "\t<dt>$Mode</dt>\n",
       "\t\t<dd>0.382</dd>\n",
       "\t<dt>$Expectation</dt>\n",
       "\t\t<dd>0.447</dd>\n",
       "\t<dt>$Standard_Deviation</dt>\n",
       "\t\t<dd>0.016</dd>\n",
       "</dl>\n"
      ],
      "text/latex": [
       "\\begin{description}\n",
       "\\item[\\$Median] 0.446\n",
       "\\item[\\$Mode] 0.382\n",
       "\\item[\\$Expectation] 0.447\n",
       "\\item[\\$Standard\\_Deviation] 0.016\n",
       "\\end{description}\n"
      ],
      "text/markdown": [
       "$Median\n",
       ":   0.446\n",
       "$Mode\n",
       ":   0.382\n",
       "$Expectation\n",
       ":   0.447\n",
       "$Standard_Deviation\n",
       ":   0.016\n",
       "\n",
       "\n"
      ],
      "text/plain": [
       "$Median\n",
       "[1] 0.446\n",
       "\n",
       "$Mode\n",
       "[1] 0.382\n",
       "\n",
       "$Expectation\n",
       "[1] 0.447\n",
       "\n",
       "$Standard_Deviation\n",
       "[1] 0.016\n"
      ]
     },
     "metadata": {},
     "output_type": "display_data"
    }
   ],
   "source": [
    "array_statistics(beta_posterior)"
   ]
  },
  {
   "cell_type": "markdown",
   "id": "9c34f71a",
   "metadata": {
    "id": "9c34f71a"
   },
   "source": [
    "## Exercise 2: Asthma mortality\n",
    "\n",
    "This exercise pertains to `Poisson.01.pub.ipynb` (lecture 7). Review this notebook as well as the notes concerning the Poisson model and do the following:\n",
    "\n",
    " 1. Generate a sample from the prior predictive distribution.\n",
    "\n",
    " 2. Generate a sample from the posterior predictive distribution after the first experiment (with $y=3$ after one year in a population of 200,000).\n",
    "\n",
    "In both cases plot the simulated pmf and compare it with the theoretical one and estimate the probability of having more than 25 fatalities in the next 10 years (assuming all other conditions remain constant)."
   ]
  },
  {
   "cell_type": "markdown",
   "id": "91b55fca-3385-450d-b0cb-710230d8b205",
   "metadata": {},
   "source": [
    "## 1. Generate a sample from the prior predictive distribution."
   ]
  },
  {
   "cell_type": "markdown",
   "id": "4ff5349e-fda6-4d9b-8294-5d3640e45a27",
   "metadata": {},
   "source": [
    "Let us start computing a sample from the prior predictive distribution and compare it with the theoretical one. We will set the number of the sample to $10000$."
   ]
  },
  {
   "cell_type": "code",
   "execution_count": 37,
   "id": "4737a511-9de0-4979-b879-809df7a8af7a",
   "metadata": {},
   "outputs": [
    {
     "data": {
      "image/png": "[encoded data removed]",
      "text/plain": [
       "Plot with title \"Histogram of Prior Predictive Distribution\""
      ]
     },
     "metadata": {},
     "output_type": "display_data"
    }
   ],
   "source": [
    "#EXERCISE 2.1: Prior Predictive Distribution.\n",
    "\n",
    "library(stats)\n",
    "library(graphics)\n",
    "set.seed(42)\n",
    "\n",
    "#Prior distribution parameters according to theta~Gamma(alpha,beta) such that Gamma.expectation = alpha/beta = 0.6\n",
    "N <- 10000\n",
    "alpha_prior <- 3\n",
    "beta_prior <- 5\n",
    "\n",
    "#Sample and histogram of the prior distribution\n",
    "prior <- rgamma(N,alpha_prior,beta_prior)\n",
    "\n",
    "hist(prior, col=\"LightGreen\", freq=FALSE, xlab=expression(theta), cex.lab=1.5,\n",
    "     main=\"Histogram of Prior Predictive Distribution\", cex.main=1.8)\n",
    "\n",
    "#The theoretical prior distribution\n",
    "curve(dgamma(x, alpha_prior,beta_prior), add = TRUE, col = \"red\", lwd = 2, lty = 2)\n",
    "\n",
    "legend(\"topright\", legend=c(\"Sampled Prior\", \"Theoretical Prior\"), \n",
    "       col=c(\"lightgreen\", \"red\"), lwd=2, lty=c(1,2))"
   ]
  },
  {
   "cell_type": "markdown",
   "id": "f979c345-2f65-4d1e-afe5-edbc88ffd475",
   "metadata": {},
   "source": [
    "Let us see what are the mean and variance of the prior distribution:"
   ]
  },
  {
   "cell_type": "code",
   "execution_count": 38,
   "id": "e956f293-c54b-4861-bf4e-33e897415ceb",
   "metadata": {},
   "outputs": [
    {
     "name": "stdout",
     "output_type": "stream",
     "text": [
      "The mean of the prior is: 0.6 with a variance of 0.12"
     ]
    }
   ],
   "source": [
    "prior_mean <- alpha_prior/beta_prior\n",
    "prior_var <- alpha_prior/beta_prior^2\n",
    "cat(\"The mean of the prior is:\", round(prior_mean,2), \"with a variance of\", round(prior_var,2))"
   ]
  },
  {
   "cell_type": "markdown",
   "id": "4f811faa-4dcb-4836-8789-9c235bb3ca35",
   "metadata": {},
   "source": [
    "In order to estimate the probability of having more than $25$ fatalities in the text $10$ years we will consider the $\\theta$ values from the prior distribution ($2$ times) as the $\\lambda$ parameter of our $Poisson$ distribution. As in every year (among the $10$ years) we assume that all the conditions remain constant, we will generate $10$ samples of the $Poisson$ distribution, and repeat this for every $\\lambda$ value obtained before (so $N = 10000$ times). Once this calculated, we will add up all the deaths within these $10$ years (per each $\\lambda$, so each row) and finally calcuate how many times (the sum) is greater than $25$.\n"
   ]
  },
  {
   "cell_type": "code",
   "execution_count": 39,
   "id": "f394e54a-3625-4144-93bf-a68b8809b3d2",
   "metadata": {},
   "outputs": [
    {
     "name": "stdout",
     "output_type": "stream",
     "text": [
      "The estimated probability of having more than 25 fatalities in the next 10 years is: 0.0632"
     ]
    }
   ],
   "source": [
    "lambda <- 2*prior\n",
    "years <- 10 \n",
    "matrix <- replicate(years, rpois(N, lambda))\n",
    "pois_results <- rowSums(matrix)\n",
    "probability <- mean(pois_results > 25)\n",
    "cat(\"The estimated probability of having more than 25 fatalities in the next 10 years is:\" ,probability)"
   ]
  },
  {
   "cell_type": "markdown",
   "id": "c1eead65-a950-413a-af6c-6d4cbbd62f0e",
   "metadata": {},
   "source": [
    "## 2. Generate a sample from the posterior predictive distribution after the first experiment (with $y=3$ after one year in a population of 200,000)."
   ]
  },
  {
   "cell_type": "markdown",
   "id": "098ca8b9-b4c5-44da-b0ce-4b4888e54d7e",
   "metadata": {},
   "source": [
    "Recall that the posterior distribution of $\\theta$ for a $\\textrm{Gamma}(\\alpha,\\beta)$ prior distribution is $\\textrm{Gamma}(\\alpha_{1},\\beta_{1})$,\n",
    "\n",
    "$$\n",
    "    \\left\\{\\begin{array}{lcl}\n",
    "    \\alpha_{1} &= &\\alpha+y,\\\\[0.2cm]\n",
    "    \\beta_{1}  &=&\\beta+x.\n",
    "    \\end{array}\\right.\n",
    "$$\n",
    "\n",
    "With the prior distribution and data described notation, ($y = 3$, $x = 2.0$), the posterior distribution for $\\theta$ is $\\textrm{Gamma}(6.0, 7.0)$."
   ]
  },
  {
   "cell_type": "code",
   "execution_count": 40,
   "id": "20fcbc45-2943-403c-9dd9-7daf3675d104",
   "metadata": {},
   "outputs": [
    {
     "data": {
      "image/png": "[encoded data removed]",
      "text/plain": [
       "Plot with title \"Histogram of Prior Predictive Distribution\""
      ]
     },
     "metadata": {},
     "output_type": "display_data"
    }
   ],
   "source": [
    "#EXERCISE 2.2: Posterior Predictive Distribution.\n",
    "\n",
    "N<- 10000\n",
    "y<- 3\n",
    "x_1 <- 2 #since theta is defined in units of 100,000 people\n",
    "\n",
    "alpha_posterior <- alpha_prior + y\n",
    "beta_posterior <- beta_prior + x_1\n",
    "\n",
    "#Sample and histogram of the posterior predictive distribution\n",
    "posterior <- rgamma(N, alpha_posterior, beta_posterior)\n",
    "options(repr.plot.width=7,repr.plot.height=6)\n",
    "hist(posterior,col=\"LightGreen\",freq=FALSE,  xlab=expression(theta), main=\"Histogram of Prior Predictive Distribution\",cex.main=1.8)\n",
    "#The theoretical posterior distribution\n",
    "curve(dgamma(x, alpha_posterior,beta_posterior), add = TRUE, col = \"red\", lwd = 2, lty = 2)\n",
    "\n",
    "legend(\"topright\", legend=c(\"Sampled Posterior\", \"Theoretical Posterior\"), \n",
    "       col=c(\"lightgreen\", \"red\"), lwd=2, lty=c(1,2))"
   ]
  },
  {
   "cell_type": "markdown",
   "id": "5515765e-5763-47a0-9eed-7f1c65ff7737",
   "metadata": {},
   "source": [
    "Let us see what are the mean and variance of the posterior distribution:"
   ]
  },
  {
   "cell_type": "code",
   "execution_count": 41,
   "id": "79a3673b-a437-43b5-a83c-d3176cadac6e",
   "metadata": {},
   "outputs": [
    {
     "name": "stdout",
     "output_type": "stream",
     "text": [
      "The mean of the prior is: 0.86 with a variance of 0.12"
     ]
    }
   ],
   "source": [
    "posterior_mean <- alpha_posterior/beta_posterior\n",
    "posterior_var <- alpha_posterior/(beta_posterior)^2\n",
    "cat(\"The mean of the prior is:\", round(posterior_mean,2), \"with a variance of\", round(posterior_var,2))"
   ]
  },
  {
   "cell_type": "markdown",
   "id": "4f487176-8f19-4c69-8ead-6ac8acea3ef6",
   "metadata": {},
   "source": [
    "Note that the mean of this distribution is greater than the previous one. We expected this result because now we are adding the observed evidence, where the fatalitites after one year are 3. Hence, we expect again to obtain a higher probability with this distribution than before. Let us check it. We will repeat the same methodology than before: "
   ]
  },
  {
   "cell_type": "code",
   "execution_count": 42,
   "id": "ad0102f9-d3de-424e-b385-22330f2116da",
   "metadata": {},
   "outputs": [
    {
     "name": "stdout",
     "output_type": "stream",
     "text": [
      "The estimated probability of having more than 25 fatalities in the next 10 years is: 0.147"
     ]
    }
   ],
   "source": [
    "lambda <- 2*posterior\n",
    "years <- 10 \n",
    "matrix <- replicate(years, rpois(N, lambda))\n",
    "pois_results <- rowSums(matrix)\n",
    "probability <- mean(pois_results > 25)\n",
    "cat(\"The estimated probability of having more than 25 fatalities in the next 10 years is:\" ,probability)"
   ]
  }
 ],
 "metadata": {
  "colab": {
   "provenance": []
  },
  "kernelspec": {
   "display_name": "R",
   "language": "R",
   "name": "ir"
  },
  "language_info": {
   "codemirror_mode": "r",
   "file_extension": ".r",
   "mimetype": "text/x-r-source",
   "name": "R",
   "pygments_lexer": "r",
   "version": "3.6.1"
  }
 },
 "nbformat": 4,
 "nbformat_minor": 5
}
