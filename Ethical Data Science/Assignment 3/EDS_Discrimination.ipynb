{
  "nbformat": 4,
  "nbformat_minor": 0,
  "metadata": {
    "colab": {
      "provenance": []
    },
    "kernelspec": {
      "name": "python3",
      "display_name": "Python 3"
    },
    "language_info": {
      "name": "python"
    }
  },
  "cells": [
    {
      "cell_type": "code",
      "source": [
        "# download the file 'problem_set_1_data.csv'\n",
        "# and the execute this cell\n",
        "\n",
        "import pandas as pd\n",
        "data = pd.read_csv('problem_set_1_data.csv')\n",
        "data"
      ],
      "metadata": {
        "colab": {
          "base_uri": "https://localhost:8080/",
          "height": 424
        },
        "id": "KhqosZPveWzP",
        "outputId": "211b4760-69a5-4ad2-8106-fdbaa4efdbe5"
      },
      "execution_count": 7,
      "outputs": [
        {
          "output_type": "execute_result",
          "data": {
            "text/plain": [
              "       group  outcome         x1         x2\n",
              "0          1     True  14.510771  19.431799\n",
              "1          0    False  11.404356   3.332700\n",
              "2          1    False  10.526163   4.323102\n",
              "3          1     True  10.841790  21.453620\n",
              "4          0    False  -1.902080 -10.871900\n",
              "...      ...      ...        ...        ...\n",
              "19995      1    False   8.816086  10.895516\n",
              "19996      1    False  10.790022   4.843957\n",
              "19997      0    False  12.043766   5.087219\n",
              "19998      1     True  22.548743  17.227402\n",
              "19999      1     True  11.222903   1.832528\n",
              "\n",
              "[20000 rows x 4 columns]"
            ],
            "text/html": [
              "\n",
              "  <div id=\"df-7bd9b131-b502-4c7a-996c-bbc50d36933c\" class=\"colab-df-container\">\n",
              "    <div>\n",
              "<style scoped>\n",
              "    .dataframe tbody tr th:only-of-type {\n",
              "        vertical-align: middle;\n",
              "    }\n",
              "\n",
              "    .dataframe tbody tr th {\n",
              "        vertical-align: top;\n",
              "    }\n",
              "\n",
              "    .dataframe thead th {\n",
              "        text-align: right;\n",
              "    }\n",
              "</style>\n",
              "<table border=\"1\" class=\"dataframe\">\n",
              "  <thead>\n",
              "    <tr style=\"text-align: right;\">\n",
              "      <th></th>\n",
              "      <th>group</th>\n",
              "      <th>outcome</th>\n",
              "      <th>x1</th>\n",
              "      <th>x2</th>\n",
              "    </tr>\n",
              "  </thead>\n",
              "  <tbody>\n",
              "    <tr>\n",
              "      <th>0</th>\n",
              "      <td>1</td>\n",
              "      <td>True</td>\n",
              "      <td>14.510771</td>\n",
              "      <td>19.431799</td>\n",
              "    </tr>\n",
              "    <tr>\n",
              "      <th>1</th>\n",
              "      <td>0</td>\n",
              "      <td>False</td>\n",
              "      <td>11.404356</td>\n",
              "      <td>3.332700</td>\n",
              "    </tr>\n",
              "    <tr>\n",
              "      <th>2</th>\n",
              "      <td>1</td>\n",
              "      <td>False</td>\n",
              "      <td>10.526163</td>\n",
              "      <td>4.323102</td>\n",
              "    </tr>\n",
              "    <tr>\n",
              "      <th>3</th>\n",
              "      <td>1</td>\n",
              "      <td>True</td>\n",
              "      <td>10.841790</td>\n",
              "      <td>21.453620</td>\n",
              "    </tr>\n",
              "    <tr>\n",
              "      <th>4</th>\n",
              "      <td>0</td>\n",
              "      <td>False</td>\n",
              "      <td>-1.902080</td>\n",
              "      <td>-10.871900</td>\n",
              "    </tr>\n",
              "    <tr>\n",
              "      <th>...</th>\n",
              "      <td>...</td>\n",
              "      <td>...</td>\n",
              "      <td>...</td>\n",
              "      <td>...</td>\n",
              "    </tr>\n",
              "    <tr>\n",
              "      <th>19995</th>\n",
              "      <td>1</td>\n",
              "      <td>False</td>\n",
              "      <td>8.816086</td>\n",
              "      <td>10.895516</td>\n",
              "    </tr>\n",
              "    <tr>\n",
              "      <th>19996</th>\n",
              "      <td>1</td>\n",
              "      <td>False</td>\n",
              "      <td>10.790022</td>\n",
              "      <td>4.843957</td>\n",
              "    </tr>\n",
              "    <tr>\n",
              "      <th>19997</th>\n",
              "      <td>0</td>\n",
              "      <td>False</td>\n",
              "      <td>12.043766</td>\n",
              "      <td>5.087219</td>\n",
              "    </tr>\n",
              "    <tr>\n",
              "      <th>19998</th>\n",
              "      <td>1</td>\n",
              "      <td>True</td>\n",
              "      <td>22.548743</td>\n",
              "      <td>17.227402</td>\n",
              "    </tr>\n",
              "    <tr>\n",
              "      <th>19999</th>\n",
              "      <td>1</td>\n",
              "      <td>True</td>\n",
              "      <td>11.222903</td>\n",
              "      <td>1.832528</td>\n",
              "    </tr>\n",
              "  </tbody>\n",
              "</table>\n",
              "<p>20000 rows × 4 columns</p>\n",
              "</div>\n",
              "    <div class=\"colab-df-buttons\">\n",
              "\n",
              "  <div class=\"colab-df-container\">\n",
              "    <button class=\"colab-df-convert\" onclick=\"convertToInteractive('df-7bd9b131-b502-4c7a-996c-bbc50d36933c')\"\n",
              "            title=\"Convert this dataframe to an interactive table.\"\n",
              "            style=\"display:none;\">\n",
              "\n",
              "  <svg xmlns=\"http://www.w3.org/2000/svg\" height=\"24px\" viewBox=\"0 -960 960 960\">\n",
              "    <path d=\"M120-120v-720h720v720H120Zm60-500h600v-160H180v160Zm220 220h160v-160H400v160Zm0 220h160v-160H400v160ZM180-400h160v-160H180v160Zm440 0h160v-160H620v160ZM180-180h160v-160H180v160Zm440 0h160v-160H620v160Z\"/>\n",
              "  </svg>\n",
              "    </button>\n",
              "\n",
              "  <style>\n",
              "    .colab-df-container {\n",
              "      display:flex;\n",
              "      gap: 12px;\n",
              "    }\n",
              "\n",
              "    .colab-df-convert {\n",
              "      background-color: #E8F0FE;\n",
              "      border: none;\n",
              "      border-radius: 50%;\n",
              "      cursor: pointer;\n",
              "      display: none;\n",
              "      fill: #1967D2;\n",
              "      height: 32px;\n",
              "      padding: 0 0 0 0;\n",
              "      width: 32px;\n",
              "    }\n",
              "\n",
              "    .colab-df-convert:hover {\n",
              "      background-color: #E2EBFA;\n",
              "      box-shadow: 0px 1px 2px rgba(60, 64, 67, 0.3), 0px 1px 3px 1px rgba(60, 64, 67, 0.15);\n",
              "      fill: #174EA6;\n",
              "    }\n",
              "\n",
              "    .colab-df-buttons div {\n",
              "      margin-bottom: 4px;\n",
              "    }\n",
              "\n",
              "    [theme=dark] .colab-df-convert {\n",
              "      background-color: #3B4455;\n",
              "      fill: #D2E3FC;\n",
              "    }\n",
              "\n",
              "    [theme=dark] .colab-df-convert:hover {\n",
              "      background-color: #434B5C;\n",
              "      box-shadow: 0px 1px 3px 1px rgba(0, 0, 0, 0.15);\n",
              "      filter: drop-shadow(0px 1px 2px rgba(0, 0, 0, 0.3));\n",
              "      fill: #FFFFFF;\n",
              "    }\n",
              "  </style>\n",
              "\n",
              "    <script>\n",
              "      const buttonEl =\n",
              "        document.querySelector('#df-7bd9b131-b502-4c7a-996c-bbc50d36933c button.colab-df-convert');\n",
              "      buttonEl.style.display =\n",
              "        google.colab.kernel.accessAllowed ? 'block' : 'none';\n",
              "\n",
              "      async function convertToInteractive(key) {\n",
              "        const element = document.querySelector('#df-7bd9b131-b502-4c7a-996c-bbc50d36933c');\n",
              "        const dataTable =\n",
              "          await google.colab.kernel.invokeFunction('convertToInteractive',\n",
              "                                                    [key], {});\n",
              "        if (!dataTable) return;\n",
              "\n",
              "        const docLinkHtml = 'Like what you see? Visit the ' +\n",
              "          '<a target=\"_blank\" href=https://colab.research.google.com/notebooks/data_table.ipynb>data table notebook</a>'\n",
              "          + ' to learn more about interactive tables.';\n",
              "        element.innerHTML = '';\n",
              "        dataTable['output_type'] = 'display_data';\n",
              "        await google.colab.output.renderOutput(dataTable, element);\n",
              "        const docLink = document.createElement('div');\n",
              "        docLink.innerHTML = docLinkHtml;\n",
              "        element.appendChild(docLink);\n",
              "      }\n",
              "    </script>\n",
              "  </div>\n",
              "\n",
              "\n",
              "<div id=\"df-e54c477c-a7ec-4de0-9ad7-0ea78e941668\">\n",
              "  <button class=\"colab-df-quickchart\" onclick=\"quickchart('df-e54c477c-a7ec-4de0-9ad7-0ea78e941668')\"\n",
              "            title=\"Suggest charts\"\n",
              "            style=\"display:none;\">\n",
              "\n",
              "<svg xmlns=\"http://www.w3.org/2000/svg\" height=\"24px\"viewBox=\"0 0 24 24\"\n",
              "     width=\"24px\">\n",
              "    <g>\n",
              "        <path d=\"M19 3H5c-1.1 0-2 .9-2 2v14c0 1.1.9 2 2 2h14c1.1 0 2-.9 2-2V5c0-1.1-.9-2-2-2zM9 17H7v-7h2v7zm4 0h-2V7h2v10zm4 0h-2v-4h2v4z\"/>\n",
              "    </g>\n",
              "</svg>\n",
              "  </button>\n",
              "\n",
              "<style>\n",
              "  .colab-df-quickchart {\n",
              "      --bg-color: #E8F0FE;\n",
              "      --fill-color: #1967D2;\n",
              "      --hover-bg-color: #E2EBFA;\n",
              "      --hover-fill-color: #174EA6;\n",
              "      --disabled-fill-color: #AAA;\n",
              "      --disabled-bg-color: #DDD;\n",
              "  }\n",
              "\n",
              "  [theme=dark] .colab-df-quickchart {\n",
              "      --bg-color: #3B4455;\n",
              "      --fill-color: #D2E3FC;\n",
              "      --hover-bg-color: #434B5C;\n",
              "      --hover-fill-color: #FFFFFF;\n",
              "      --disabled-bg-color: #3B4455;\n",
              "      --disabled-fill-color: #666;\n",
              "  }\n",
              "\n",
              "  .colab-df-quickchart {\n",
              "    background-color: var(--bg-color);\n",
              "    border: none;\n",
              "    border-radius: 50%;\n",
              "    cursor: pointer;\n",
              "    display: none;\n",
              "    fill: var(--fill-color);\n",
              "    height: 32px;\n",
              "    padding: 0;\n",
              "    width: 32px;\n",
              "  }\n",
              "\n",
              "  .colab-df-quickchart:hover {\n",
              "    background-color: var(--hover-bg-color);\n",
              "    box-shadow: 0 1px 2px rgba(60, 64, 67, 0.3), 0 1px 3px 1px rgba(60, 64, 67, 0.15);\n",
              "    fill: var(--button-hover-fill-color);\n",
              "  }\n",
              "\n",
              "  .colab-df-quickchart-complete:disabled,\n",
              "  .colab-df-quickchart-complete:disabled:hover {\n",
              "    background-color: var(--disabled-bg-color);\n",
              "    fill: var(--disabled-fill-color);\n",
              "    box-shadow: none;\n",
              "  }\n",
              "\n",
              "  .colab-df-spinner {\n",
              "    border: 2px solid var(--fill-color);\n",
              "    border-color: transparent;\n",
              "    border-bottom-color: var(--fill-color);\n",
              "    animation:\n",
              "      spin 1s steps(1) infinite;\n",
              "  }\n",
              "\n",
              "  @keyframes spin {\n",
              "    0% {\n",
              "      border-color: transparent;\n",
              "      border-bottom-color: var(--fill-color);\n",
              "      border-left-color: var(--fill-color);\n",
              "    }\n",
              "    20% {\n",
              "      border-color: transparent;\n",
              "      border-left-color: var(--fill-color);\n",
              "      border-top-color: var(--fill-color);\n",
              "    }\n",
              "    30% {\n",
              "      border-color: transparent;\n",
              "      border-left-color: var(--fill-color);\n",
              "      border-top-color: var(--fill-color);\n",
              "      border-right-color: var(--fill-color);\n",
              "    }\n",
              "    40% {\n",
              "      border-color: transparent;\n",
              "      border-right-color: var(--fill-color);\n",
              "      border-top-color: var(--fill-color);\n",
              "    }\n",
              "    60% {\n",
              "      border-color: transparent;\n",
              "      border-right-color: var(--fill-color);\n",
              "    }\n",
              "    80% {\n",
              "      border-color: transparent;\n",
              "      border-right-color: var(--fill-color);\n",
              "      border-bottom-color: var(--fill-color);\n",
              "    }\n",
              "    90% {\n",
              "      border-color: transparent;\n",
              "      border-bottom-color: var(--fill-color);\n",
              "    }\n",
              "  }\n",
              "</style>\n",
              "\n",
              "  <script>\n",
              "    async function quickchart(key) {\n",
              "      const quickchartButtonEl =\n",
              "        document.querySelector('#' + key + ' button');\n",
              "      quickchartButtonEl.disabled = true;  // To prevent multiple clicks.\n",
              "      quickchartButtonEl.classList.add('colab-df-spinner');\n",
              "      try {\n",
              "        const charts = await google.colab.kernel.invokeFunction(\n",
              "            'suggestCharts', [key], {});\n",
              "      } catch (error) {\n",
              "        console.error('Error during call to suggestCharts:', error);\n",
              "      }\n",
              "      quickchartButtonEl.classList.remove('colab-df-spinner');\n",
              "      quickchartButtonEl.classList.add('colab-df-quickchart-complete');\n",
              "    }\n",
              "    (() => {\n",
              "      let quickchartButtonEl =\n",
              "        document.querySelector('#df-e54c477c-a7ec-4de0-9ad7-0ea78e941668 button');\n",
              "      quickchartButtonEl.style.display =\n",
              "        google.colab.kernel.accessAllowed ? 'block' : 'none';\n",
              "    })();\n",
              "  </script>\n",
              "</div>\n",
              "    </div>\n",
              "  </div>\n"
            ],
            "application/vnd.google.colaboratory.intrinsic+json": {
              "type": "dataframe",
              "variable_name": "data",
              "summary": "{\n  \"name\": \"data\",\n  \"rows\": 20000,\n  \"fields\": [\n    {\n      \"column\": \"group\",\n      \"properties\": {\n        \"dtype\": \"number\",\n        \"std\": 0,\n        \"min\": 0,\n        \"max\": 1,\n        \"num_unique_values\": 2,\n        \"samples\": [\n          0,\n          1\n        ],\n        \"semantic_type\": \"\",\n        \"description\": \"\"\n      }\n    },\n    {\n      \"column\": \"outcome\",\n      \"properties\": {\n        \"dtype\": \"boolean\",\n        \"num_unique_values\": 2,\n        \"samples\": [\n          false,\n          true\n        ],\n        \"semantic_type\": \"\",\n        \"description\": \"\"\n      }\n    },\n    {\n      \"column\": \"x1\",\n      \"properties\": {\n        \"dtype\": \"number\",\n        \"std\": 7.4913207009136045,\n        \"min\": -20.626074514014636,\n        \"max\": 43.62361730111043,\n        \"num_unique_values\": 20000,\n        \"samples\": [\n          12.793518065172824,\n          5.786215935274974\n        ],\n        \"semantic_type\": \"\",\n        \"description\": \"\"\n      }\n    },\n    {\n      \"column\": \"x2\",\n      \"properties\": {\n        \"dtype\": \"number\",\n        \"std\": 7.03597880055695,\n        \"min\": -19.168318196905663,\n        \"max\": 38.48731841838318,\n        \"num_unique_values\": 20000,\n        \"samples\": [\n          12.621871159302064,\n          9.78041043781194\n        ],\n        \"semantic_type\": \"\",\n        \"description\": \"\"\n      }\n    }\n  ]\n}"
            }
          },
          "metadata": {},
          "execution_count": 7
        }
      ]
    },
    {
      "cell_type": "markdown",
      "source": [
        "For this problem we’ll use the toy dataset ``problem_set_1_data.csv`. Each row represents a person belonging to one of two demographic groups, denoted by the binary group variable. The task is to predict the binary out­come variable using the continuous features $x_1$ and $x_2$, and possibly also using group.\n",
        "\n",
        "Given a classifier $f$ and a dataset $D$, let’s define the demographic disparity of the classifier as the absolute difference in the probability of positive classification for the two groups:\n",
        "\n",
        "$$ |P(\\hat Y = 1|X\\in G^+) - P(\\hat Y = 1|X\\in G^-)|$$\n",
        "\n",
        "Disparity varies from 0 to 1. If it is 0, we say that the classifier satisfies demographic parity.\n",
        "\n",
        "**Notes and hints**:\n",
        "+ Partition the data into training and validation sets, and report all accuracies and disparities on the validation set. You might want to use k-fold cross validation.\n",
        "+ Report any regularization parameter that you used for logistic regression.\n",
        "+ The choice of ML library, etc. is up to you.\n"
      ],
      "metadata": {
        "id": "uh5eqK1ibSzd"
      }
    },
    {
      "cell_type": "markdown",
      "source": [
        "1. Train a logistic regression classifier to predict outcome given $x_1$ and $x_2$. Report its accuracy and demographic disparity. Accuracy refers to the fraction of instances classified correctly."
      ],
      "metadata": {
        "id": "6imrU0IccLyu"
      }
    },
    {
      "cell_type": "code",
      "source": [
        "# your code here"
      ],
      "metadata": {
        "id": "bH9dNC25bWir"
      },
      "execution_count": 2,
      "outputs": []
    },
    {
      "cell_type": "markdown",
      "source": [
        "2. One of the features $x_1$ and $_2$ is a proxy for group membership (i.e., it correlates with group). Which feature is it? Train a classifier without that feature (i.e., using only a single feature). Report the accuracy and demographic disparity."
      ],
      "metadata": {
        "id": "dyhcl_eVcVkb"
      }
    },
    {
      "cell_type": "code",
      "source": [
        "# your code here"
      ],
      "metadata": {
        "id": "V-o3smOdceq9"
      },
      "execution_count": 3,
      "outputs": []
    },
    {
      "cell_type": "markdown",
      "source": [
        "3. Suppose we wish to achieve a tunable tradeoff between accuracy and demographic disparity. One way to do this is to add a term to the loss function that measures the disparity of $f$. Write a formula for such a loss function term and explain it.\n",
        "\n",
        "**Notes and hints**:\n",
        "The training set disparity is a good start, but it is tough to optimize because it has discontinuities when a training point falls on the decision boundary. Can you come up with a continuous analog of the training set disparity?"
      ],
      "metadata": {
        "id": "xLEPeNFScjJX"
      }
    },
    {
      "cell_type": "markdown",
      "source": [
        "ANSWER: $Loss = $"
      ],
      "metadata": {
        "id": "MyMH76mqcr99"
      }
    },
    {
      "cell_type": "markdown",
      "source": [
        "4. Train a model with this loss function.  Gradually vary the strength of this disparity term in the loss function and optimize the resulting loss function each time. Use this to plot a curve showing the achievable tradeoff between accuracy (on the $y$-axis) and disparity (on the $x$-axis).\n",
        "\n",
        "**Notes and hints**:\n",
        "When the disparity strength is 0, you should recover the accuracy that you reported for part (1).\n",
        "\n",
        "\n"
      ],
      "metadata": {
        "id": "wNlMGoUucwOs"
      }
    },
    {
      "cell_type": "code",
      "source": [
        "# your code here"
      ],
      "metadata": {
        "id": "yKK9Am2IdQQw"
      },
      "execution_count": null,
      "outputs": []
    },
    {
      "cell_type": "markdown",
      "source": [
        "5. Repeat part (4), but with group as an additional feature (i.e., train a classifier to predict outcome based on $x_1$, $x_2$, and $group$, using the modified loss function).\n"
      ],
      "metadata": {
        "id": "-yTaBAKZdYvL"
      }
    },
    {
      "cell_type": "code",
      "source": [
        "# your code here"
      ],
      "metadata": {
        "id": "uBqEBrY2dmLP"
      },
      "execution_count": null,
      "outputs": []
    },
    {
      "cell_type": "markdown",
      "source": [
        "6.  In parts (4) and (5), how do the coefficients of $x_1$, $x_2$, and $group$ change as the strength of the disparity term in the loss function increases? Give an intuitive explanation for why the coefficients change the way they do.\n"
      ],
      "metadata": {
        "id": "6zFIVV3idmlI"
      }
    },
    {
      "cell_type": "markdown",
      "source": [
        "ANSWER:"
      ],
      "metadata": {
        "id": "RJeZRg1WdxAy"
      }
    },
    {
      "cell_type": "markdown",
      "source": [
        "7. Comparing your accuracy-vs-disparity curves in parts (4) and (5), which option gives a better tradeoff: using $group$ or not using $group$?\n"
      ],
      "metadata": {
        "id": "LTSt2xo_dzbx"
      }
    },
    {
      "cell_type": "markdown",
      "source": [
        "ANSWER:"
      ],
      "metadata": {
        "id": "HnjW4w6Vd9_g"
      }
    },
    {
      "cell_type": "markdown",
      "source": [
        "8. Describe a decision-making scenario that might have led to this toy problem. Specifically, state what the outcome, $x_1$, $x_2$, and $group$ variables are. In this scenario, describe which classifier (if any) would you use and what factors would you consider in making your choice.\n"
      ],
      "metadata": {
        "id": "kM3xrIIkd_ts"
      }
    },
    {
      "cell_type": "markdown",
      "source": [
        "ANSWER:"
      ],
      "metadata": {
        "id": "PqD25cXleKbV"
      }
    }
  ]
}