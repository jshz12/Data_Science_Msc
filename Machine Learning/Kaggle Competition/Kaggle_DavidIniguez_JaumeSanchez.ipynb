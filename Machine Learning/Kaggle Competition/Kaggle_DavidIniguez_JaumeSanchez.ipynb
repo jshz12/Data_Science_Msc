{
  "nbformat": 4,
  "nbformat_minor": 0,
  "metadata": {
    "colab": {
      "provenance": [],
      "gpuType": "T4"
    },
    "kernelspec": {
      "name": "python3",
      "display_name": "Python 3"
    },
    "language_info": {
      "name": "python"
    },
    "accelerator": "GPU",
    "widgets": {
      "application/vnd.jupyter.widget-state+json": {
        "b7ceb4c4348b464da7d16a21c361c063": {
          "model_module": "@jupyter-widgets/controls",
          "model_name": "HBoxModel",
          "model_module_version": "1.5.0",
          "state": {
            "_dom_classes": [],
            "_model_module": "@jupyter-widgets/controls",
            "_model_module_version": "1.5.0",
            "_model_name": "HBoxModel",
            "_view_count": null,
            "_view_module": "@jupyter-widgets/controls",
            "_view_module_version": "1.5.0",
            "_view_name": "HBoxView",
            "box_style": "",
            "children": [
              "IPY_MODEL_c51559acda5245cea5a53f901e7f81f3",
              "IPY_MODEL_99e0937470ed4af3b73afe10744234fa",
              "IPY_MODEL_724e9386b854404fb3dd02c19718a53f"
            ],
            "layout": "IPY_MODEL_7271263f5a6a4a69b076d7b6c0458460"
          }
        },
        "c51559acda5245cea5a53f901e7f81f3": {
          "model_module": "@jupyter-widgets/controls",
          "model_name": "HTMLModel",
          "model_module_version": "1.5.0",
          "state": {
            "_dom_classes": [],
            "_model_module": "@jupyter-widgets/controls",
            "_model_module_version": "1.5.0",
            "_model_name": "HTMLModel",
            "_view_count": null,
            "_view_module": "@jupyter-widgets/controls",
            "_view_module_version": "1.5.0",
            "_view_name": "HTMLView",
            "description": "",
            "description_tooltip": null,
            "layout": "IPY_MODEL_14963707d329449cbed9b6bcb4164de4",
            "placeholder": "​",
            "style": "IPY_MODEL_e75c9165848746c5b5484f23de84d267",
            "value": "Downloading (…)okenizer_config.json: 100%"
          }
        },
        "99e0937470ed4af3b73afe10744234fa": {
          "model_module": "@jupyter-widgets/controls",
          "model_name": "FloatProgressModel",
          "model_module_version": "1.5.0",
          "state": {
            "_dom_classes": [],
            "_model_module": "@jupyter-widgets/controls",
            "_model_module_version": "1.5.0",
            "_model_name": "FloatProgressModel",
            "_view_count": null,
            "_view_module": "@jupyter-widgets/controls",
            "_view_module_version": "1.5.0",
            "_view_name": "ProgressView",
            "bar_style": "success",
            "description": "",
            "description_tooltip": null,
            "layout": "IPY_MODEL_d33f0ae941dd4ff8bd6d9aacbe2c5fb8",
            "max": 29,
            "min": 0,
            "orientation": "horizontal",
            "style": "IPY_MODEL_8a84a308e9fd4e169a376f9a9fb1562b",
            "value": 29
          }
        },
        "724e9386b854404fb3dd02c19718a53f": {
          "model_module": "@jupyter-widgets/controls",
          "model_name": "HTMLModel",
          "model_module_version": "1.5.0",
          "state": {
            "_dom_classes": [],
            "_model_module": "@jupyter-widgets/controls",
            "_model_module_version": "1.5.0",
            "_model_name": "HTMLModel",
            "_view_count": null,
            "_view_module": "@jupyter-widgets/controls",
            "_view_module_version": "1.5.0",
            "_view_name": "HTMLView",
            "description": "",
            "description_tooltip": null,
            "layout": "IPY_MODEL_5c6aff58d58c49169fc6ea3b39178ff5",
            "placeholder": "​",
            "style": "IPY_MODEL_aac1c56661d14c2e806441402ca2fa02",
            "value": " 29.0/29.0 [00:00&lt;00:00, 1.57kB/s]"
          }
        },
        "7271263f5a6a4a69b076d7b6c0458460": {
          "model_module": "@jupyter-widgets/base",
          "model_name": "LayoutModel",
          "model_module_version": "1.2.0",
          "state": {
            "_model_module": "@jupyter-widgets/base",
            "_model_module_version": "1.2.0",
            "_model_name": "LayoutModel",
            "_view_count": null,
            "_view_module": "@jupyter-widgets/base",
            "_view_module_version": "1.2.0",
            "_view_name": "LayoutView",
            "align_content": null,
            "align_items": null,
            "align_self": null,
            "border": null,
            "bottom": null,
            "display": null,
            "flex": null,
            "flex_flow": null,
            "grid_area": null,
            "grid_auto_columns": null,
            "grid_auto_flow": null,
            "grid_auto_rows": null,
            "grid_column": null,
            "grid_gap": null,
            "grid_row": null,
            "grid_template_areas": null,
            "grid_template_columns": null,
            "grid_template_rows": null,
            "height": null,
            "justify_content": null,
            "justify_items": null,
            "left": null,
            "margin": null,
            "max_height": null,
            "max_width": null,
            "min_height": null,
            "min_width": null,
            "object_fit": null,
            "object_position": null,
            "order": null,
            "overflow": null,
            "overflow_x": null,
            "overflow_y": null,
            "padding": null,
            "right": null,
            "top": null,
            "visibility": null,
            "width": null
          }
        },
        "14963707d329449cbed9b6bcb4164de4": {
          "model_module": "@jupyter-widgets/base",
          "model_name": "LayoutModel",
          "model_module_version": "1.2.0",
          "state": {
            "_model_module": "@jupyter-widgets/base",
            "_model_module_version": "1.2.0",
            "_model_name": "LayoutModel",
            "_view_count": null,
            "_view_module": "@jupyter-widgets/base",
            "_view_module_version": "1.2.0",
            "_view_name": "LayoutView",
            "align_content": null,
            "align_items": null,
            "align_self": null,
            "border": null,
            "bottom": null,
            "display": null,
            "flex": null,
            "flex_flow": null,
            "grid_area": null,
            "grid_auto_columns": null,
            "grid_auto_flow": null,
            "grid_auto_rows": null,
            "grid_column": null,
            "grid_gap": null,
            "grid_row": null,
            "grid_template_areas": null,
            "grid_template_columns": null,
            "grid_template_rows": null,
            "height": null,
            "justify_content": null,
            "justify_items": null,
            "left": null,
            "margin": null,
            "max_height": null,
            "max_width": null,
            "min_height": null,
            "min_width": null,
            "object_fit": null,
            "object_position": null,
            "order": null,
            "overflow": null,
            "overflow_x": null,
            "overflow_y": null,
            "padding": null,
            "right": null,
            "top": null,
            "visibility": null,
            "width": null
          }
        },
        "e75c9165848746c5b5484f23de84d267": {
          "model_module": "@jupyter-widgets/controls",
          "model_name": "DescriptionStyleModel",
          "model_module_version": "1.5.0",
          "state": {
            "_model_module": "@jupyter-widgets/controls",
            "_model_module_version": "1.5.0",
            "_model_name": "DescriptionStyleModel",
            "_view_count": null,
            "_view_module": "@jupyter-widgets/base",
            "_view_module_version": "1.2.0",
            "_view_name": "StyleView",
            "description_width": ""
          }
        },
        "d33f0ae941dd4ff8bd6d9aacbe2c5fb8": {
          "model_module": "@jupyter-widgets/base",
          "model_name": "LayoutModel",
          "model_module_version": "1.2.0",
          "state": {
            "_model_module": "@jupyter-widgets/base",
            "_model_module_version": "1.2.0",
            "_model_name": "LayoutModel",
            "_view_count": null,
            "_view_module": "@jupyter-widgets/base",
            "_view_module_version": "1.2.0",
            "_view_name": "LayoutView",
            "align_content": null,
            "align_items": null,
            "align_self": null,
            "border": null,
            "bottom": null,
            "display": null,
            "flex": null,
            "flex_flow": null,
            "grid_area": null,
            "grid_auto_columns": null,
            "grid_auto_flow": null,
            "grid_auto_rows": null,
            "grid_column": null,
            "grid_gap": null,
            "grid_row": null,
            "grid_template_areas": null,
            "grid_template_columns": null,
            "grid_template_rows": null,
            "height": null,
            "justify_content": null,
            "justify_items": null,
            "left": null,
            "margin": null,
            "max_height": null,
            "max_width": null,
            "min_height": null,
            "min_width": null,
            "object_fit": null,
            "object_position": null,
            "order": null,
            "overflow": null,
            "overflow_x": null,
            "overflow_y": null,
            "padding": null,
            "right": null,
            "top": null,
            "visibility": null,
            "width": null
          }
        },
        "8a84a308e9fd4e169a376f9a9fb1562b": {
          "model_module": "@jupyter-widgets/controls",
          "model_name": "ProgressStyleModel",
          "model_module_version": "1.5.0",
          "state": {
            "_model_module": "@jupyter-widgets/controls",
            "_model_module_version": "1.5.0",
            "_model_name": "ProgressStyleModel",
            "_view_count": null,
            "_view_module": "@jupyter-widgets/base",
            "_view_module_version": "1.2.0",
            "_view_name": "StyleView",
            "bar_color": null,
            "description_width": ""
          }
        },
        "5c6aff58d58c49169fc6ea3b39178ff5": {
          "model_module": "@jupyter-widgets/base",
          "model_name": "LayoutModel",
          "model_module_version": "1.2.0",
          "state": {
            "_model_module": "@jupyter-widgets/base",
            "_model_module_version": "1.2.0",
            "_model_name": "LayoutModel",
            "_view_count": null,
            "_view_module": "@jupyter-widgets/base",
            "_view_module_version": "1.2.0",
            "_view_name": "LayoutView",
            "align_content": null,
            "align_items": null,
            "align_self": null,
            "border": null,
            "bottom": null,
            "display": null,
            "flex": null,
            "flex_flow": null,
            "grid_area": null,
            "grid_auto_columns": null,
            "grid_auto_flow": null,
            "grid_auto_rows": null,
            "grid_column": null,
            "grid_gap": null,
            "grid_row": null,
            "grid_template_areas": null,
            "grid_template_columns": null,
            "grid_template_rows": null,
            "height": null,
            "justify_content": null,
            "justify_items": null,
            "left": null,
            "margin": null,
            "max_height": null,
            "max_width": null,
            "min_height": null,
            "min_width": null,
            "object_fit": null,
            "object_position": null,
            "order": null,
            "overflow": null,
            "overflow_x": null,
            "overflow_y": null,
            "padding": null,
            "right": null,
            "top": null,
            "visibility": null,
            "width": null
          }
        },
        "aac1c56661d14c2e806441402ca2fa02": {
          "model_module": "@jupyter-widgets/controls",
          "model_name": "DescriptionStyleModel",
          "model_module_version": "1.5.0",
          "state": {
            "_model_module": "@jupyter-widgets/controls",
            "_model_module_version": "1.5.0",
            "_model_name": "DescriptionStyleModel",
            "_view_count": null,
            "_view_module": "@jupyter-widgets/base",
            "_view_module_version": "1.2.0",
            "_view_name": "StyleView",
            "description_width": ""
          }
        },
        "f42f8a35114740a48248ad0f0a0d97ba": {
          "model_module": "@jupyter-widgets/controls",
          "model_name": "HBoxModel",
          "model_module_version": "1.5.0",
          "state": {
            "_dom_classes": [],
            "_model_module": "@jupyter-widgets/controls",
            "_model_module_version": "1.5.0",
            "_model_name": "HBoxModel",
            "_view_count": null,
            "_view_module": "@jupyter-widgets/controls",
            "_view_module_version": "1.5.0",
            "_view_name": "HBoxView",
            "box_style": "",
            "children": [
              "IPY_MODEL_3b85792a0ccb4d34a7252723a7277375",
              "IPY_MODEL_8b60c9852cd340a3bdd591a5a6561446",
              "IPY_MODEL_49e96a3299fa45b49f76654219f6a9bf"
            ],
            "layout": "IPY_MODEL_a33aa16f75764326b3a43df1de887f40"
          }
        },
        "3b85792a0ccb4d34a7252723a7277375": {
          "model_module": "@jupyter-widgets/controls",
          "model_name": "HTMLModel",
          "model_module_version": "1.5.0",
          "state": {
            "_dom_classes": [],
            "_model_module": "@jupyter-widgets/controls",
            "_model_module_version": "1.5.0",
            "_model_name": "HTMLModel",
            "_view_count": null,
            "_view_module": "@jupyter-widgets/controls",
            "_view_module_version": "1.5.0",
            "_view_name": "HTMLView",
            "description": "",
            "description_tooltip": null,
            "layout": "IPY_MODEL_cced7a350869479c85a580e8234f1d75",
            "placeholder": "​",
            "style": "IPY_MODEL_4e26e7ec36364f22b406a0c23630a50c",
            "value": "Downloading (…)solve/main/vocab.txt: 100%"
          }
        },
        "8b60c9852cd340a3bdd591a5a6561446": {
          "model_module": "@jupyter-widgets/controls",
          "model_name": "FloatProgressModel",
          "model_module_version": "1.5.0",
          "state": {
            "_dom_classes": [],
            "_model_module": "@jupyter-widgets/controls",
            "_model_module_version": "1.5.0",
            "_model_name": "FloatProgressModel",
            "_view_count": null,
            "_view_module": "@jupyter-widgets/controls",
            "_view_module_version": "1.5.0",
            "_view_name": "ProgressView",
            "bar_style": "success",
            "description": "",
            "description_tooltip": null,
            "layout": "IPY_MODEL_bd6b4a864f584ecf961d060fb28c1f06",
            "max": 213450,
            "min": 0,
            "orientation": "horizontal",
            "style": "IPY_MODEL_ab809acc7a9b46b286ca2db303379460",
            "value": 213450
          }
        },
        "49e96a3299fa45b49f76654219f6a9bf": {
          "model_module": "@jupyter-widgets/controls",
          "model_name": "HTMLModel",
          "model_module_version": "1.5.0",
          "state": {
            "_dom_classes": [],
            "_model_module": "@jupyter-widgets/controls",
            "_model_module_version": "1.5.0",
            "_model_name": "HTMLModel",
            "_view_count": null,
            "_view_module": "@jupyter-widgets/controls",
            "_view_module_version": "1.5.0",
            "_view_name": "HTMLView",
            "description": "",
            "description_tooltip": null,
            "layout": "IPY_MODEL_b007b780cfcb4397a927e1e70ab58c91",
            "placeholder": "​",
            "style": "IPY_MODEL_9ba35236112a46aba6a55043a518ff6f",
            "value": " 213k/213k [00:00&lt;00:00, 6.93MB/s]"
          }
        },
        "a33aa16f75764326b3a43df1de887f40": {
          "model_module": "@jupyter-widgets/base",
          "model_name": "LayoutModel",
          "model_module_version": "1.2.0",
          "state": {
            "_model_module": "@jupyter-widgets/base",
            "_model_module_version": "1.2.0",
            "_model_name": "LayoutModel",
            "_view_count": null,
            "_view_module": "@jupyter-widgets/base",
            "_view_module_version": "1.2.0",
            "_view_name": "LayoutView",
            "align_content": null,
            "align_items": null,
            "align_self": null,
            "border": null,
            "bottom": null,
            "display": null,
            "flex": null,
            "flex_flow": null,
            "grid_area": null,
            "grid_auto_columns": null,
            "grid_auto_flow": null,
            "grid_auto_rows": null,
            "grid_column": null,
            "grid_gap": null,
            "grid_row": null,
            "grid_template_areas": null,
            "grid_template_columns": null,
            "grid_template_rows": null,
            "height": null,
            "justify_content": null,
            "justify_items": null,
            "left": null,
            "margin": null,
            "max_height": null,
            "max_width": null,
            "min_height": null,
            "min_width": null,
            "object_fit": null,
            "object_position": null,
            "order": null,
            "overflow": null,
            "overflow_x": null,
            "overflow_y": null,
            "padding": null,
            "right": null,
            "top": null,
            "visibility": null,
            "width": null
          }
        },
        "cced7a350869479c85a580e8234f1d75": {
          "model_module": "@jupyter-widgets/base",
          "model_name": "LayoutModel",
          "model_module_version": "1.2.0",
          "state": {
            "_model_module": "@jupyter-widgets/base",
            "_model_module_version": "1.2.0",
            "_model_name": "LayoutModel",
            "_view_count": null,
            "_view_module": "@jupyter-widgets/base",
            "_view_module_version": "1.2.0",
            "_view_name": "LayoutView",
            "align_content": null,
            "align_items": null,
            "align_self": null,
            "border": null,
            "bottom": null,
            "display": null,
            "flex": null,
            "flex_flow": null,
            "grid_area": null,
            "grid_auto_columns": null,
            "grid_auto_flow": null,
            "grid_auto_rows": null,
            "grid_column": null,
            "grid_gap": null,
            "grid_row": null,
            "grid_template_areas": null,
            "grid_template_columns": null,
            "grid_template_rows": null,
            "height": null,
            "justify_content": null,
            "justify_items": null,
            "left": null,
            "margin": null,
            "max_height": null,
            "max_width": null,
            "min_height": null,
            "min_width": null,
            "object_fit": null,
            "object_position": null,
            "order": null,
            "overflow": null,
            "overflow_x": null,
            "overflow_y": null,
            "padding": null,
            "right": null,
            "top": null,
            "visibility": null,
            "width": null
          }
        },
        "4e26e7ec36364f22b406a0c23630a50c": {
          "model_module": "@jupyter-widgets/controls",
          "model_name": "DescriptionStyleModel",
          "model_module_version": "1.5.0",
          "state": {
            "_model_module": "@jupyter-widgets/controls",
            "_model_module_version": "1.5.0",
            "_model_name": "DescriptionStyleModel",
            "_view_count": null,
            "_view_module": "@jupyter-widgets/base",
            "_view_module_version": "1.2.0",
            "_view_name": "StyleView",
            "description_width": ""
          }
        },
        "bd6b4a864f584ecf961d060fb28c1f06": {
          "model_module": "@jupyter-widgets/base",
          "model_name": "LayoutModel",
          "model_module_version": "1.2.0",
          "state": {
            "_model_module": "@jupyter-widgets/base",
            "_model_module_version": "1.2.0",
            "_model_name": "LayoutModel",
            "_view_count": null,
            "_view_module": "@jupyter-widgets/base",
            "_view_module_version": "1.2.0",
            "_view_name": "LayoutView",
            "align_content": null,
            "align_items": null,
            "align_self": null,
            "border": null,
            "bottom": null,
            "display": null,
            "flex": null,
            "flex_flow": null,
            "grid_area": null,
            "grid_auto_columns": null,
            "grid_auto_flow": null,
            "grid_auto_rows": null,
            "grid_column": null,
            "grid_gap": null,
            "grid_row": null,
            "grid_template_areas": null,
            "grid_template_columns": null,
            "grid_template_rows": null,
            "height": null,
            "justify_content": null,
            "justify_items": null,
            "left": null,
            "margin": null,
            "max_height": null,
            "max_width": null,
            "min_height": null,
            "min_width": null,
            "object_fit": null,
            "object_position": null,
            "order": null,
            "overflow": null,
            "overflow_x": null,
            "overflow_y": null,
            "padding": null,
            "right": null,
            "top": null,
            "visibility": null,
            "width": null
          }
        },
        "ab809acc7a9b46b286ca2db303379460": {
          "model_module": "@jupyter-widgets/controls",
          "model_name": "ProgressStyleModel",
          "model_module_version": "1.5.0",
          "state": {
            "_model_module": "@jupyter-widgets/controls",
            "_model_module_version": "1.5.0",
            "_model_name": "ProgressStyleModel",
            "_view_count": null,
            "_view_module": "@jupyter-widgets/base",
            "_view_module_version": "1.2.0",
            "_view_name": "StyleView",
            "bar_color": null,
            "description_width": ""
          }
        },
        "b007b780cfcb4397a927e1e70ab58c91": {
          "model_module": "@jupyter-widgets/base",
          "model_name": "LayoutModel",
          "model_module_version": "1.2.0",
          "state": {
            "_model_module": "@jupyter-widgets/base",
            "_model_module_version": "1.2.0",
            "_model_name": "LayoutModel",
            "_view_count": null,
            "_view_module": "@jupyter-widgets/base",
            "_view_module_version": "1.2.0",
            "_view_name": "LayoutView",
            "align_content": null,
            "align_items": null,
            "align_self": null,
            "border": null,
            "bottom": null,
            "display": null,
            "flex": null,
            "flex_flow": null,
            "grid_area": null,
            "grid_auto_columns": null,
            "grid_auto_flow": null,
            "grid_auto_rows": null,
            "grid_column": null,
            "grid_gap": null,
            "grid_row": null,
            "grid_template_areas": null,
            "grid_template_columns": null,
            "grid_template_rows": null,
            "height": null,
            "justify_content": null,
            "justify_items": null,
            "left": null,
            "margin": null,
            "max_height": null,
            "max_width": null,
            "min_height": null,
            "min_width": null,
            "object_fit": null,
            "object_position": null,
            "order": null,
            "overflow": null,
            "overflow_x": null,
            "overflow_y": null,
            "padding": null,
            "right": null,
            "top": null,
            "visibility": null,
            "width": null
          }
        },
        "9ba35236112a46aba6a55043a518ff6f": {
          "model_module": "@jupyter-widgets/controls",
          "model_name": "DescriptionStyleModel",
          "model_module_version": "1.5.0",
          "state": {
            "_model_module": "@jupyter-widgets/controls",
            "_model_module_version": "1.5.0",
            "_model_name": "DescriptionStyleModel",
            "_view_count": null,
            "_view_module": "@jupyter-widgets/base",
            "_view_module_version": "1.2.0",
            "_view_name": "StyleView",
            "description_width": ""
          }
        },
        "0e32109c5be044dfb20f0b5b978bff2a": {
          "model_module": "@jupyter-widgets/controls",
          "model_name": "HBoxModel",
          "model_module_version": "1.5.0",
          "state": {
            "_dom_classes": [],
            "_model_module": "@jupyter-widgets/controls",
            "_model_module_version": "1.5.0",
            "_model_name": "HBoxModel",
            "_view_count": null,
            "_view_module": "@jupyter-widgets/controls",
            "_view_module_version": "1.5.0",
            "_view_name": "HBoxView",
            "box_style": "",
            "children": [
              "IPY_MODEL_e7f0d5f7a30246d592bbada3b6395974",
              "IPY_MODEL_da22c2e033074d76b050b12caa4b5c44",
              "IPY_MODEL_49f3091c261d4f1380f0f08c87dd1bde"
            ],
            "layout": "IPY_MODEL_f5245efe8f9b4a8387de7dd7f6d01580"
          }
        },
        "e7f0d5f7a30246d592bbada3b6395974": {
          "model_module": "@jupyter-widgets/controls",
          "model_name": "HTMLModel",
          "model_module_version": "1.5.0",
          "state": {
            "_dom_classes": [],
            "_model_module": "@jupyter-widgets/controls",
            "_model_module_version": "1.5.0",
            "_model_name": "HTMLModel",
            "_view_count": null,
            "_view_module": "@jupyter-widgets/controls",
            "_view_module_version": "1.5.0",
            "_view_name": "HTMLView",
            "description": "",
            "description_tooltip": null,
            "layout": "IPY_MODEL_e2560f00498c4264bb1f57a19c70d7c4",
            "placeholder": "​",
            "style": "IPY_MODEL_0369eda980964584ad671d9d4d7bf060",
            "value": "Downloading (…)/main/tokenizer.json: 100%"
          }
        },
        "da22c2e033074d76b050b12caa4b5c44": {
          "model_module": "@jupyter-widgets/controls",
          "model_name": "FloatProgressModel",
          "model_module_version": "1.5.0",
          "state": {
            "_dom_classes": [],
            "_model_module": "@jupyter-widgets/controls",
            "_model_module_version": "1.5.0",
            "_model_name": "FloatProgressModel",
            "_view_count": null,
            "_view_module": "@jupyter-widgets/controls",
            "_view_module_version": "1.5.0",
            "_view_name": "ProgressView",
            "bar_style": "success",
            "description": "",
            "description_tooltip": null,
            "layout": "IPY_MODEL_55be8352085d46f9b7622dae12847d39",
            "max": 435797,
            "min": 0,
            "orientation": "horizontal",
            "style": "IPY_MODEL_2b900f3f89b8471a9dbc4177a4dc3072",
            "value": 435797
          }
        },
        "49f3091c261d4f1380f0f08c87dd1bde": {
          "model_module": "@jupyter-widgets/controls",
          "model_name": "HTMLModel",
          "model_module_version": "1.5.0",
          "state": {
            "_dom_classes": [],
            "_model_module": "@jupyter-widgets/controls",
            "_model_module_version": "1.5.0",
            "_model_name": "HTMLModel",
            "_view_count": null,
            "_view_module": "@jupyter-widgets/controls",
            "_view_module_version": "1.5.0",
            "_view_name": "HTMLView",
            "description": "",
            "description_tooltip": null,
            "layout": "IPY_MODEL_5fb49dc42d3b4eb9995f282a39e5de06",
            "placeholder": "​",
            "style": "IPY_MODEL_642917a57eef4252bc5d56f9283c8e34",
            "value": " 436k/436k [00:00&lt;00:00, 25.3MB/s]"
          }
        },
        "f5245efe8f9b4a8387de7dd7f6d01580": {
          "model_module": "@jupyter-widgets/base",
          "model_name": "LayoutModel",
          "model_module_version": "1.2.0",
          "state": {
            "_model_module": "@jupyter-widgets/base",
            "_model_module_version": "1.2.0",
            "_model_name": "LayoutModel",
            "_view_count": null,
            "_view_module": "@jupyter-widgets/base",
            "_view_module_version": "1.2.0",
            "_view_name": "LayoutView",
            "align_content": null,
            "align_items": null,
            "align_self": null,
            "border": null,
            "bottom": null,
            "display": null,
            "flex": null,
            "flex_flow": null,
            "grid_area": null,
            "grid_auto_columns": null,
            "grid_auto_flow": null,
            "grid_auto_rows": null,
            "grid_column": null,
            "grid_gap": null,
            "grid_row": null,
            "grid_template_areas": null,
            "grid_template_columns": null,
            "grid_template_rows": null,
            "height": null,
            "justify_content": null,
            "justify_items": null,
            "left": null,
            "margin": null,
            "max_height": null,
            "max_width": null,
            "min_height": null,
            "min_width": null,
            "object_fit": null,
            "object_position": null,
            "order": null,
            "overflow": null,
            "overflow_x": null,
            "overflow_y": null,
            "padding": null,
            "right": null,
            "top": null,
            "visibility": null,
            "width": null
          }
        },
        "e2560f00498c4264bb1f57a19c70d7c4": {
          "model_module": "@jupyter-widgets/base",
          "model_name": "LayoutModel",
          "model_module_version": "1.2.0",
          "state": {
            "_model_module": "@jupyter-widgets/base",
            "_model_module_version": "1.2.0",
            "_model_name": "LayoutModel",
            "_view_count": null,
            "_view_module": "@jupyter-widgets/base",
            "_view_module_version": "1.2.0",
            "_view_name": "LayoutView",
            "align_content": null,
            "align_items": null,
            "align_self": null,
            "border": null,
            "bottom": null,
            "display": null,
            "flex": null,
            "flex_flow": null,
            "grid_area": null,
            "grid_auto_columns": null,
            "grid_auto_flow": null,
            "grid_auto_rows": null,
            "grid_column": null,
            "grid_gap": null,
            "grid_row": null,
            "grid_template_areas": null,
            "grid_template_columns": null,
            "grid_template_rows": null,
            "height": null,
            "justify_content": null,
            "justify_items": null,
            "left": null,
            "margin": null,
            "max_height": null,
            "max_width": null,
            "min_height": null,
            "min_width": null,
            "object_fit": null,
            "object_position": null,
            "order": null,
            "overflow": null,
            "overflow_x": null,
            "overflow_y": null,
            "padding": null,
            "right": null,
            "top": null,
            "visibility": null,
            "width": null
          }
        },
        "0369eda980964584ad671d9d4d7bf060": {
          "model_module": "@jupyter-widgets/controls",
          "model_name": "DescriptionStyleModel",
          "model_module_version": "1.5.0",
          "state": {
            "_model_module": "@jupyter-widgets/controls",
            "_model_module_version": "1.5.0",
            "_model_name": "DescriptionStyleModel",
            "_view_count": null,
            "_view_module": "@jupyter-widgets/base",
            "_view_module_version": "1.2.0",
            "_view_name": "StyleView",
            "description_width": ""
          }
        },
        "55be8352085d46f9b7622dae12847d39": {
          "model_module": "@jupyter-widgets/base",
          "model_name": "LayoutModel",
          "model_module_version": "1.2.0",
          "state": {
            "_model_module": "@jupyter-widgets/base",
            "_model_module_version": "1.2.0",
            "_model_name": "LayoutModel",
            "_view_count": null,
            "_view_module": "@jupyter-widgets/base",
            "_view_module_version": "1.2.0",
            "_view_name": "LayoutView",
            "align_content": null,
            "align_items": null,
            "align_self": null,
            "border": null,
            "bottom": null,
            "display": null,
            "flex": null,
            "flex_flow": null,
            "grid_area": null,
            "grid_auto_columns": null,
            "grid_auto_flow": null,
            "grid_auto_rows": null,
            "grid_column": null,
            "grid_gap": null,
            "grid_row": null,
            "grid_template_areas": null,
            "grid_template_columns": null,
            "grid_template_rows": null,
            "height": null,
            "justify_content": null,
            "justify_items": null,
            "left": null,
            "margin": null,
            "max_height": null,
            "max_width": null,
            "min_height": null,
            "min_width": null,
            "object_fit": null,
            "object_position": null,
            "order": null,
            "overflow": null,
            "overflow_x": null,
            "overflow_y": null,
            "padding": null,
            "right": null,
            "top": null,
            "visibility": null,
            "width": null
          }
        },
        "2b900f3f89b8471a9dbc4177a4dc3072": {
          "model_module": "@jupyter-widgets/controls",
          "model_name": "ProgressStyleModel",
          "model_module_version": "1.5.0",
          "state": {
            "_model_module": "@jupyter-widgets/controls",
            "_model_module_version": "1.5.0",
            "_model_name": "ProgressStyleModel",
            "_view_count": null,
            "_view_module": "@jupyter-widgets/base",
            "_view_module_version": "1.2.0",
            "_view_name": "StyleView",
            "bar_color": null,
            "description_width": ""
          }
        },
        "5fb49dc42d3b4eb9995f282a39e5de06": {
          "model_module": "@jupyter-widgets/base",
          "model_name": "LayoutModel",
          "model_module_version": "1.2.0",
          "state": {
            "_model_module": "@jupyter-widgets/base",
            "_model_module_version": "1.2.0",
            "_model_name": "LayoutModel",
            "_view_count": null,
            "_view_module": "@jupyter-widgets/base",
            "_view_module_version": "1.2.0",
            "_view_name": "LayoutView",
            "align_content": null,
            "align_items": null,
            "align_self": null,
            "border": null,
            "bottom": null,
            "display": null,
            "flex": null,
            "flex_flow": null,
            "grid_area": null,
            "grid_auto_columns": null,
            "grid_auto_flow": null,
            "grid_auto_rows": null,
            "grid_column": null,
            "grid_gap": null,
            "grid_row": null,
            "grid_template_areas": null,
            "grid_template_columns": null,
            "grid_template_rows": null,
            "height": null,
            "justify_content": null,
            "justify_items": null,
            "left": null,
            "margin": null,
            "max_height": null,
            "max_width": null,
            "min_height": null,
            "min_width": null,
            "object_fit": null,
            "object_position": null,
            "order": null,
            "overflow": null,
            "overflow_x": null,
            "overflow_y": null,
            "padding": null,
            "right": null,
            "top": null,
            "visibility": null,
            "width": null
          }
        },
        "642917a57eef4252bc5d56f9283c8e34": {
          "model_module": "@jupyter-widgets/controls",
          "model_name": "DescriptionStyleModel",
          "model_module_version": "1.5.0",
          "state": {
            "_model_module": "@jupyter-widgets/controls",
            "_model_module_version": "1.5.0",
            "_model_name": "DescriptionStyleModel",
            "_view_count": null,
            "_view_module": "@jupyter-widgets/base",
            "_view_module_version": "1.2.0",
            "_view_name": "StyleView",
            "description_width": ""
          }
        },
        "ccad1579722140bc8aa9c923d11cacb1": {
          "model_module": "@jupyter-widgets/controls",
          "model_name": "HBoxModel",
          "model_module_version": "1.5.0",
          "state": {
            "_dom_classes": [],
            "_model_module": "@jupyter-widgets/controls",
            "_model_module_version": "1.5.0",
            "_model_name": "HBoxModel",
            "_view_count": null,
            "_view_module": "@jupyter-widgets/controls",
            "_view_module_version": "1.5.0",
            "_view_name": "HBoxView",
            "box_style": "",
            "children": [
              "IPY_MODEL_6ce427fd62bc48a4943287f2ba96cff7",
              "IPY_MODEL_cc4720180c4a46bfbc317307e55379db",
              "IPY_MODEL_814549837c5e4a0ab5f089232cb439ef"
            ],
            "layout": "IPY_MODEL_f4c484bcebd54973b6677b97cc520308"
          }
        },
        "6ce427fd62bc48a4943287f2ba96cff7": {
          "model_module": "@jupyter-widgets/controls",
          "model_name": "HTMLModel",
          "model_module_version": "1.5.0",
          "state": {
            "_dom_classes": [],
            "_model_module": "@jupyter-widgets/controls",
            "_model_module_version": "1.5.0",
            "_model_name": "HTMLModel",
            "_view_count": null,
            "_view_module": "@jupyter-widgets/controls",
            "_view_module_version": "1.5.0",
            "_view_name": "HTMLView",
            "description": "",
            "description_tooltip": null,
            "layout": "IPY_MODEL_70430aeb61a148b8a828dcc5a678ad42",
            "placeholder": "​",
            "style": "IPY_MODEL_017a6019eae7420b94b9cc19f6f5e4e1",
            "value": "Downloading (…)lve/main/config.json: 100%"
          }
        },
        "cc4720180c4a46bfbc317307e55379db": {
          "model_module": "@jupyter-widgets/controls",
          "model_name": "FloatProgressModel",
          "model_module_version": "1.5.0",
          "state": {
            "_dom_classes": [],
            "_model_module": "@jupyter-widgets/controls",
            "_model_module_version": "1.5.0",
            "_model_name": "FloatProgressModel",
            "_view_count": null,
            "_view_module": "@jupyter-widgets/controls",
            "_view_module_version": "1.5.0",
            "_view_name": "ProgressView",
            "bar_style": "success",
            "description": "",
            "description_tooltip": null,
            "layout": "IPY_MODEL_18a2f620c34b4e849195e7c0aa9345dd",
            "max": 465,
            "min": 0,
            "orientation": "horizontal",
            "style": "IPY_MODEL_7968dc79f2c04baca54e72ffcd880cd8",
            "value": 465
          }
        },
        "814549837c5e4a0ab5f089232cb439ef": {
          "model_module": "@jupyter-widgets/controls",
          "model_name": "HTMLModel",
          "model_module_version": "1.5.0",
          "state": {
            "_dom_classes": [],
            "_model_module": "@jupyter-widgets/controls",
            "_model_module_version": "1.5.0",
            "_model_name": "HTMLModel",
            "_view_count": null,
            "_view_module": "@jupyter-widgets/controls",
            "_view_module_version": "1.5.0",
            "_view_name": "HTMLView",
            "description": "",
            "description_tooltip": null,
            "layout": "IPY_MODEL_e5b2fe5f38c7494599cae417ca436201",
            "placeholder": "​",
            "style": "IPY_MODEL_483eb34ef098462ca23e9befd05f9649",
            "value": " 465/465 [00:00&lt;00:00, 26.0kB/s]"
          }
        },
        "f4c484bcebd54973b6677b97cc520308": {
          "model_module": "@jupyter-widgets/base",
          "model_name": "LayoutModel",
          "model_module_version": "1.2.0",
          "state": {
            "_model_module": "@jupyter-widgets/base",
            "_model_module_version": "1.2.0",
            "_model_name": "LayoutModel",
            "_view_count": null,
            "_view_module": "@jupyter-widgets/base",
            "_view_module_version": "1.2.0",
            "_view_name": "LayoutView",
            "align_content": null,
            "align_items": null,
            "align_self": null,
            "border": null,
            "bottom": null,
            "display": null,
            "flex": null,
            "flex_flow": null,
            "grid_area": null,
            "grid_auto_columns": null,
            "grid_auto_flow": null,
            "grid_auto_rows": null,
            "grid_column": null,
            "grid_gap": null,
            "grid_row": null,
            "grid_template_areas": null,
            "grid_template_columns": null,
            "grid_template_rows": null,
            "height": null,
            "justify_content": null,
            "justify_items": null,
            "left": null,
            "margin": null,
            "max_height": null,
            "max_width": null,
            "min_height": null,
            "min_width": null,
            "object_fit": null,
            "object_position": null,
            "order": null,
            "overflow": null,
            "overflow_x": null,
            "overflow_y": null,
            "padding": null,
            "right": null,
            "top": null,
            "visibility": null,
            "width": null
          }
        },
        "70430aeb61a148b8a828dcc5a678ad42": {
          "model_module": "@jupyter-widgets/base",
          "model_name": "LayoutModel",
          "model_module_version": "1.2.0",
          "state": {
            "_model_module": "@jupyter-widgets/base",
            "_model_module_version": "1.2.0",
            "_model_name": "LayoutModel",
            "_view_count": null,
            "_view_module": "@jupyter-widgets/base",
            "_view_module_version": "1.2.0",
            "_view_name": "LayoutView",
            "align_content": null,
            "align_items": null,
            "align_self": null,
            "border": null,
            "bottom": null,
            "display": null,
            "flex": null,
            "flex_flow": null,
            "grid_area": null,
            "grid_auto_columns": null,
            "grid_auto_flow": null,
            "grid_auto_rows": null,
            "grid_column": null,
            "grid_gap": null,
            "grid_row": null,
            "grid_template_areas": null,
            "grid_template_columns": null,
            "grid_template_rows": null,
            "height": null,
            "justify_content": null,
            "justify_items": null,
            "left": null,
            "margin": null,
            "max_height": null,
            "max_width": null,
            "min_height": null,
            "min_width": null,
            "object_fit": null,
            "object_position": null,
            "order": null,
            "overflow": null,
            "overflow_x": null,
            "overflow_y": null,
            "padding": null,
            "right": null,
            "top": null,
            "visibility": null,
            "width": null
          }
        },
        "017a6019eae7420b94b9cc19f6f5e4e1": {
          "model_module": "@jupyter-widgets/controls",
          "model_name": "DescriptionStyleModel",
          "model_module_version": "1.5.0",
          "state": {
            "_model_module": "@jupyter-widgets/controls",
            "_model_module_version": "1.5.0",
            "_model_name": "DescriptionStyleModel",
            "_view_count": null,
            "_view_module": "@jupyter-widgets/base",
            "_view_module_version": "1.2.0",
            "_view_name": "StyleView",
            "description_width": ""
          }
        },
        "18a2f620c34b4e849195e7c0aa9345dd": {
          "model_module": "@jupyter-widgets/base",
          "model_name": "LayoutModel",
          "model_module_version": "1.2.0",
          "state": {
            "_model_module": "@jupyter-widgets/base",
            "_model_module_version": "1.2.0",
            "_model_name": "LayoutModel",
            "_view_count": null,
            "_view_module": "@jupyter-widgets/base",
            "_view_module_version": "1.2.0",
            "_view_name": "LayoutView",
            "align_content": null,
            "align_items": null,
            "align_self": null,
            "border": null,
            "bottom": null,
            "display": null,
            "flex": null,
            "flex_flow": null,
            "grid_area": null,
            "grid_auto_columns": null,
            "grid_auto_flow": null,
            "grid_auto_rows": null,
            "grid_column": null,
            "grid_gap": null,
            "grid_row": null,
            "grid_template_areas": null,
            "grid_template_columns": null,
            "grid_template_rows": null,
            "height": null,
            "justify_content": null,
            "justify_items": null,
            "left": null,
            "margin": null,
            "max_height": null,
            "max_width": null,
            "min_height": null,
            "min_width": null,
            "object_fit": null,
            "object_position": null,
            "order": null,
            "overflow": null,
            "overflow_x": null,
            "overflow_y": null,
            "padding": null,
            "right": null,
            "top": null,
            "visibility": null,
            "width": null
          }
        },
        "7968dc79f2c04baca54e72ffcd880cd8": {
          "model_module": "@jupyter-widgets/controls",
          "model_name": "ProgressStyleModel",
          "model_module_version": "1.5.0",
          "state": {
            "_model_module": "@jupyter-widgets/controls",
            "_model_module_version": "1.5.0",
            "_model_name": "ProgressStyleModel",
            "_view_count": null,
            "_view_module": "@jupyter-widgets/base",
            "_view_module_version": "1.2.0",
            "_view_name": "StyleView",
            "bar_color": null,
            "description_width": ""
          }
        },
        "e5b2fe5f38c7494599cae417ca436201": {
          "model_module": "@jupyter-widgets/base",
          "model_name": "LayoutModel",
          "model_module_version": "1.2.0",
          "state": {
            "_model_module": "@jupyter-widgets/base",
            "_model_module_version": "1.2.0",
            "_model_name": "LayoutModel",
            "_view_count": null,
            "_view_module": "@jupyter-widgets/base",
            "_view_module_version": "1.2.0",
            "_view_name": "LayoutView",
            "align_content": null,
            "align_items": null,
            "align_self": null,
            "border": null,
            "bottom": null,
            "display": null,
            "flex": null,
            "flex_flow": null,
            "grid_area": null,
            "grid_auto_columns": null,
            "grid_auto_flow": null,
            "grid_auto_rows": null,
            "grid_column": null,
            "grid_gap": null,
            "grid_row": null,
            "grid_template_areas": null,
            "grid_template_columns": null,
            "grid_template_rows": null,
            "height": null,
            "justify_content": null,
            "justify_items": null,
            "left": null,
            "margin": null,
            "max_height": null,
            "max_width": null,
            "min_height": null,
            "min_width": null,
            "object_fit": null,
            "object_position": null,
            "order": null,
            "overflow": null,
            "overflow_x": null,
            "overflow_y": null,
            "padding": null,
            "right": null,
            "top": null,
            "visibility": null,
            "width": null
          }
        },
        "483eb34ef098462ca23e9befd05f9649": {
          "model_module": "@jupyter-widgets/controls",
          "model_name": "DescriptionStyleModel",
          "model_module_version": "1.5.0",
          "state": {
            "_model_module": "@jupyter-widgets/controls",
            "_model_module_version": "1.5.0",
            "_model_name": "DescriptionStyleModel",
            "_view_count": null,
            "_view_module": "@jupyter-widgets/base",
            "_view_module_version": "1.2.0",
            "_view_name": "StyleView",
            "description_width": ""
          }
        },
        "d184be66d5ba4f79b612da3ac4a33924": {
          "model_module": "@jupyter-widgets/controls",
          "model_name": "HBoxModel",
          "model_module_version": "1.5.0",
          "state": {
            "_dom_classes": [],
            "_model_module": "@jupyter-widgets/controls",
            "_model_module_version": "1.5.0",
            "_model_name": "HBoxModel",
            "_view_count": null,
            "_view_module": "@jupyter-widgets/controls",
            "_view_module_version": "1.5.0",
            "_view_name": "HBoxView",
            "box_style": "",
            "children": [
              "IPY_MODEL_110ab911b8574b818e058926561fe389",
              "IPY_MODEL_7e4d73359b7f4b0d95ff30de6ddf09b4",
              "IPY_MODEL_dee424545a894cec906cd2350bd16279"
            ],
            "layout": "IPY_MODEL_b17276fa37814832b1a146421d13fcd5"
          }
        },
        "110ab911b8574b818e058926561fe389": {
          "model_module": "@jupyter-widgets/controls",
          "model_name": "HTMLModel",
          "model_module_version": "1.5.0",
          "state": {
            "_dom_classes": [],
            "_model_module": "@jupyter-widgets/controls",
            "_model_module_version": "1.5.0",
            "_model_name": "HTMLModel",
            "_view_count": null,
            "_view_module": "@jupyter-widgets/controls",
            "_view_module_version": "1.5.0",
            "_view_name": "HTMLView",
            "description": "",
            "description_tooltip": null,
            "layout": "IPY_MODEL_b9553ecf0a9c48a7988c33fb1a093609",
            "placeholder": "​",
            "style": "IPY_MODEL_65f627b3c445471ea19074f4e6f41749",
            "value": "Downloading model.safetensors: 100%"
          }
        },
        "7e4d73359b7f4b0d95ff30de6ddf09b4": {
          "model_module": "@jupyter-widgets/controls",
          "model_name": "FloatProgressModel",
          "model_module_version": "1.5.0",
          "state": {
            "_dom_classes": [],
            "_model_module": "@jupyter-widgets/controls",
            "_model_module_version": "1.5.0",
            "_model_name": "FloatProgressModel",
            "_view_count": null,
            "_view_module": "@jupyter-widgets/controls",
            "_view_module_version": "1.5.0",
            "_view_name": "ProgressView",
            "bar_style": "success",
            "description": "",
            "description_tooltip": null,
            "layout": "IPY_MODEL_dfbbc707b8924e1ca3b1533947f789d3",
            "max": 263260784,
            "min": 0,
            "orientation": "horizontal",
            "style": "IPY_MODEL_057ac00b6e554c74b87ef51c8fd40305",
            "value": 263260784
          }
        },
        "dee424545a894cec906cd2350bd16279": {
          "model_module": "@jupyter-widgets/controls",
          "model_name": "HTMLModel",
          "model_module_version": "1.5.0",
          "state": {
            "_dom_classes": [],
            "_model_module": "@jupyter-widgets/controls",
            "_model_module_version": "1.5.0",
            "_model_name": "HTMLModel",
            "_view_count": null,
            "_view_module": "@jupyter-widgets/controls",
            "_view_module_version": "1.5.0",
            "_view_name": "HTMLView",
            "description": "",
            "description_tooltip": null,
            "layout": "IPY_MODEL_22afe3bdcc5e401993aa80590a09236e",
            "placeholder": "​",
            "style": "IPY_MODEL_f4735af688ce484bbd3e7bc696e5838f",
            "value": " 263M/263M [00:17&lt;00:00, 17.7MB/s]"
          }
        },
        "b17276fa37814832b1a146421d13fcd5": {
          "model_module": "@jupyter-widgets/base",
          "model_name": "LayoutModel",
          "model_module_version": "1.2.0",
          "state": {
            "_model_module": "@jupyter-widgets/base",
            "_model_module_version": "1.2.0",
            "_model_name": "LayoutModel",
            "_view_count": null,
            "_view_module": "@jupyter-widgets/base",
            "_view_module_version": "1.2.0",
            "_view_name": "LayoutView",
            "align_content": null,
            "align_items": null,
            "align_self": null,
            "border": null,
            "bottom": null,
            "display": null,
            "flex": null,
            "flex_flow": null,
            "grid_area": null,
            "grid_auto_columns": null,
            "grid_auto_flow": null,
            "grid_auto_rows": null,
            "grid_column": null,
            "grid_gap": null,
            "grid_row": null,
            "grid_template_areas": null,
            "grid_template_columns": null,
            "grid_template_rows": null,
            "height": null,
            "justify_content": null,
            "justify_items": null,
            "left": null,
            "margin": null,
            "max_height": null,
            "max_width": null,
            "min_height": null,
            "min_width": null,
            "object_fit": null,
            "object_position": null,
            "order": null,
            "overflow": null,
            "overflow_x": null,
            "overflow_y": null,
            "padding": null,
            "right": null,
            "top": null,
            "visibility": null,
            "width": null
          }
        },
        "b9553ecf0a9c48a7988c33fb1a093609": {
          "model_module": "@jupyter-widgets/base",
          "model_name": "LayoutModel",
          "model_module_version": "1.2.0",
          "state": {
            "_model_module": "@jupyter-widgets/base",
            "_model_module_version": "1.2.0",
            "_model_name": "LayoutModel",
            "_view_count": null,
            "_view_module": "@jupyter-widgets/base",
            "_view_module_version": "1.2.0",
            "_view_name": "LayoutView",
            "align_content": null,
            "align_items": null,
            "align_self": null,
            "border": null,
            "bottom": null,
            "display": null,
            "flex": null,
            "flex_flow": null,
            "grid_area": null,
            "grid_auto_columns": null,
            "grid_auto_flow": null,
            "grid_auto_rows": null,
            "grid_column": null,
            "grid_gap": null,
            "grid_row": null,
            "grid_template_areas": null,
            "grid_template_columns": null,
            "grid_template_rows": null,
            "height": null,
            "justify_content": null,
            "justify_items": null,
            "left": null,
            "margin": null,
            "max_height": null,
            "max_width": null,
            "min_height": null,
            "min_width": null,
            "object_fit": null,
            "object_position": null,
            "order": null,
            "overflow": null,
            "overflow_x": null,
            "overflow_y": null,
            "padding": null,
            "right": null,
            "top": null,
            "visibility": null,
            "width": null
          }
        },
        "65f627b3c445471ea19074f4e6f41749": {
          "model_module": "@jupyter-widgets/controls",
          "model_name": "DescriptionStyleModel",
          "model_module_version": "1.5.0",
          "state": {
            "_model_module": "@jupyter-widgets/controls",
            "_model_module_version": "1.5.0",
            "_model_name": "DescriptionStyleModel",
            "_view_count": null,
            "_view_module": "@jupyter-widgets/base",
            "_view_module_version": "1.2.0",
            "_view_name": "StyleView",
            "description_width": ""
          }
        },
        "dfbbc707b8924e1ca3b1533947f789d3": {
          "model_module": "@jupyter-widgets/base",
          "model_name": "LayoutModel",
          "model_module_version": "1.2.0",
          "state": {
            "_model_module": "@jupyter-widgets/base",
            "_model_module_version": "1.2.0",
            "_model_name": "LayoutModel",
            "_view_count": null,
            "_view_module": "@jupyter-widgets/base",
            "_view_module_version": "1.2.0",
            "_view_name": "LayoutView",
            "align_content": null,
            "align_items": null,
            "align_self": null,
            "border": null,
            "bottom": null,
            "display": null,
            "flex": null,
            "flex_flow": null,
            "grid_area": null,
            "grid_auto_columns": null,
            "grid_auto_flow": null,
            "grid_auto_rows": null,
            "grid_column": null,
            "grid_gap": null,
            "grid_row": null,
            "grid_template_areas": null,
            "grid_template_columns": null,
            "grid_template_rows": null,
            "height": null,
            "justify_content": null,
            "justify_items": null,
            "left": null,
            "margin": null,
            "max_height": null,
            "max_width": null,
            "min_height": null,
            "min_width": null,
            "object_fit": null,
            "object_position": null,
            "order": null,
            "overflow": null,
            "overflow_x": null,
            "overflow_y": null,
            "padding": null,
            "right": null,
            "top": null,
            "visibility": null,
            "width": null
          }
        },
        "057ac00b6e554c74b87ef51c8fd40305": {
          "model_module": "@jupyter-widgets/controls",
          "model_name": "ProgressStyleModel",
          "model_module_version": "1.5.0",
          "state": {
            "_model_module": "@jupyter-widgets/controls",
            "_model_module_version": "1.5.0",
            "_model_name": "ProgressStyleModel",
            "_view_count": null,
            "_view_module": "@jupyter-widgets/base",
            "_view_module_version": "1.2.0",
            "_view_name": "StyleView",
            "bar_color": null,
            "description_width": ""
          }
        },
        "22afe3bdcc5e401993aa80590a09236e": {
          "model_module": "@jupyter-widgets/base",
          "model_name": "LayoutModel",
          "model_module_version": "1.2.0",
          "state": {
            "_model_module": "@jupyter-widgets/base",
            "_model_module_version": "1.2.0",
            "_model_name": "LayoutModel",
            "_view_count": null,
            "_view_module": "@jupyter-widgets/base",
            "_view_module_version": "1.2.0",
            "_view_name": "LayoutView",
            "align_content": null,
            "align_items": null,
            "align_self": null,
            "border": null,
            "bottom": null,
            "display": null,
            "flex": null,
            "flex_flow": null,
            "grid_area": null,
            "grid_auto_columns": null,
            "grid_auto_flow": null,
            "grid_auto_rows": null,
            "grid_column": null,
            "grid_gap": null,
            "grid_row": null,
            "grid_template_areas": null,
            "grid_template_columns": null,
            "grid_template_rows": null,
            "height": null,
            "justify_content": null,
            "justify_items": null,
            "left": null,
            "margin": null,
            "max_height": null,
            "max_width": null,
            "min_height": null,
            "min_width": null,
            "object_fit": null,
            "object_position": null,
            "order": null,
            "overflow": null,
            "overflow_x": null,
            "overflow_y": null,
            "padding": null,
            "right": null,
            "top": null,
            "visibility": null,
            "width": null
          }
        },
        "f4735af688ce484bbd3e7bc696e5838f": {
          "model_module": "@jupyter-widgets/controls",
          "model_name": "DescriptionStyleModel",
          "model_module_version": "1.5.0",
          "state": {
            "_model_module": "@jupyter-widgets/controls",
            "_model_module_version": "1.5.0",
            "_model_name": "DescriptionStyleModel",
            "_view_count": null,
            "_view_module": "@jupyter-widgets/base",
            "_view_module_version": "1.2.0",
            "_view_name": "StyleView",
            "description_width": ""
          }
        }
      }
    }
  },
  "cells": [
    {
      "cell_type": "markdown",
      "source": [
        "Team DJ: David Íñiguez Gómez and Jaime Sánchez Salazar"
      ],
      "metadata": {
        "id": "0gn3tpWQ4teA"
      }
    },
    {
      "cell_type": "markdown",
      "source": [
        "# Imports"
      ],
      "metadata": {
        "id": "SlLK5AIa4tOo"
      }
    },
    {
      "cell_type": "code",
      "execution_count": 5,
      "metadata": {
        "colab": {
          "base_uri": "https://localhost:8080/"
        },
        "id": "LLwlPxmcWcZq",
        "outputId": "5827f962-9f61-4408-a4cc-6f14f9f05a34"
      },
      "outputs": [
        {
          "output_type": "stream",
          "name": "stdout",
          "text": [
            "Requirement already satisfied: transformers in /usr/local/lib/python3.10/dist-packages (4.34.1)\n",
            "Requirement already satisfied: filelock in /usr/local/lib/python3.10/dist-packages (from transformers) (3.12.4)\n",
            "Requirement already satisfied: huggingface-hub<1.0,>=0.16.4 in /usr/local/lib/python3.10/dist-packages (from transformers) (0.17.3)\n",
            "Requirement already satisfied: numpy>=1.17 in /usr/local/lib/python3.10/dist-packages (from transformers) (1.23.5)\n",
            "Requirement already satisfied: packaging>=20.0 in /usr/local/lib/python3.10/dist-packages (from transformers) (23.2)\n",
            "Requirement already satisfied: pyyaml>=5.1 in /usr/local/lib/python3.10/dist-packages (from transformers) (6.0.1)\n",
            "Requirement already satisfied: regex!=2019.12.17 in /usr/local/lib/python3.10/dist-packages (from transformers) (2023.6.3)\n",
            "Requirement already satisfied: requests in /usr/local/lib/python3.10/dist-packages (from transformers) (2.31.0)\n",
            "Requirement already satisfied: tokenizers<0.15,>=0.14 in /usr/local/lib/python3.10/dist-packages (from transformers) (0.14.1)\n",
            "Requirement already satisfied: safetensors>=0.3.1 in /usr/local/lib/python3.10/dist-packages (from transformers) (0.4.0)\n",
            "Requirement already satisfied: tqdm>=4.27 in /usr/local/lib/python3.10/dist-packages (from transformers) (4.66.1)\n",
            "Requirement already satisfied: fsspec in /usr/local/lib/python3.10/dist-packages (from huggingface-hub<1.0,>=0.16.4->transformers) (2023.6.0)\n",
            "Requirement already satisfied: typing-extensions>=3.7.4.3 in /usr/local/lib/python3.10/dist-packages (from huggingface-hub<1.0,>=0.16.4->transformers) (4.5.0)\n",
            "Requirement already satisfied: charset-normalizer<4,>=2 in /usr/local/lib/python3.10/dist-packages (from requests->transformers) (3.3.1)\n",
            "Requirement already satisfied: idna<4,>=2.5 in /usr/local/lib/python3.10/dist-packages (from requests->transformers) (3.4)\n",
            "Requirement already satisfied: urllib3<3,>=1.21.1 in /usr/local/lib/python3.10/dist-packages (from requests->transformers) (2.0.7)\n",
            "Requirement already satisfied: certifi>=2017.4.17 in /usr/local/lib/python3.10/dist-packages (from requests->transformers) (2023.7.22)\n"
          ]
        }
      ],
      "source": [
        "import numpy as np\n",
        "import pandas as pd\n",
        "import math\n",
        "\n",
        "import matplotlib.pyplot as plt\n",
        "import seaborn as sns\n",
        "\n",
        "from sklearn.metrics import roc_curve, auc\n",
        "from sklearn.metrics import confusion_matrix\n",
        "from sklearn.model_selection import train_test_split\n",
        "from sklearn.model_selection import RandomizedSearchCV\n",
        "import scipy.stats as stats\n",
        "from xgboost import XGBClassifier\n",
        "from sklearn.metrics import accuracy_score\n",
        "\n",
        "import xgboost as xgb\n",
        "import hyperopt\n",
        "from hyperopt import fmin, tpe, hp, STATUS_OK\n",
        "\n",
        "import tensorflow as tf\n",
        "!pip install transformers\n",
        "from transformers import TFDistilBertForSequenceClassification,DistilBertTokenizer"
      ]
    },
    {
      "cell_type": "markdown",
      "source": [
        "# Dataset A (Derma)"
      ],
      "metadata": {
        "id": "f18b66A1tQBS"
      }
    },
    {
      "cell_type": "markdown",
      "source": [
        "## Some definitions of functions"
      ],
      "metadata": {
        "id": "1r_rCFSHtiEu"
      }
    },
    {
      "cell_type": "code",
      "source": [
        "def normalize(df, minimum=None):\n",
        "    if minimum is None:\n",
        "        minimum = df.min()\n",
        "    maximum = df.max()\n",
        "    df -= minimum\n",
        "    df /= maximum - minimum\n",
        "\n",
        "def preprocess(df, y=False):\n",
        "    if y:\n",
        "        df = df.replace('fake', 0)\n",
        "        df = df.replace('real', 1)\n",
        "        return df\n",
        "    # Delete columns:\n",
        "    vars_delete = ['Id', 'Doughnuts consumption']\n",
        "    df = df.drop(vars_delete, axis=1, inplace=False)\n",
        "    # Normalize:\n",
        "    vars_normalize = ['Genetic Propensity', 'Skin X test']#, 'Doughnuts consumption']\n",
        "    for v in vars_normalize:\n",
        "        if v == 'Skin X test':\n",
        "            minimum = 1\n",
        "        else:\n",
        "            minimum = None\n",
        "        normalize(df[v], minimum=minimum)\n",
        "    return df\n",
        "\n",
        "def unified_measure (d, names):\n",
        "    final = []\n",
        "    for i in range(len(d['Small'])):\n",
        "        ns = d[names[0]][i]; nm = d[names[1]][i]; nl = d[names[2]][i]\n",
        "        if ns == 0:\n",
        "            if nm == 0:\n",
        "                if nl == 0:\n",
        "                    final.append('I')\n",
        "                elif nl == 1:\n",
        "                    final.append('L')\n",
        "                elif math.isnan(nl) == True:\n",
        "                    final.append('PL')\n",
        "            elif nm == 1:\n",
        "                if nl == 0:\n",
        "                    final.append('M')\n",
        "                elif nl == 1:\n",
        "                    final.append('I')\n",
        "                elif math.isnan(nl) == True:\n",
        "                    final.append('M')\n",
        "            elif math.isnan(nm) == True:\n",
        "                if nl == 0:\n",
        "                    final.append('PM')\n",
        "                elif nl == 1:\n",
        "                    final.append('L')\n",
        "                elif math.isnan(nl) == True:\n",
        "                    final.append('ML')\n",
        "        elif ns == 1:\n",
        "            if nm == 0:\n",
        "                if nl == 0:\n",
        "                    final.append('S')\n",
        "                elif nl == 1:\n",
        "                    final.append('I')\n",
        "                elif math.isnan(nl) == True:\n",
        "                    final.append('S')\n",
        "            elif nm == 1:\n",
        "                if nl == 0:\n",
        "                    final.append('I')\n",
        "                elif nl == 1:\n",
        "                    final.append('I')\n",
        "                elif math.isnan(nl) == True:\n",
        "                    final.append('I')\n",
        "            elif math.isnan(nm) == True:\n",
        "                if nl == 0:\n",
        "                    final.append('S')\n",
        "                elif nl == 1:\n",
        "                    final.append('I')\n",
        "                elif math.isnan(nl) == True:\n",
        "                    final.append('S')\n",
        "        if math.isnan(ns) == True:\n",
        "            if nm == 0:\n",
        "                if nl == 0:\n",
        "                    final.append('PS')\n",
        "                elif nl == 1:\n",
        "                    final.append('L')\n",
        "                elif math.isnan(nl) == True:\n",
        "                    final.append('SL')\n",
        "            elif nm == 1:\n",
        "                if nl == 0:\n",
        "                    final.append('M')\n",
        "                elif nl == 1:\n",
        "                    final.append('I')\n",
        "                elif math.isnan(nl) == True:\n",
        "                    final.append('M')\n",
        "            elif math.isnan(nm) == True:\n",
        "                if nl == 0:\n",
        "                    final.append('SM')\n",
        "                elif nl == 1:\n",
        "                    final.append('L')\n",
        "                elif math.isnan(nl) == True:\n",
        "                    final.append('U')\n",
        "\n",
        "    #print (final)\n",
        "    return final\n",
        "\n",
        "def crea_unified (df, destroy = True):\n",
        "    name1 = ['Small', 'Mid', 'Large']; name2 = ['Small size', 'Mid size', 'Large size']\n",
        "    df['Length'] = unified_measure (df, name2)\n",
        "    df['Length'] = df['Length'].astype('category')\n",
        "    df['Area'] = unified_measure (df, name1)\n",
        "    df['Area'] = df['Area'].astype('category')\n",
        "    if destroy == True:\n",
        "        for i in range (3):\n",
        "            df = df.drop(name1[i],axis = 1)\n",
        "            df = df.drop(name2[i],axis = 1)\n",
        "    return df\n",
        "\n",
        "def replace_nan (df, unified):\n",
        "    if unified == False:\n",
        "        df['Genetic Propensity'] = df['Genetic Propensity'].fillna(df['Genetic Propensity'].mean())\n",
        "        df = df.fillna(-1)\n",
        "    if unified == True:\n",
        "        df['Genetic Propensity'] = df['Genetic Propensity'].fillna(df['Genetic Propensity'].mean())\n",
        "        names = ['Lession', 'Skin X test', 'Skin color']\n",
        "        for name in names:\n",
        "            df[name] = df[name].fillna(-1)\n",
        "    return df"
      ],
      "metadata": {
        "id": "WN-fkihCYAW0"
      },
      "execution_count": 6,
      "outputs": []
    },
    {
      "cell_type": "markdown",
      "source": [],
      "metadata": {
        "id": "Yw19-UoduLob"
      }
    },
    {
      "cell_type": "markdown",
      "source": [
        "## Read and preprocess of the training dataset"
      ],
      "metadata": {
        "id": "lOc0ZrYEuLvI"
      }
    },
    {
      "cell_type": "code",
      "source": [
        "derma = pd.read_csv('/content/train_A_derma.csv')"
      ],
      "metadata": {
        "id": "Mfd1fXlUYAZT"
      },
      "execution_count": 7,
      "outputs": []
    },
    {
      "cell_type": "code",
      "source": [
        "y = derma['Fake/Real']\n",
        "X = derma.drop(['Fake/Real'], axis=1, inplace=False)"
      ],
      "metadata": {
        "id": "t4JMHQfgYAb0"
      },
      "execution_count": 8,
      "outputs": []
    },
    {
      "cell_type": "code",
      "source": [
        "X = preprocess(X)\n",
        "y = preprocess(y, y=True)"
      ],
      "metadata": {
        "id": "5B6qwqKRYAes"
      },
      "execution_count": 9,
      "outputs": []
    },
    {
      "cell_type": "code",
      "source": [
        "X = crea_unified (X)"
      ],
      "metadata": {
        "id": "lL2aYL5dYAhA"
      },
      "execution_count": 10,
      "outputs": []
    },
    {
      "cell_type": "code",
      "source": [
        "X = replace_nan(X,True)"
      ],
      "metadata": {
        "id": "TY6YO2N7YAi4"
      },
      "execution_count": 11,
      "outputs": []
    },
    {
      "cell_type": "markdown",
      "source": [
        "## First training in order to get test samples that will de used later for training and testing"
      ],
      "metadata": {
        "id": "uc_irBX0uUWb"
      }
    },
    {
      "cell_type": "code",
      "source": [
        "X_train, X_test, y_train, y_test = train_test_split(X, y, test_size=0.2)"
      ],
      "metadata": {
        "id": "VGqJjZRtYAli"
      },
      "execution_count": 12,
      "outputs": []
    },
    {
      "cell_type": "code",
      "source": [
        "# Define the hyperparameter space\n",
        "space = {\n",
        "    'max_depth': hp.choice('max_depth', np.arange(5, 15, dtype=int)),\n",
        "    'learning_rate': hp.loguniform('learning_rate', -4, -1),\n",
        "    'subsample': hp.uniform('subsample', 0.2, 1),\n",
        "    'n_estimators': hp.choice('n_estimators', np.arange(100, 500, dtype=int))\n",
        "}\n",
        "\n",
        "# Define the objective function to minimize\n",
        "def objective(params):\n",
        "    xgb_model = xgb.XGBClassifier(**params, enable_categorical=True, tree_method='hist')\n",
        "    xgb_model.fit(X_train, y_train)\n",
        "    y_pred = xgb_model.predict(X_test)\n",
        "    y_pred_prob = xgb_model.predict_proba(X_test)\n",
        "    #score = accuracy_score(y_test, y_pred)\n",
        "    score = (y_test@np.log(y_pred_prob[:,1]) + (np.ones(len(y_test)) - y_test) @ np.log(np.ones(len(y_test)) - y_pred_prob[:,1]))\n",
        "    return {'loss': -score, 'status': STATUS_OK}\n",
        "\n",
        "# Perform the optimization0\n",
        "best_params = fmin(objective, space, algo=tpe.suggest, max_evals=300)\n",
        "print(\"Best set of hyperparameters: \", best_params)"
      ],
      "metadata": {
        "colab": {
          "base_uri": "https://localhost:8080/"
        },
        "id": "PHtB2Q1nYAoI",
        "outputId": "20c1c9fb-4655-4ca3-ce08-5ac6c4b097fd"
      },
      "execution_count": 13,
      "outputs": [
        {
          "output_type": "stream",
          "name": "stdout",
          "text": [
            "100%|██████████| 300/300 [01:28<00:00,  3.37trial/s, best loss: 47.7467080691821]\n",
            "Best set of hyperparameters:  {'learning_rate': 0.06360533918014093, 'max_depth': 6, 'n_estimators': 47, 'subsample': 0.24405852210294293}\n"
          ]
        }
      ]
    },
    {
      "cell_type": "code",
      "source": [
        "xgb_model = xgb.XGBClassifier(**best_params, enable_categorical=True, tree_method='hist')\n",
        "xgb_model.fit(X_train, y_train)"
      ],
      "metadata": {
        "colab": {
          "base_uri": "https://localhost:8080/",
          "height": 249
        },
        "id": "DRcyh3oKcB4f",
        "outputId": "b05d21d1-417f-45dc-b2e6-0f3c2e9f7dc4"
      },
      "execution_count": 14,
      "outputs": [
        {
          "output_type": "execute_result",
          "data": {
            "text/plain": [
              "XGBClassifier(base_score=None, booster=None, callbacks=None,\n",
              "              colsample_bylevel=None, colsample_bynode=None,\n",
              "              colsample_bytree=None, device=None, early_stopping_rounds=None,\n",
              "              enable_categorical=True, eval_metric=None, feature_types=None,\n",
              "              gamma=None, grow_policy=None, importance_type=None,\n",
              "              interaction_constraints=None, learning_rate=0.06360533918014093,\n",
              "              max_bin=None, max_cat_threshold=None, max_cat_to_onehot=None,\n",
              "              max_delta_step=None, max_depth=6, max_leaves=None,\n",
              "              min_child_weight=None, missing=nan, monotone_constraints=None,\n",
              "              multi_strategy=None, n_estimators=47, n_jobs=None,\n",
              "              num_parallel_tree=None, random_state=None, ...)"
            ],
            "text/html": [
              "<style>#sk-container-id-1 {color: black;background-color: white;}#sk-container-id-1 pre{padding: 0;}#sk-container-id-1 div.sk-toggleable {background-color: white;}#sk-container-id-1 label.sk-toggleable__label {cursor: pointer;display: block;width: 100%;margin-bottom: 0;padding: 0.3em;box-sizing: border-box;text-align: center;}#sk-container-id-1 label.sk-toggleable__label-arrow:before {content: \"▸\";float: left;margin-right: 0.25em;color: #696969;}#sk-container-id-1 label.sk-toggleable__label-arrow:hover:before {color: black;}#sk-container-id-1 div.sk-estimator:hover label.sk-toggleable__label-arrow:before {color: black;}#sk-container-id-1 div.sk-toggleable__content {max-height: 0;max-width: 0;overflow: hidden;text-align: left;background-color: #f0f8ff;}#sk-container-id-1 div.sk-toggleable__content pre {margin: 0.2em;color: black;border-radius: 0.25em;background-color: #f0f8ff;}#sk-container-id-1 input.sk-toggleable__control:checked~div.sk-toggleable__content {max-height: 200px;max-width: 100%;overflow: auto;}#sk-container-id-1 input.sk-toggleable__control:checked~label.sk-toggleable__label-arrow:before {content: \"▾\";}#sk-container-id-1 div.sk-estimator input.sk-toggleable__control:checked~label.sk-toggleable__label {background-color: #d4ebff;}#sk-container-id-1 div.sk-label input.sk-toggleable__control:checked~label.sk-toggleable__label {background-color: #d4ebff;}#sk-container-id-1 input.sk-hidden--visually {border: 0;clip: rect(1px 1px 1px 1px);clip: rect(1px, 1px, 1px, 1px);height: 1px;margin: -1px;overflow: hidden;padding: 0;position: absolute;width: 1px;}#sk-container-id-1 div.sk-estimator {font-family: monospace;background-color: #f0f8ff;border: 1px dotted black;border-radius: 0.25em;box-sizing: border-box;margin-bottom: 0.5em;}#sk-container-id-1 div.sk-estimator:hover {background-color: #d4ebff;}#sk-container-id-1 div.sk-parallel-item::after {content: \"\";width: 100%;border-bottom: 1px solid gray;flex-grow: 1;}#sk-container-id-1 div.sk-label:hover label.sk-toggleable__label {background-color: #d4ebff;}#sk-container-id-1 div.sk-serial::before {content: \"\";position: absolute;border-left: 1px solid gray;box-sizing: border-box;top: 0;bottom: 0;left: 50%;z-index: 0;}#sk-container-id-1 div.sk-serial {display: flex;flex-direction: column;align-items: center;background-color: white;padding-right: 0.2em;padding-left: 0.2em;position: relative;}#sk-container-id-1 div.sk-item {position: relative;z-index: 1;}#sk-container-id-1 div.sk-parallel {display: flex;align-items: stretch;justify-content: center;background-color: white;position: relative;}#sk-container-id-1 div.sk-item::before, #sk-container-id-1 div.sk-parallel-item::before {content: \"\";position: absolute;border-left: 1px solid gray;box-sizing: border-box;top: 0;bottom: 0;left: 50%;z-index: -1;}#sk-container-id-1 div.sk-parallel-item {display: flex;flex-direction: column;z-index: 1;position: relative;background-color: white;}#sk-container-id-1 div.sk-parallel-item:first-child::after {align-self: flex-end;width: 50%;}#sk-container-id-1 div.sk-parallel-item:last-child::after {align-self: flex-start;width: 50%;}#sk-container-id-1 div.sk-parallel-item:only-child::after {width: 0;}#sk-container-id-1 div.sk-dashed-wrapped {border: 1px dashed gray;margin: 0 0.4em 0.5em 0.4em;box-sizing: border-box;padding-bottom: 0.4em;background-color: white;}#sk-container-id-1 div.sk-label label {font-family: monospace;font-weight: bold;display: inline-block;line-height: 1.2em;}#sk-container-id-1 div.sk-label-container {text-align: center;}#sk-container-id-1 div.sk-container {/* jupyter's `normalize.less` sets `[hidden] { display: none; }` but bootstrap.min.css set `[hidden] { display: none !important; }` so we also need the `!important` here to be able to override the default hidden behavior on the sphinx rendered scikit-learn.org. See: https://github.com/scikit-learn/scikit-learn/issues/21755 */display: inline-block !important;position: relative;}#sk-container-id-1 div.sk-text-repr-fallback {display: none;}</style><div id=\"sk-container-id-1\" class=\"sk-top-container\"><div class=\"sk-text-repr-fallback\"><pre>XGBClassifier(base_score=None, booster=None, callbacks=None,\n",
              "              colsample_bylevel=None, colsample_bynode=None,\n",
              "              colsample_bytree=None, device=None, early_stopping_rounds=None,\n",
              "              enable_categorical=True, eval_metric=None, feature_types=None,\n",
              "              gamma=None, grow_policy=None, importance_type=None,\n",
              "              interaction_constraints=None, learning_rate=0.06360533918014093,\n",
              "              max_bin=None, max_cat_threshold=None, max_cat_to_onehot=None,\n",
              "              max_delta_step=None, max_depth=6, max_leaves=None,\n",
              "              min_child_weight=None, missing=nan, monotone_constraints=None,\n",
              "              multi_strategy=None, n_estimators=47, n_jobs=None,\n",
              "              num_parallel_tree=None, random_state=None, ...)</pre><b>In a Jupyter environment, please rerun this cell to show the HTML representation or trust the notebook. <br />On GitHub, the HTML representation is unable to render, please try loading this page with nbviewer.org.</b></div><div class=\"sk-container\" hidden><div class=\"sk-item\"><div class=\"sk-estimator sk-toggleable\"><input class=\"sk-toggleable__control sk-hidden--visually\" id=\"sk-estimator-id-1\" type=\"checkbox\" checked><label for=\"sk-estimator-id-1\" class=\"sk-toggleable__label sk-toggleable__label-arrow\">XGBClassifier</label><div class=\"sk-toggleable__content\"><pre>XGBClassifier(base_score=None, booster=None, callbacks=None,\n",
              "              colsample_bylevel=None, colsample_bynode=None,\n",
              "              colsample_bytree=None, device=None, early_stopping_rounds=None,\n",
              "              enable_categorical=True, eval_metric=None, feature_types=None,\n",
              "              gamma=None, grow_policy=None, importance_type=None,\n",
              "              interaction_constraints=None, learning_rate=0.06360533918014093,\n",
              "              max_bin=None, max_cat_threshold=None, max_cat_to_onehot=None,\n",
              "              max_delta_step=None, max_depth=6, max_leaves=None,\n",
              "              min_child_weight=None, missing=nan, monotone_constraints=None,\n",
              "              multi_strategy=None, n_estimators=47, n_jobs=None,\n",
              "              num_parallel_tree=None, random_state=None, ...)</pre></div></div></div></div></div>"
            ]
          },
          "metadata": {},
          "execution_count": 14
        }
      ]
    },
    {
      "cell_type": "code",
      "source": [
        "y_val = xgb_model.predict(X_test)\n",
        "\n",
        "prob_val = xgb_model.predict_proba (X_test)\n",
        "prob1 = prob_val[:,1]\n",
        "\n",
        "cm = confusion_matrix(y_test, y_val)\n",
        "\n",
        "print (cm)\n",
        "\n",
        "fpr, tpr, thresholds = roc_curve(y_test,prob1)\n",
        "\n",
        "distance_perfection = []\n",
        "for i in range (len(fpr)):\n",
        "    distance_perfection.append(fpr[i]*fpr[i] + (1-tpr[i])*(1-tpr[i]))\n",
        "\n",
        "threshold = thresholds[distance_perfection.index(min(distance_perfection))]\n",
        "print ('Threshold: ', threshold)\n",
        "print ('Operating point: FPR = %lf   TPR = %lf' % (fpr[distance_perfection.index(min(distance_perfection))], tpr[distance_perfection.index(min(distance_perfection))]))\n",
        "\n",
        "print ('AUC: %lf' % (auc(fpr, tpr)))\n",
        "plt.figure()\n",
        "plt.scatter(fpr, tpr, c= thresholds, cmap='viridis', vmin=0, vmax=1)\n",
        "clb = plt.colorbar()\n",
        "clb.ax.set_title('Threshold')\n",
        "plt.plot([0, 1], [0, 1], color='navy', lw=2, linestyle='--', label= 'Random classifier')\n",
        "plt.xlabel('False Positive Rate')\n",
        "plt.ylabel('True Positive Rate')\n",
        "plt.title('Receiver Operating Characteristic (ROC)')\n",
        "plt.legend(loc=\"lower right\")\n",
        "plt.show()"
      ],
      "metadata": {
        "colab": {
          "base_uri": "https://localhost:8080/",
          "height": 559
        },
        "id": "f05hYxwIcB67",
        "outputId": "4a439634-ecbc-43a4-af37-f8612205d341"
      },
      "execution_count": 15,
      "outputs": [
        {
          "output_type": "stream",
          "name": "stdout",
          "text": [
            "[[50 12]\n",
            " [14 44]]\n",
            "Threshold:  0.38001612\n",
            "Operating point: FPR = 0.193548   TPR = 0.913793\n",
            "AUC: 0.897942\n"
          ]
        },
        {
          "output_type": "display_data",
          "data": {
            "text/plain": [
              "<Figure size 640x480 with 2 Axes>"
            ],
            "image/png": "[encoded data removed]"
          },
          "metadata": {}
        }
      ]
    },
    {
      "cell_type": "code",
      "source": [
        "bins = np.arange(0,1.001,0.01)\n",
        "#print (bins)\n",
        "hist_aciertos = []\n",
        "y_val = np.array(y_val); y_test = np.array(y_test)\n",
        "for i in range(len(y_val)):\n",
        "    #print (y_val[i],y_test[i])\n",
        "    if y_val[i]==y_test[i]:\n",
        "        hist_aciertos.append(prob1[i])\n",
        "\n",
        "# plotting first histogram\n",
        "plt.hist(prob1,bins=bins, color='red')\n",
        "\n",
        "# plotting second histogram\n",
        "plt.hist(hist_aciertos,bins=bins, color='blue')\n",
        "\n",
        "# Showing the plot using plt.show()\n",
        "plt.show()"
      ],
      "metadata": {
        "colab": {
          "base_uri": "https://localhost:8080/",
          "height": 430
        },
        "id": "DIOJiMhkcB9Q",
        "outputId": "53cded11-baaf-43f1-dbf0-fc4b283c3f35"
      },
      "execution_count": 16,
      "outputs": [
        {
          "output_type": "display_data",
          "data": {
            "text/plain": [
              "<Figure size 640x480 with 1 Axes>"
            ],
            "image/png": "[encoded data removed]"
          },
          "metadata": {}
        }
      ]
    },
    {
      "cell_type": "markdown",
      "source": [
        "### Read and preprocess of the test data"
      ],
      "metadata": {
        "id": "lhB57HTfu3XP"
      }
    },
    {
      "cell_type": "code",
      "source": [
        "test = pd.read_csv('/content/test_A_derma.csv')"
      ],
      "metadata": {
        "id": "rsimEQXwcB_z"
      },
      "execution_count": 17,
      "outputs": []
    },
    {
      "cell_type": "code",
      "source": [
        "test = preprocess(test)\n",
        "test = crea_unified(test)\n",
        "test = replace_nan(test,True)"
      ],
      "metadata": {
        "id": "FKSXyYkEcCB8"
      },
      "execution_count": 18,
      "outputs": []
    },
    {
      "cell_type": "code",
      "source": [
        "test"
      ],
      "metadata": {
        "colab": {
          "base_uri": "https://localhost:8080/",
          "height": 424
        },
        "id": "5jQIfZR0cCEB",
        "outputId": "cc84784a-e6dc-47fd-b53b-519dae856cbe"
      },
      "execution_count": 19,
      "outputs": [
        {
          "output_type": "execute_result",
          "data": {
            "text/plain": [
              "     Lession  Genetic Propensity  Skin X test  Skin color Length Area\n",
              "0       -1.0            0.387992     0.666667        -1.0     PM    L\n",
              "1       -1.0            0.387992     0.666667         1.0      S    S\n",
              "2        0.0            0.387992     1.000000        -1.0     PS   PM\n",
              "3        0.0            0.387992     0.333333         1.0      M    M\n",
              "4        1.0            0.373318     1.000000         1.0      M    M\n",
              "..       ...                 ...          ...         ...    ...  ...\n",
              "251      0.0            0.296499     0.666667         0.0     PL    L\n",
              "252     -1.0            0.303514     1.000000         1.0      L    L\n",
              "253      0.0            0.299477     0.666667        -1.0      L    L\n",
              "254      0.0            0.387992     0.666667        -1.0      S    S\n",
              "255      0.0            0.296499     0.666667         0.0     ML   PM\n",
              "\n",
              "[256 rows x 6 columns]"
            ],
            "text/html": [
              "\n",
              "  <div id=\"df-da8e59b0-0d29-4c8d-bbf6-55b7bb01a875\" class=\"colab-df-container\">\n",
              "    <div>\n",
              "<style scoped>\n",
              "    .dataframe tbody tr th:only-of-type {\n",
              "        vertical-align: middle;\n",
              "    }\n",
              "\n",
              "    .dataframe tbody tr th {\n",
              "        vertical-align: top;\n",
              "    }\n",
              "\n",
              "    .dataframe thead th {\n",
              "        text-align: right;\n",
              "    }\n",
              "</style>\n",
              "<table border=\"1\" class=\"dataframe\">\n",
              "  <thead>\n",
              "    <tr style=\"text-align: right;\">\n",
              "      <th></th>\n",
              "      <th>Lession</th>\n",
              "      <th>Genetic Propensity</th>\n",
              "      <th>Skin X test</th>\n",
              "      <th>Skin color</th>\n",
              "      <th>Length</th>\n",
              "      <th>Area</th>\n",
              "    </tr>\n",
              "  </thead>\n",
              "  <tbody>\n",
              "    <tr>\n",
              "      <th>0</th>\n",
              "      <td>-1.0</td>\n",
              "      <td>0.387992</td>\n",
              "      <td>0.666667</td>\n",
              "      <td>-1.0</td>\n",
              "      <td>PM</td>\n",
              "      <td>L</td>\n",
              "    </tr>\n",
              "    <tr>\n",
              "      <th>1</th>\n",
              "      <td>-1.0</td>\n",
              "      <td>0.387992</td>\n",
              "      <td>0.666667</td>\n",
              "      <td>1.0</td>\n",
              "      <td>S</td>\n",
              "      <td>S</td>\n",
              "    </tr>\n",
              "    <tr>\n",
              "      <th>2</th>\n",
              "      <td>0.0</td>\n",
              "      <td>0.387992</td>\n",
              "      <td>1.000000</td>\n",
              "      <td>-1.0</td>\n",
              "      <td>PS</td>\n",
              "      <td>PM</td>\n",
              "    </tr>\n",
              "    <tr>\n",
              "      <th>3</th>\n",
              "      <td>0.0</td>\n",
              "      <td>0.387992</td>\n",
              "      <td>0.333333</td>\n",
              "      <td>1.0</td>\n",
              "      <td>M</td>\n",
              "      <td>M</td>\n",
              "    </tr>\n",
              "    <tr>\n",
              "      <th>4</th>\n",
              "      <td>1.0</td>\n",
              "      <td>0.373318</td>\n",
              "      <td>1.000000</td>\n",
              "      <td>1.0</td>\n",
              "      <td>M</td>\n",
              "      <td>M</td>\n",
              "    </tr>\n",
              "    <tr>\n",
              "      <th>...</th>\n",
              "      <td>...</td>\n",
              "      <td>...</td>\n",
              "      <td>...</td>\n",
              "      <td>...</td>\n",
              "      <td>...</td>\n",
              "      <td>...</td>\n",
              "    </tr>\n",
              "    <tr>\n",
              "      <th>251</th>\n",
              "      <td>0.0</td>\n",
              "      <td>0.296499</td>\n",
              "      <td>0.666667</td>\n",
              "      <td>0.0</td>\n",
              "      <td>PL</td>\n",
              "      <td>L</td>\n",
              "    </tr>\n",
              "    <tr>\n",
              "      <th>252</th>\n",
              "      <td>-1.0</td>\n",
              "      <td>0.303514</td>\n",
              "      <td>1.000000</td>\n",
              "      <td>1.0</td>\n",
              "      <td>L</td>\n",
              "      <td>L</td>\n",
              "    </tr>\n",
              "    <tr>\n",
              "      <th>253</th>\n",
              "      <td>0.0</td>\n",
              "      <td>0.299477</td>\n",
              "      <td>0.666667</td>\n",
              "      <td>-1.0</td>\n",
              "      <td>L</td>\n",
              "      <td>L</td>\n",
              "    </tr>\n",
              "    <tr>\n",
              "      <th>254</th>\n",
              "      <td>0.0</td>\n",
              "      <td>0.387992</td>\n",
              "      <td>0.666667</td>\n",
              "      <td>-1.0</td>\n",
              "      <td>S</td>\n",
              "      <td>S</td>\n",
              "    </tr>\n",
              "    <tr>\n",
              "      <th>255</th>\n",
              "      <td>0.0</td>\n",
              "      <td>0.296499</td>\n",
              "      <td>0.666667</td>\n",
              "      <td>0.0</td>\n",
              "      <td>ML</td>\n",
              "      <td>PM</td>\n",
              "    </tr>\n",
              "  </tbody>\n",
              "</table>\n",
              "<p>256 rows × 6 columns</p>\n",
              "</div>\n",
              "    <div class=\"colab-df-buttons\">\n",
              "\n",
              "  <div class=\"colab-df-container\">\n",
              "    <button class=\"colab-df-convert\" onclick=\"convertToInteractive('df-da8e59b0-0d29-4c8d-bbf6-55b7bb01a875')\"\n",
              "            title=\"Convert this dataframe to an interactive table.\"\n",
              "            style=\"display:none;\">\n",
              "\n",
              "  <svg xmlns=\"http://www.w3.org/2000/svg\" height=\"24px\" viewBox=\"0 -960 960 960\">\n",
              "    <path d=\"M120-120v-720h720v720H120Zm60-500h600v-160H180v160Zm220 220h160v-160H400v160Zm0 220h160v-160H400v160ZM180-400h160v-160H180v160Zm440 0h160v-160H620v160ZM180-180h160v-160H180v160Zm440 0h160v-160H620v160Z\"/>\n",
              "  </svg>\n",
              "    </button>\n",
              "\n",
              "  <style>\n",
              "    .colab-df-container {\n",
              "      display:flex;\n",
              "      gap: 12px;\n",
              "    }\n",
              "\n",
              "    .colab-df-convert {\n",
              "      background-color: #E8F0FE;\n",
              "      border: none;\n",
              "      border-radius: 50%;\n",
              "      cursor: pointer;\n",
              "      display: none;\n",
              "      fill: #1967D2;\n",
              "      height: 32px;\n",
              "      padding: 0 0 0 0;\n",
              "      width: 32px;\n",
              "    }\n",
              "\n",
              "    .colab-df-convert:hover {\n",
              "      background-color: #E2EBFA;\n",
              "      box-shadow: 0px 1px 2px rgba(60, 64, 67, 0.3), 0px 1px 3px 1px rgba(60, 64, 67, 0.15);\n",
              "      fill: #174EA6;\n",
              "    }\n",
              "\n",
              "    .colab-df-buttons div {\n",
              "      margin-bottom: 4px;\n",
              "    }\n",
              "\n",
              "    [theme=dark] .colab-df-convert {\n",
              "      background-color: #3B4455;\n",
              "      fill: #D2E3FC;\n",
              "    }\n",
              "\n",
              "    [theme=dark] .colab-df-convert:hover {\n",
              "      background-color: #434B5C;\n",
              "      box-shadow: 0px 1px 3px 1px rgba(0, 0, 0, 0.15);\n",
              "      filter: drop-shadow(0px 1px 2px rgba(0, 0, 0, 0.3));\n",
              "      fill: #FFFFFF;\n",
              "    }\n",
              "  </style>\n",
              "\n",
              "    <script>\n",
              "      const buttonEl =\n",
              "        document.querySelector('#df-da8e59b0-0d29-4c8d-bbf6-55b7bb01a875 button.colab-df-convert');\n",
              "      buttonEl.style.display =\n",
              "        google.colab.kernel.accessAllowed ? 'block' : 'none';\n",
              "\n",
              "      async function convertToInteractive(key) {\n",
              "        const element = document.querySelector('#df-da8e59b0-0d29-4c8d-bbf6-55b7bb01a875');\n",
              "        const dataTable =\n",
              "          await google.colab.kernel.invokeFunction('convertToInteractive',\n",
              "                                                    [key], {});\n",
              "        if (!dataTable) return;\n",
              "\n",
              "        const docLinkHtml = 'Like what you see? Visit the ' +\n",
              "          '<a target=\"_blank\" href=https://colab.research.google.com/notebooks/data_table.ipynb>data table notebook</a>'\n",
              "          + ' to learn more about interactive tables.';\n",
              "        element.innerHTML = '';\n",
              "        dataTable['output_type'] = 'display_data';\n",
              "        await google.colab.output.renderOutput(dataTable, element);\n",
              "        const docLink = document.createElement('div');\n",
              "        docLink.innerHTML = docLinkHtml;\n",
              "        element.appendChild(docLink);\n",
              "      }\n",
              "    </script>\n",
              "  </div>\n",
              "\n",
              "\n",
              "<div id=\"df-c54dae47-ba95-49f3-a42c-df7295937d14\">\n",
              "  <button class=\"colab-df-quickchart\" onclick=\"quickchart('df-c54dae47-ba95-49f3-a42c-df7295937d14')\"\n",
              "            title=\"Suggest charts.\"\n",
              "            style=\"display:none;\">\n",
              "\n",
              "<svg xmlns=\"http://www.w3.org/2000/svg\" height=\"24px\"viewBox=\"0 0 24 24\"\n",
              "     width=\"24px\">\n",
              "    <g>\n",
              "        <path d=\"M19 3H5c-1.1 0-2 .9-2 2v14c0 1.1.9 2 2 2h14c1.1 0 2-.9 2-2V5c0-1.1-.9-2-2-2zM9 17H7v-7h2v7zm4 0h-2V7h2v10zm4 0h-2v-4h2v4z\"/>\n",
              "    </g>\n",
              "</svg>\n",
              "  </button>\n",
              "\n",
              "<style>\n",
              "  .colab-df-quickchart {\n",
              "      --bg-color: #E8F0FE;\n",
              "      --fill-color: #1967D2;\n",
              "      --hover-bg-color: #E2EBFA;\n",
              "      --hover-fill-color: #174EA6;\n",
              "      --disabled-fill-color: #AAA;\n",
              "      --disabled-bg-color: #DDD;\n",
              "  }\n",
              "\n",
              "  [theme=dark] .colab-df-quickchart {\n",
              "      --bg-color: #3B4455;\n",
              "      --fill-color: #D2E3FC;\n",
              "      --hover-bg-color: #434B5C;\n",
              "      --hover-fill-color: #FFFFFF;\n",
              "      --disabled-bg-color: #3B4455;\n",
              "      --disabled-fill-color: #666;\n",
              "  }\n",
              "\n",
              "  .colab-df-quickchart {\n",
              "    background-color: var(--bg-color);\n",
              "    border: none;\n",
              "    border-radius: 50%;\n",
              "    cursor: pointer;\n",
              "    display: none;\n",
              "    fill: var(--fill-color);\n",
              "    height: 32px;\n",
              "    padding: 0;\n",
              "    width: 32px;\n",
              "  }\n",
              "\n",
              "  .colab-df-quickchart:hover {\n",
              "    background-color: var(--hover-bg-color);\n",
              "    box-shadow: 0 1px 2px rgba(60, 64, 67, 0.3), 0 1px 3px 1px rgba(60, 64, 67, 0.15);\n",
              "    fill: var(--button-hover-fill-color);\n",
              "  }\n",
              "\n",
              "  .colab-df-quickchart-complete:disabled,\n",
              "  .colab-df-quickchart-complete:disabled:hover {\n",
              "    background-color: var(--disabled-bg-color);\n",
              "    fill: var(--disabled-fill-color);\n",
              "    box-shadow: none;\n",
              "  }\n",
              "\n",
              "  .colab-df-spinner {\n",
              "    border: 2px solid var(--fill-color);\n",
              "    border-color: transparent;\n",
              "    border-bottom-color: var(--fill-color);\n",
              "    animation:\n",
              "      spin 1s steps(1) infinite;\n",
              "  }\n",
              "\n",
              "  @keyframes spin {\n",
              "    0% {\n",
              "      border-color: transparent;\n",
              "      border-bottom-color: var(--fill-color);\n",
              "      border-left-color: var(--fill-color);\n",
              "    }\n",
              "    20% {\n",
              "      border-color: transparent;\n",
              "      border-left-color: var(--fill-color);\n",
              "      border-top-color: var(--fill-color);\n",
              "    }\n",
              "    30% {\n",
              "      border-color: transparent;\n",
              "      border-left-color: var(--fill-color);\n",
              "      border-top-color: var(--fill-color);\n",
              "      border-right-color: var(--fill-color);\n",
              "    }\n",
              "    40% {\n",
              "      border-color: transparent;\n",
              "      border-right-color: var(--fill-color);\n",
              "      border-top-color: var(--fill-color);\n",
              "    }\n",
              "    60% {\n",
              "      border-color: transparent;\n",
              "      border-right-color: var(--fill-color);\n",
              "    }\n",
              "    80% {\n",
              "      border-color: transparent;\n",
              "      border-right-color: var(--fill-color);\n",
              "      border-bottom-color: var(--fill-color);\n",
              "    }\n",
              "    90% {\n",
              "      border-color: transparent;\n",
              "      border-bottom-color: var(--fill-color);\n",
              "    }\n",
              "  }\n",
              "</style>\n",
              "\n",
              "  <script>\n",
              "    async function quickchart(key) {\n",
              "      const quickchartButtonEl =\n",
              "        document.querySelector('#' + key + ' button');\n",
              "      quickchartButtonEl.disabled = true;  // To prevent multiple clicks.\n",
              "      quickchartButtonEl.classList.add('colab-df-spinner');\n",
              "      try {\n",
              "        const charts = await google.colab.kernel.invokeFunction(\n",
              "            'suggestCharts', [key], {});\n",
              "      } catch (error) {\n",
              "        console.error('Error during call to suggestCharts:', error);\n",
              "      }\n",
              "      quickchartButtonEl.classList.remove('colab-df-spinner');\n",
              "      quickchartButtonEl.classList.add('colab-df-quickchart-complete');\n",
              "    }\n",
              "    (() => {\n",
              "      let quickchartButtonEl =\n",
              "        document.querySelector('#df-c54dae47-ba95-49f3-a42c-df7295937d14 button');\n",
              "      quickchartButtonEl.style.display =\n",
              "        google.colab.kernel.accessAllowed ? 'block' : 'none';\n",
              "    })();\n",
              "  </script>\n",
              "</div>\n",
              "    </div>\n",
              "  </div>\n"
            ]
          },
          "metadata": {},
          "execution_count": 19
        }
      ]
    },
    {
      "cell_type": "code",
      "source": [
        "preds = xgb_model.predict_proba(test)"
      ],
      "metadata": {
        "id": "ZrQ-P2-BcCGl"
      },
      "execution_count": 20,
      "outputs": []
    },
    {
      "cell_type": "code",
      "source": [
        "plt.hist(preds[:,1],bins=bins, color='blue')\n",
        "plt.show()"
      ],
      "metadata": {
        "colab": {
          "base_uri": "https://localhost:8080/",
          "height": 430
        },
        "id": "FI_MQN0-cCIy",
        "outputId": "2bf8d36c-6f04-425e-af88-eebecc25c77e"
      },
      "execution_count": 21,
      "outputs": [
        {
          "output_type": "display_data",
          "data": {
            "text/plain": [
              "<Figure size 640x480 with 1 Axes>"
            ],
            "image/png": "[encoded data removed]"
          },
          "metadata": {}
        }
      ]
    },
    {
      "cell_type": "markdown",
      "source": [
        "### Decision on the intervals of probability that will be used for the data augmentation"
      ],
      "metadata": {
        "id": "xd2XJIZTvDBu"
      }
    },
    {
      "cell_type": "code",
      "source": [
        "y = list(y)\n",
        "#print(test)\n",
        "for i in range (len(preds)):\n",
        "    if preds[i][1] <= 0.08:\n",
        "        #print (preds[i][1])\n",
        "        X.loc[len(X.index)] = test.values[i]\n",
        "        y.append(0)\n",
        "    #if preds[i][1] >= 0.99:\n",
        "        #print (preds[i][1])\n",
        "        #X.loc[len(X.index)] = test.values[i]\n",
        "        #y.append(1)\n",
        "\n",
        "print (len(X), len(y))"
      ],
      "metadata": {
        "colab": {
          "base_uri": "https://localhost:8080/"
        },
        "id": "aVY4iTBBcy17",
        "outputId": "42febf75-ab44-49cf-e9e8-bcbe5bec1eb6"
      },
      "execution_count": 22,
      "outputs": [
        {
          "output_type": "stream",
          "name": "stdout",
          "text": [
            "616 616\n"
          ]
        }
      ]
    },
    {
      "cell_type": "markdown",
      "source": [
        "## Second training with both training and some of the test samples"
      ],
      "metadata": {
        "id": "KVHubFRivaZy"
      }
    },
    {
      "cell_type": "code",
      "source": [
        "X['Area'] = X['Area'].astype('category')\n",
        "X['Length'] = X['Length'].astype('category')"
      ],
      "metadata": {
        "id": "3NKQtB8Ncy4o"
      },
      "execution_count": 27,
      "outputs": []
    },
    {
      "cell_type": "code",
      "source": [
        "X_train, X_test, y_train, y_test = train_test_split(X, y, test_size=0.2)"
      ],
      "metadata": {
        "id": "2N7lvcLxcy7O"
      },
      "execution_count": 28,
      "outputs": []
    },
    {
      "cell_type": "code",
      "source": [
        "# Define the hyperparameter space\n",
        "space = {\n",
        "    'max_depth': hp.choice('max_depth', np.arange(5, 15, dtype=int)),\n",
        "    'learning_rate': hp.loguniform('learning_rate', -4, -1),\n",
        "    'subsample': hp.uniform('subsample', 0.2, 1),\n",
        "    'n_estimators': hp.choice('n_estimators', np.arange(100, 500, dtype=int))\n",
        "}\n",
        "\n",
        "# Define the objective function to minimize\n",
        "def objective(params):\n",
        "    xgb_model2 = xgb.XGBClassifier(**params, enable_categorical=True, tree_method='hist')\n",
        "    xgb_model2.fit(X_train, y_train)\n",
        "    y_pred = xgb_model2.predict(X_test)\n",
        "    y_pred_prob = xgb_model2.predict_proba(X_test)\n",
        "    score = accuracy_score(y_test, y_pred)\n",
        "    #score = (y_pred @ np.log(y_pred_prob[:,1]) + (np.ones(len(y_pred)) - y_pred) @ np.log(np.ones(len(y_pred)) - y_pred_prob[:,1]))\n",
        "    return {'loss': -score, 'status': STATUS_OK}\n",
        "\n",
        "# Perform the optimization\n",
        "best_params = fmin(objective, space, algo=tpe.suggest, max_evals=500)\n",
        "print(\"Best set of hyperparameters: \", best_params)"
      ],
      "metadata": {
        "colab": {
          "base_uri": "https://localhost:8080/"
        },
        "id": "MU3iUa4Xcy9e",
        "outputId": "267776e0-3760-421a-8bc8-7e04fd5448f2"
      },
      "execution_count": 29,
      "outputs": [
        {
          "output_type": "stream",
          "name": "stdout",
          "text": [
            "100%|██████████| 500/500 [01:56<00:00,  4.28trial/s, best loss: -0.8548387096774194]\n",
            "Best set of hyperparameters:  {'learning_rate': 0.04230687147793261, 'max_depth': 0, 'n_estimators': 207, 'subsample': 0.3182503886935578}\n"
          ]
        }
      ]
    },
    {
      "cell_type": "code",
      "source": [
        "xgb_model2 = xgb.XGBClassifier(**best_params, enable_categorical=True, tree_method='hist')\n",
        "xgb_model2.fit(X_train, y_train)"
      ],
      "metadata": {
        "colab": {
          "base_uri": "https://localhost:8080/",
          "height": 249
        },
        "id": "XTFEwTSDcy_q",
        "outputId": "e982de85-f0dd-445c-e84d-2f56560f8fdd"
      },
      "execution_count": 30,
      "outputs": [
        {
          "output_type": "execute_result",
          "data": {
            "text/plain": [
              "XGBClassifier(base_score=None, booster=None, callbacks=None,\n",
              "              colsample_bylevel=None, colsample_bynode=None,\n",
              "              colsample_bytree=None, device=None, early_stopping_rounds=None,\n",
              "              enable_categorical=True, eval_metric=None, feature_types=None,\n",
              "              gamma=None, grow_policy=None, importance_type=None,\n",
              "              interaction_constraints=None, learning_rate=0.04230687147793261,\n",
              "              max_bin=None, max_cat_threshold=None, max_cat_to_onehot=None,\n",
              "              max_delta_step=None, max_depth=0, max_leaves=None,\n",
              "              min_child_weight=None, missing=nan, monotone_constraints=None,\n",
              "              multi_strategy=None, n_estimators=207, n_jobs=None,\n",
              "              num_parallel_tree=None, random_state=None, ...)"
            ],
            "text/html": [
              "<style>#sk-container-id-2 {color: black;background-color: white;}#sk-container-id-2 pre{padding: 0;}#sk-container-id-2 div.sk-toggleable {background-color: white;}#sk-container-id-2 label.sk-toggleable__label {cursor: pointer;display: block;width: 100%;margin-bottom: 0;padding: 0.3em;box-sizing: border-box;text-align: center;}#sk-container-id-2 label.sk-toggleable__label-arrow:before {content: \"▸\";float: left;margin-right: 0.25em;color: #696969;}#sk-container-id-2 label.sk-toggleable__label-arrow:hover:before {color: black;}#sk-container-id-2 div.sk-estimator:hover label.sk-toggleable__label-arrow:before {color: black;}#sk-container-id-2 div.sk-toggleable__content {max-height: 0;max-width: 0;overflow: hidden;text-align: left;background-color: #f0f8ff;}#sk-container-id-2 div.sk-toggleable__content pre {margin: 0.2em;color: black;border-radius: 0.25em;background-color: #f0f8ff;}#sk-container-id-2 input.sk-toggleable__control:checked~div.sk-toggleable__content {max-height: 200px;max-width: 100%;overflow: auto;}#sk-container-id-2 input.sk-toggleable__control:checked~label.sk-toggleable__label-arrow:before {content: \"▾\";}#sk-container-id-2 div.sk-estimator input.sk-toggleable__control:checked~label.sk-toggleable__label {background-color: #d4ebff;}#sk-container-id-2 div.sk-label input.sk-toggleable__control:checked~label.sk-toggleable__label {background-color: #d4ebff;}#sk-container-id-2 input.sk-hidden--visually {border: 0;clip: rect(1px 1px 1px 1px);clip: rect(1px, 1px, 1px, 1px);height: 1px;margin: -1px;overflow: hidden;padding: 0;position: absolute;width: 1px;}#sk-container-id-2 div.sk-estimator {font-family: monospace;background-color: #f0f8ff;border: 1px dotted black;border-radius: 0.25em;box-sizing: border-box;margin-bottom: 0.5em;}#sk-container-id-2 div.sk-estimator:hover {background-color: #d4ebff;}#sk-container-id-2 div.sk-parallel-item::after {content: \"\";width: 100%;border-bottom: 1px solid gray;flex-grow: 1;}#sk-container-id-2 div.sk-label:hover label.sk-toggleable__label {background-color: #d4ebff;}#sk-container-id-2 div.sk-serial::before {content: \"\";position: absolute;border-left: 1px solid gray;box-sizing: border-box;top: 0;bottom: 0;left: 50%;z-index: 0;}#sk-container-id-2 div.sk-serial {display: flex;flex-direction: column;align-items: center;background-color: white;padding-right: 0.2em;padding-left: 0.2em;position: relative;}#sk-container-id-2 div.sk-item {position: relative;z-index: 1;}#sk-container-id-2 div.sk-parallel {display: flex;align-items: stretch;justify-content: center;background-color: white;position: relative;}#sk-container-id-2 div.sk-item::before, #sk-container-id-2 div.sk-parallel-item::before {content: \"\";position: absolute;border-left: 1px solid gray;box-sizing: border-box;top: 0;bottom: 0;left: 50%;z-index: -1;}#sk-container-id-2 div.sk-parallel-item {display: flex;flex-direction: column;z-index: 1;position: relative;background-color: white;}#sk-container-id-2 div.sk-parallel-item:first-child::after {align-self: flex-end;width: 50%;}#sk-container-id-2 div.sk-parallel-item:last-child::after {align-self: flex-start;width: 50%;}#sk-container-id-2 div.sk-parallel-item:only-child::after {width: 0;}#sk-container-id-2 div.sk-dashed-wrapped {border: 1px dashed gray;margin: 0 0.4em 0.5em 0.4em;box-sizing: border-box;padding-bottom: 0.4em;background-color: white;}#sk-container-id-2 div.sk-label label {font-family: monospace;font-weight: bold;display: inline-block;line-height: 1.2em;}#sk-container-id-2 div.sk-label-container {text-align: center;}#sk-container-id-2 div.sk-container {/* jupyter's `normalize.less` sets `[hidden] { display: none; }` but bootstrap.min.css set `[hidden] { display: none !important; }` so we also need the `!important` here to be able to override the default hidden behavior on the sphinx rendered scikit-learn.org. See: https://github.com/scikit-learn/scikit-learn/issues/21755 */display: inline-block !important;position: relative;}#sk-container-id-2 div.sk-text-repr-fallback {display: none;}</style><div id=\"sk-container-id-2\" class=\"sk-top-container\"><div class=\"sk-text-repr-fallback\"><pre>XGBClassifier(base_score=None, booster=None, callbacks=None,\n",
              "              colsample_bylevel=None, colsample_bynode=None,\n",
              "              colsample_bytree=None, device=None, early_stopping_rounds=None,\n",
              "              enable_categorical=True, eval_metric=None, feature_types=None,\n",
              "              gamma=None, grow_policy=None, importance_type=None,\n",
              "              interaction_constraints=None, learning_rate=0.04230687147793261,\n",
              "              max_bin=None, max_cat_threshold=None, max_cat_to_onehot=None,\n",
              "              max_delta_step=None, max_depth=0, max_leaves=None,\n",
              "              min_child_weight=None, missing=nan, monotone_constraints=None,\n",
              "              multi_strategy=None, n_estimators=207, n_jobs=None,\n",
              "              num_parallel_tree=None, random_state=None, ...)</pre><b>In a Jupyter environment, please rerun this cell to show the HTML representation or trust the notebook. <br />On GitHub, the HTML representation is unable to render, please try loading this page with nbviewer.org.</b></div><div class=\"sk-container\" hidden><div class=\"sk-item\"><div class=\"sk-estimator sk-toggleable\"><input class=\"sk-toggleable__control sk-hidden--visually\" id=\"sk-estimator-id-2\" type=\"checkbox\" checked><label for=\"sk-estimator-id-2\" class=\"sk-toggleable__label sk-toggleable__label-arrow\">XGBClassifier</label><div class=\"sk-toggleable__content\"><pre>XGBClassifier(base_score=None, booster=None, callbacks=None,\n",
              "              colsample_bylevel=None, colsample_bynode=None,\n",
              "              colsample_bytree=None, device=None, early_stopping_rounds=None,\n",
              "              enable_categorical=True, eval_metric=None, feature_types=None,\n",
              "              gamma=None, grow_policy=None, importance_type=None,\n",
              "              interaction_constraints=None, learning_rate=0.04230687147793261,\n",
              "              max_bin=None, max_cat_threshold=None, max_cat_to_onehot=None,\n",
              "              max_delta_step=None, max_depth=0, max_leaves=None,\n",
              "              min_child_weight=None, missing=nan, monotone_constraints=None,\n",
              "              multi_strategy=None, n_estimators=207, n_jobs=None,\n",
              "              num_parallel_tree=None, random_state=None, ...)</pre></div></div></div></div></div>"
            ]
          },
          "metadata": {},
          "execution_count": 30
        }
      ]
    },
    {
      "cell_type": "code",
      "source": [
        "y_val = xgb_model2.predict(X_test)\n",
        "\n",
        "prob_val = xgb_model2.predict_proba (X_test)\n",
        "prob1 = prob_val[:,1]\n",
        "\n",
        "cm = confusion_matrix(y_test, y_val)\n",
        "\n",
        "print (cm)\n",
        "\n",
        "fpr, tpr, thresholds = roc_curve(y_test,prob1)\n",
        "\n",
        "distance_perfection = []\n",
        "for i in range (len(fpr)):\n",
        "    distance_perfection.append(fpr[i]*fpr[i] + (1-tpr[i])*(1-tpr[i]))\n",
        "\n",
        "threshold = thresholds[distance_perfection.index(min(distance_perfection))]\n",
        "print ('Operating point: FPR = %lf   TPR = %lf' % (fpr[distance_perfection.index(min(distance_perfection))], tpr[distance_perfection.index(min(distance_perfection))]))\n",
        "\n",
        "print ('AUC: %lf' % (auc(fpr, tpr)))\n",
        "plt.figure()\n",
        "plt.scatter(fpr, tpr, c= thresholds, cmap='viridis', vmin=0, vmax=1)\n",
        "clb = plt.colorbar()\n",
        "clb.ax.set_title('Threshold')\n",
        "plt.plot([0, 1], [0, 1], color='navy', lw=2, linestyle='--', label= 'Random classifier')\n",
        "plt.xlabel('False Positive Rate')\n",
        "plt.ylabel('True Positive Rate')\n",
        "plt.title('Receiver Operating Characteristic (ROC)')\n",
        "plt.legend(loc=\"lower right\")\n",
        "plt.show()\n",
        "print ('Threshold: ', threshold)"
      ],
      "metadata": {
        "colab": {
          "base_uri": "https://localhost:8080/",
          "height": 559
        },
        "id": "ITJig-OCczCM",
        "outputId": "adf61bdd-6d13-4753-b7a0-892a9dbdccb0"
      },
      "execution_count": 31,
      "outputs": [
        {
          "output_type": "stream",
          "name": "stdout",
          "text": [
            "[[61 10]\n",
            " [12 41]]\n",
            "Operating point: FPR = 0.169014   TPR = 0.905660\n",
            "AUC: 0.902073\n"
          ]
        },
        {
          "output_type": "display_data",
          "data": {
            "text/plain": [
              "<Figure size 640x480 with 2 Axes>"
            ],
            "image/png": "[encoded data removed]"
          },
          "metadata": {}
        },
        {
          "output_type": "stream",
          "name": "stdout",
          "text": [
            "Threshold:  0.30117226\n"
          ]
        }
      ]
    },
    {
      "cell_type": "code",
      "source": [
        "bins = np.arange(0,1.001,0.01)\n",
        "#print (bins)\n",
        "hist_aciertos = []\n",
        "y_val = np.array(y_val); y_test = np.array(y_test)\n",
        "for i in range(len(y_val)):\n",
        "    #print (y_val[i],y_test[i])\n",
        "    if y_val[i]==y_test[i]:\n",
        "        hist_aciertos.append(prob1[i])\n",
        "\n",
        "# plotting first histogram\n",
        "plt.hist(prob1,bins=bins, color='red')\n",
        "\n",
        "# plotting second histogram\n",
        "plt.hist(hist_aciertos,bins=bins, color='blue')\n",
        "\n",
        "# Showing the plot using plt.show()\n",
        "plt.show()"
      ],
      "metadata": {
        "colab": {
          "base_uri": "https://localhost:8080/",
          "height": 430
        },
        "id": "KQvFSN_UczEc",
        "outputId": "7ece1b05-91a6-4bfc-82a6-4cc86e27840f"
      },
      "execution_count": 32,
      "outputs": [
        {
          "output_type": "display_data",
          "data": {
            "text/plain": [
              "<Figure size 640x480 with 1 Axes>"
            ],
            "image/png": "[encoded data removed]"
          },
          "metadata": {}
        }
      ]
    },
    {
      "cell_type": "markdown",
      "source": [
        "## Prediction of the test dataset using the model obtained in the second training"
      ],
      "metadata": {
        "id": "rLsT7dSVvk_x"
      }
    },
    {
      "cell_type": "code",
      "source": [
        "preds2 = xgb_model2.predict_proba(test)"
      ],
      "metadata": {
        "id": "IP4OW1RAdD1G"
      },
      "execution_count": 33,
      "outputs": []
    },
    {
      "cell_type": "code",
      "source": [
        "ids = []\n",
        "predictions = []\n",
        "for i in range (len(preds2)):\n",
        "    ids.append(i)\n",
        "    if preds2[i][1] > threshold:\n",
        "        predictions.append('real')\n",
        "    else:\n",
        "        predictions.append('fake')"
      ],
      "metadata": {
        "id": "PpWg5KRadD39"
      },
      "execution_count": 34,
      "outputs": []
    },
    {
      "cell_type": "code",
      "source": [
        "#predictions"
      ],
      "metadata": {
        "id": "Fb8MfhkPdD6a"
      },
      "execution_count": 35,
      "outputs": []
    },
    {
      "cell_type": "code",
      "source": [
        "d = {'Id': ids, 'Prediction': predictions}\n",
        "df = pd.DataFrame(data=d)\n",
        "df.to_csv('/content/XGBoost Quitando NaN Operating Point UnifiedMeasure 2pasadas.csv', index=False)"
      ],
      "metadata": {
        "id": "02mB5d_BdD8l"
      },
      "execution_count": 36,
      "outputs": []
    },
    {
      "cell_type": "markdown",
      "source": [
        "# Dataset B (Text)"
      ],
      "metadata": {
        "id": "Jx1CvzZRjBa7"
      }
    },
    {
      "cell_type": "markdown",
      "source": [
        "## Reading train and test datasets"
      ],
      "metadata": {
        "id": "oozTF8-yvvOK"
      }
    },
    {
      "cell_type": "code",
      "source": [
        "colnames=['Id', 'Title', 'Label']\n",
        "dftrain = pd.read_csv('/content/train_B_text.csv', names=colnames, header=0)\n",
        "coltest = ['Id', 'Title']\n",
        "dftest = pd.read_csv('/content/test_B_text.csv', names=coltest, header=0)"
      ],
      "metadata": {
        "id": "EVvAIHDBdEBf"
      },
      "execution_count": 37,
      "outputs": []
    },
    {
      "cell_type": "code",
      "source": [
        "dftrain['Label'] = dftrain['Label'].replace ('fake', 0)\n",
        "dftrain['Label'] = dftrain['Label'].replace ('real', 1)"
      ],
      "metadata": {
        "id": "bFycG3ZCdhLz"
      },
      "execution_count": 38,
      "outputs": []
    },
    {
      "cell_type": "code",
      "source": [
        "X = []\n",
        "Y = []\n",
        "X_test = []\n",
        "\n",
        "for i in range (len(dftrain['Id'])):\n",
        "    X.append(dftrain['Title'][i])\n",
        "    Y.append(dftrain['Label'][i])\n",
        "\n",
        "for i in range (len(dftest['Id'])):\n",
        "    X_test.append(dftest['Title'][i])"
      ],
      "metadata": {
        "id": "2s-Aw0tAdhOV"
      },
      "execution_count": 39,
      "outputs": []
    },
    {
      "cell_type": "markdown",
      "source": [
        "## First training of the training dataset in order to determine which samples of the test dataset will be used later in the second training"
      ],
      "metadata": {
        "id": "Xar1If6-wj_2"
      }
    },
    {
      "cell_type": "markdown",
      "source": [
        "### Import tokenizer and model of distilbert"
      ],
      "metadata": {
        "id": "4yL6fMWuv4qB"
      }
    },
    {
      "cell_type": "code",
      "source": [
        "tokenizer = DistilBertTokenizer.from_pretrained('distilbert-base-cased')\n",
        "model = TFDistilBertForSequenceClassification.from_pretrained(\"distilbert-base-cased\")"
      ],
      "metadata": {
        "colab": {
          "base_uri": "https://localhost:8080/",
          "height": 264,
          "referenced_widgets": [
            "b7ceb4c4348b464da7d16a21c361c063",
            "c51559acda5245cea5a53f901e7f81f3",
            "99e0937470ed4af3b73afe10744234fa",
            "724e9386b854404fb3dd02c19718a53f",
            "7271263f5a6a4a69b076d7b6c0458460",
            "14963707d329449cbed9b6bcb4164de4",
            "e75c9165848746c5b5484f23de84d267",
            "d33f0ae941dd4ff8bd6d9aacbe2c5fb8",
            "8a84a308e9fd4e169a376f9a9fb1562b",
            "5c6aff58d58c49169fc6ea3b39178ff5",
            "aac1c56661d14c2e806441402ca2fa02",
            "f42f8a35114740a48248ad0f0a0d97ba",
            "3b85792a0ccb4d34a7252723a7277375",
            "8b60c9852cd340a3bdd591a5a6561446",
            "49e96a3299fa45b49f76654219f6a9bf",
            "a33aa16f75764326b3a43df1de887f40",
            "cced7a350869479c85a580e8234f1d75",
            "4e26e7ec36364f22b406a0c23630a50c",
            "bd6b4a864f584ecf961d060fb28c1f06",
            "ab809acc7a9b46b286ca2db303379460",
            "b007b780cfcb4397a927e1e70ab58c91",
            "9ba35236112a46aba6a55043a518ff6f",
            "0e32109c5be044dfb20f0b5b978bff2a",
            "e7f0d5f7a30246d592bbada3b6395974",
            "da22c2e033074d76b050b12caa4b5c44",
            "49f3091c261d4f1380f0f08c87dd1bde",
            "f5245efe8f9b4a8387de7dd7f6d01580",
            "e2560f00498c4264bb1f57a19c70d7c4",
            "0369eda980964584ad671d9d4d7bf060",
            "55be8352085d46f9b7622dae12847d39",
            "2b900f3f89b8471a9dbc4177a4dc3072",
            "5fb49dc42d3b4eb9995f282a39e5de06",
            "642917a57eef4252bc5d56f9283c8e34",
            "ccad1579722140bc8aa9c923d11cacb1",
            "6ce427fd62bc48a4943287f2ba96cff7",
            "cc4720180c4a46bfbc317307e55379db",
            "814549837c5e4a0ab5f089232cb439ef",
            "f4c484bcebd54973b6677b97cc520308",
            "70430aeb61a148b8a828dcc5a678ad42",
            "017a6019eae7420b94b9cc19f6f5e4e1",
            "18a2f620c34b4e849195e7c0aa9345dd",
            "7968dc79f2c04baca54e72ffcd880cd8",
            "e5b2fe5f38c7494599cae417ca436201",
            "483eb34ef098462ca23e9befd05f9649",
            "d184be66d5ba4f79b612da3ac4a33924",
            "110ab911b8574b818e058926561fe389",
            "7e4d73359b7f4b0d95ff30de6ddf09b4",
            "dee424545a894cec906cd2350bd16279",
            "b17276fa37814832b1a146421d13fcd5",
            "b9553ecf0a9c48a7988c33fb1a093609",
            "65f627b3c445471ea19074f4e6f41749",
            "dfbbc707b8924e1ca3b1533947f789d3",
            "057ac00b6e554c74b87ef51c8fd40305",
            "22afe3bdcc5e401993aa80590a09236e",
            "f4735af688ce484bbd3e7bc696e5838f"
          ]
        },
        "id": "-1bHx6RcdhTi",
        "outputId": "61d2d46f-d9dd-4482-811f-c56d6fc98d76"
      },
      "execution_count": 40,
      "outputs": [
        {
          "output_type": "display_data",
          "data": {
            "text/plain": [
              "Downloading (…)okenizer_config.json:   0%|          | 0.00/29.0 [00:00<?, ?B/s]"
            ],
            "application/vnd.jupyter.widget-view+json": {
              "version_major": 2,
              "version_minor": 0,
              "model_id": "b7ceb4c4348b464da7d16a21c361c063"
            }
          },
          "metadata": {}
        },
        {
          "output_type": "display_data",
          "data": {
            "text/plain": [
              "Downloading (…)solve/main/vocab.txt:   0%|          | 0.00/213k [00:00<?, ?B/s]"
            ],
            "application/vnd.jupyter.widget-view+json": {
              "version_major": 2,
              "version_minor": 0,
              "model_id": "f42f8a35114740a48248ad0f0a0d97ba"
            }
          },
          "metadata": {}
        },
        {
          "output_type": "display_data",
          "data": {
            "text/plain": [
              "Downloading (…)/main/tokenizer.json:   0%|          | 0.00/436k [00:00<?, ?B/s]"
            ],
            "application/vnd.jupyter.widget-view+json": {
              "version_major": 2,
              "version_minor": 0,
              "model_id": "0e32109c5be044dfb20f0b5b978bff2a"
            }
          },
          "metadata": {}
        },
        {
          "output_type": "display_data",
          "data": {
            "text/plain": [
              "Downloading (…)lve/main/config.json:   0%|          | 0.00/465 [00:00<?, ?B/s]"
            ],
            "application/vnd.jupyter.widget-view+json": {
              "version_major": 2,
              "version_minor": 0,
              "model_id": "ccad1579722140bc8aa9c923d11cacb1"
            }
          },
          "metadata": {}
        },
        {
          "output_type": "display_data",
          "data": {
            "text/plain": [
              "Downloading model.safetensors:   0%|          | 0.00/263M [00:00<?, ?B/s]"
            ],
            "application/vnd.jupyter.widget-view+json": {
              "version_major": 2,
              "version_minor": 0,
              "model_id": "d184be66d5ba4f79b612da3ac4a33924"
            }
          },
          "metadata": {}
        },
        {
          "output_type": "stream",
          "name": "stderr",
          "text": [
            "Some weights of the PyTorch model were not used when initializing the TF 2.0 model TFDistilBertForSequenceClassification: ['vocab_projector.bias', 'vocab_transform.weight', 'vocab_layer_norm.weight', 'vocab_transform.bias', 'vocab_layer_norm.bias']\n",
            "- This IS expected if you are initializing TFDistilBertForSequenceClassification from a PyTorch model trained on another task or with another architecture (e.g. initializing a TFBertForSequenceClassification model from a BertForPreTraining model).\n",
            "- This IS NOT expected if you are initializing TFDistilBertForSequenceClassification from a PyTorch model that you expect to be exactly identical (e.g. initializing a TFBertForSequenceClassification model from a BertForSequenceClassification model).\n",
            "Some weights or buffers of the TF 2.0 model TFDistilBertForSequenceClassification were not initialized from the PyTorch model and are newly initialized: ['pre_classifier.weight', 'pre_classifier.bias', 'classifier.weight', 'classifier.bias']\n",
            "You should probably TRAIN this model on a down-stream task to be able to use it for predictions and inference.\n"
          ]
        }
      ]
    },
    {
      "cell_type": "markdown",
      "source": [
        "### Preprocessing of the datasets"
      ],
      "metadata": {
        "id": "peknsT-Aww7g"
      }
    },
    {
      "cell_type": "code",
      "source": [
        "X_train, X_val, Y_train, Y_val = train_test_split(X,Y,test_size=0.2)\n",
        "token_train = [str(i) for i in X_train]\n",
        "token_val = [str(i) for i in X_val]\n",
        "token_test = [str(i) for i in X_test]"
      ],
      "metadata": {
        "id": "n2KirKIldhQ4"
      },
      "execution_count": 41,
      "outputs": []
    },
    {
      "cell_type": "code",
      "source": [
        "train_encodings = tokenizer(token_train, truncation = True, padding = True)\n",
        "val_encodings = tokenizer(token_val, truncation = True, padding = True)\n",
        "test_encodings = tokenizer(token_test, truncation = True, padding = True)"
      ],
      "metadata": {
        "id": "a4kB8Kh5dha0"
      },
      "execution_count": 42,
      "outputs": []
    },
    {
      "cell_type": "code",
      "source": [
        "train_dataset = tf.data.Dataset.from_tensor_slices((dict(train_encodings), Y_train))\n",
        "val_dataset = tf.data.Dataset.from_tensor_slices((dict(val_encodings), Y_val))\n",
        "test_dataset = tf.data.Dataset.from_tensor_slices((dict(test_encodings)))"
      ],
      "metadata": {
        "id": "tELM4ZBEdhdZ"
      },
      "execution_count": 43,
      "outputs": []
    },
    {
      "cell_type": "markdown",
      "source": [
        "### Model definition, compile and fit"
      ],
      "metadata": {
        "id": "2JUQtAY0w4yv"
      }
    },
    {
      "cell_type": "code",
      "source": [
        "loss_fn = tf.keras.losses.SparseCategoricalCrossentropy(from_logits=True)\n",
        "optimizer = tf.keras.optimizers.Adam(learning_rate=5e-5, epsilon=1e-08)\n",
        "\n",
        "#compile the model\n",
        "model.compile(optimizer=optimizer,loss=loss_fn,metrics=['accuracy'])\n",
        "\n",
        "#train the model\n",
        "model.fit(train_dataset.batch(16),\n",
        "          epochs=2,\n",
        "          batch_size=16,\n",
        "          validation_data=val_dataset.batch(16), verbose = 1)"
      ],
      "metadata": {
        "colab": {
          "base_uri": "https://localhost:8080/"
        },
        "id": "6FKJt5oAdhiF",
        "outputId": "75ba31c3-710b-4832-e7de-1cff06a3dd75"
      },
      "execution_count": 44,
      "outputs": [
        {
          "output_type": "stream",
          "name": "stdout",
          "text": [
            "Epoch 1/2\n",
            "175/175 [==============================] - 46s 121ms/step - loss: 0.1575 - accuracy: 0.9524 - val_loss: 0.1355 - val_accuracy: 0.9543\n",
            "Epoch 2/2\n",
            "175/175 [==============================] - 16s 94ms/step - loss: 0.0878 - accuracy: 0.9678 - val_loss: 0.1084 - val_accuracy: 0.9629\n"
          ]
        },
        {
          "output_type": "execute_result",
          "data": {
            "text/plain": [
              "<keras.src.callbacks.History at 0x798c54d3b040>"
            ]
          },
          "metadata": {},
          "execution_count": 44
        }
      ]
    },
    {
      "cell_type": "markdown",
      "source": [
        "### Validation and test results"
      ],
      "metadata": {
        "id": "4EDkVw7exBzV"
      }
    },
    {
      "cell_type": "code",
      "source": [
        "predictions = model.predict(val_dataset)\n",
        "testresults = model.predict(test_dataset)"
      ],
      "metadata": {
        "colab": {
          "base_uri": "https://localhost:8080/"
        },
        "id": "X8XKEFVhdhkP",
        "outputId": "d30e63c9-c8fe-4c9f-c57d-6a4daf3de0c5"
      },
      "execution_count": 45,
      "outputs": [
        {
          "output_type": "stream",
          "name": "stdout",
          "text": [
            "700/700 [==============================] - 6s 8ms/step\n",
            "1500/1500 [==============================] - 9s 6ms/step\n"
          ]
        }
      ]
    },
    {
      "cell_type": "code",
      "source": [
        "output = []\n",
        "prob0 = []\n",
        "prob1 = []\n",
        "\n",
        "for i in range (len(X_val)):\n",
        "    if predictions[0][i][0] > predictions[0][i][1]:\n",
        "        output.append(0)\n",
        "    else:\n",
        "        output.append(1)\n",
        "\n",
        "    suma = np.exp(predictions[0][i][0])+np.exp(predictions[0][i][1])\n",
        "    prob0.append(np.exp(predictions[0][i][0])/suma)\n",
        "    prob1.append(np.exp(predictions[0][i][1])/suma)\n",
        "\n",
        "\n",
        "cm = confusion_matrix(Y_val,output)\n",
        "\n",
        "print(cm)\n",
        "\n",
        "especificidad = cm[0][0] / (cm[0][0] + cm[0][1]) * 100\n",
        "sensibilidad = cm[1][1] / (cm[1][1] + cm[1][0]) * 100\n",
        "\n",
        "print ('\\nSensibilidad: %.2lf' % sensibilidad)\n",
        "print ('Especificidad: %.2lf' % especificidad)\n",
        "\n",
        "fpr, tpr, thresholds = roc_curve(Y_val,prob1)\n",
        "\n",
        "distance_perfection = []\n",
        "for i in range (len(fpr)):\n",
        "    distance_perfection.append(fpr[i]*fpr[i] + (1-tpr[i])*(1-tpr[i]))\n",
        "\n",
        "threshold = thresholds[distance_perfection.index(min(distance_perfection))]\n",
        "\n",
        "print ('Threshold: ', threshold)\n",
        "print ('Operating point: FPR = %lf   TPR = %lf' % (fpr[distance_perfection.index(min(distance_perfection))], tpr[distance_perfection.index(min(distance_perfection))]))\n",
        "\n",
        "print ('AUC: %lf' % (auc(fpr, tpr)))\n",
        "plt.figure()\n",
        "plt.scatter(fpr, tpr, c= thresholds, cmap='viridis', vmin=0, vmax=1)\n",
        "clb = plt.colorbar()\n",
        "clb.ax.set_title('Threshold')\n",
        "plt.plot([0, 1], [0, 1], color='navy', lw=2, linestyle='--', label= 'Random classifier')\n",
        "plt.xlabel('False Positive Rate')\n",
        "plt.ylabel('True Positive Rate')\n",
        "plt.title('Receiver Operating Characteristic (ROC)')\n",
        "plt.legend(loc=\"lower right\")\n",
        "plt.show()"
      ],
      "metadata": {
        "colab": {
          "base_uri": "https://localhost:8080/",
          "height": 611
        },
        "id": "_qMwP9Rjdvuv",
        "outputId": "ab3e4acd-7574-42d6-b979-0cacc11423e6"
      },
      "execution_count": 46,
      "outputs": [
        {
          "output_type": "stream",
          "name": "stdout",
          "text": [
            "[[133  20]\n",
            " [  6 541]]\n",
            "\n",
            "Sensibilidad: 98.90\n",
            "Especificidad: 86.93\n",
            "Threshold:  0.7915543\n",
            "Operating point: FPR = 0.078431   TPR = 0.930530\n",
            "AUC: 0.985184\n"
          ]
        },
        {
          "output_type": "display_data",
          "data": {
            "text/plain": [
              "<Figure size 640x480 with 2 Axes>"
            ],
            "image/png": "[encoded data removed]"
          },
          "metadata": {}
        }
      ]
    },
    {
      "cell_type": "code",
      "source": [
        "bins = np.arange(0,1.001,0.01)\n",
        "#print (bins)\n",
        "hist_aciertos = []\n",
        "Y_val = np.array(Y_val); output = np.array(output)\n",
        "for i in range(len(Y_val)):\n",
        "    #print (y_val[i],y_test[i])\n",
        "    if Y_val[i]==output[i]:\n",
        "        hist_aciertos.append(prob1[i])\n",
        "\n",
        "# plotting first histogram\n",
        "plt.hist(prob1,bins=bins, color='red')\n",
        "\n",
        "# plotting second histogram\n",
        "plt.hist(hist_aciertos,bins=bins, color='blue')\n",
        "\n",
        "# Showing the plot using plt.show()\n",
        "plt.yscale('log')\n",
        "plt.show()"
      ],
      "metadata": {
        "colab": {
          "base_uri": "https://localhost:8080/",
          "height": 430
        },
        "id": "fdga8pSvdvw1",
        "outputId": "95cb14e3-6c8d-47a4-cfd1-adad0a871446"
      },
      "execution_count": 47,
      "outputs": [
        {
          "output_type": "display_data",
          "data": {
            "text/plain": [
              "<Figure size 640x480 with 1 Axes>"
            ],
            "image/png": "[encoded data removed]"
          },
          "metadata": {}
        }
      ]
    },
    {
      "cell_type": "code",
      "source": [
        "prob1test = [np.exp(p)/(np.exp(p) + np.exp(q)) for q,p in zip (testresults.logits[:,0], testresults.logits[:,1])]\n",
        "plt.hist(prob1test,bins=bins, color='blue')\n",
        "plt.yscale('log')\n",
        "plt.show()"
      ],
      "metadata": {
        "colab": {
          "base_uri": "https://localhost:8080/",
          "height": 430
        },
        "id": "sVzAgAZndv1V",
        "outputId": "8510b38d-d859-4c20-9c79-6b7c03007766"
      },
      "execution_count": 48,
      "outputs": [
        {
          "output_type": "display_data",
          "data": {
            "text/plain": [
              "<Figure size 640x480 with 1 Axes>"
            ],
            "image/png": "[encoded data removed]"
          },
          "metadata": {}
        }
      ]
    },
    {
      "cell_type": "markdown",
      "source": [
        "## Second training"
      ],
      "metadata": {
        "id": "Mrlj75LmxNKL"
      }
    },
    {
      "cell_type": "markdown",
      "source": [
        "### Definition of the interval of probability that decides which test samples will be used for training"
      ],
      "metadata": {
        "id": "yU8PnnCrxVJ1"
      }
    },
    {
      "cell_type": "code",
      "source": [
        "for i in range (len(testresults.logits)):\n",
        "    if testresults.logits[i][1] < 0.05:\n",
        "        X.append(X_test[i])\n",
        "        Y.append(0)\n",
        "    elif testresults.logits[i][1] > 0.95:\n",
        "        X.append(X_test[i])\n",
        "        Y.append(1)\n",
        "\n",
        "print (len(X),len(Y))"
      ],
      "metadata": {
        "colab": {
          "base_uri": "https://localhost:8080/"
        },
        "id": "OPiGBku1dv4W",
        "outputId": "f47964f1-34ab-4654-8d4a-3bc2d2f34454"
      },
      "execution_count": 49,
      "outputs": [
        {
          "output_type": "stream",
          "name": "stdout",
          "text": [
            "4827 4827\n"
          ]
        }
      ]
    },
    {
      "cell_type": "markdown",
      "source": [
        "### Preprocess of the new training and validation datasets"
      ],
      "metadata": {
        "id": "jQ3AMddexgbH"
      }
    },
    {
      "cell_type": "code",
      "source": [
        "X_train_2pasada, X_val_2pasada, Y_train_2pasada, Y_val_2pasada = train_test_split(X,Y,test_size=0.2)\n",
        "\n",
        "token_train_2pasada = [str(i) for i in X_train_2pasada]\n",
        "token_val_2pasada = [str(i) for i in X_val_2pasada]\n",
        "\n",
        "train_2pasada_encodings = tokenizer(token_train_2pasada, truncation = True, padding = True)\n",
        "val_2pasada_encodings = tokenizer(token_val_2pasada, truncation = True, padding = True)\n",
        "\n",
        "train_2pasada_dataset = tf.data.Dataset.from_tensor_slices((dict(train_2pasada_encodings), Y_train_2pasada))\n",
        "val_2pasada_dataset = tf.data.Dataset.from_tensor_slices((dict(val_2pasada_encodings), Y_val_2pasada))"
      ],
      "metadata": {
        "id": "nb5gEsC9dv67"
      },
      "execution_count": 50,
      "outputs": []
    },
    {
      "cell_type": "markdown",
      "source": [
        "### Definition of the model, loss, optimizer and fit"
      ],
      "metadata": {
        "id": "pcAHwI0hxmnz"
      }
    },
    {
      "cell_type": "code",
      "source": [
        "model_2pasada = TFDistilBertForSequenceClassification.from_pretrained(\"distilbert-base-cased\")\n",
        "\n",
        "loss_fn = tf.keras.losses.SparseCategoricalCrossentropy(from_logits=True)\n",
        "optimizer = tf.keras.optimizers.Adam(learning_rate=5e-5, epsilon=1e-08)\n",
        "\n",
        "#compile the model\n",
        "model_2pasada.compile(optimizer=optimizer,loss=loss_fn,metrics=['accuracy'])\n",
        "\n",
        "#train the model\n",
        "model_2pasada.fit(train_2pasada_dataset.batch(16),\n",
        "          epochs=1,\n",
        "          batch_size=16,\n",
        "          validation_data=val_2pasada_dataset.batch(16), verbose = 1)"
      ],
      "metadata": {
        "colab": {
          "base_uri": "https://localhost:8080/"
        },
        "id": "mbiVjgAcd8In",
        "outputId": "09e7ae7e-0d51-4a83-f8d2-9b2857543784"
      },
      "execution_count": 59,
      "outputs": [
        {
          "output_type": "stream",
          "name": "stderr",
          "text": [
            "Some weights of the PyTorch model were not used when initializing the TF 2.0 model TFDistilBertForSequenceClassification: ['vocab_projector.bias', 'vocab_transform.weight', 'vocab_layer_norm.weight', 'vocab_transform.bias', 'vocab_layer_norm.bias']\n",
            "- This IS expected if you are initializing TFDistilBertForSequenceClassification from a PyTorch model trained on another task or with another architecture (e.g. initializing a TFBertForSequenceClassification model from a BertForPreTraining model).\n",
            "- This IS NOT expected if you are initializing TFDistilBertForSequenceClassification from a PyTorch model that you expect to be exactly identical (e.g. initializing a TFBertForSequenceClassification model from a BertForSequenceClassification model).\n",
            "Some weights or buffers of the TF 2.0 model TFDistilBertForSequenceClassification were not initialized from the PyTorch model and are newly initialized: ['pre_classifier.weight', 'pre_classifier.bias', 'classifier.weight', 'classifier.bias']\n",
            "You should probably TRAIN this model on a down-stream task to be able to use it for predictions and inference.\n"
          ]
        },
        {
          "output_type": "stream",
          "name": "stdout",
          "text": [
            "242/242 [==============================] - 47s 114ms/step - loss: 0.1321 - accuracy: 0.9560 - val_loss: 0.0813 - val_accuracy: 0.9710\n"
          ]
        },
        {
          "output_type": "execute_result",
          "data": {
            "text/plain": [
              "<keras.src.callbacks.History at 0x798b9c1554b0>"
            ]
          },
          "metadata": {},
          "execution_count": 59
        }
      ]
    },
    {
      "cell_type": "markdown",
      "source": [
        "### Validation and test results"
      ],
      "metadata": {
        "id": "VVxeQmEmxz1q"
      }
    },
    {
      "cell_type": "code",
      "source": [
        "predictions_2pasada = model_2pasada.predict(val_2pasada_dataset)\n",
        "testresults_2pasada = model_2pasada.predict(test_dataset)"
      ],
      "metadata": {
        "colab": {
          "base_uri": "https://localhost:8080/"
        },
        "id": "Evlh4sbXd8K9",
        "outputId": "aaa40c27-7a41-405d-84b9-e19d2231a50a"
      },
      "execution_count": 60,
      "outputs": [
        {
          "output_type": "stream",
          "name": "stdout",
          "text": [
            "966/966 [==============================] - 6s 6ms/step\n",
            "1500/1500 [==============================] - 11s 6ms/step\n"
          ]
        }
      ]
    },
    {
      "cell_type": "code",
      "source": [
        "output_2pasada = []\n",
        "prob0_2pasada = []\n",
        "prob1_2pasada = []\n",
        "\n",
        "for i in range (len(X_val_2pasada)):\n",
        "    if predictions_2pasada[0][i][0] > predictions_2pasada[0][i][1]:\n",
        "        output_2pasada.append(0)\n",
        "    else:\n",
        "        output_2pasada.append(1)\n",
        "\n",
        "    suma = np.exp(predictions_2pasada[0][i][0])+np.exp(predictions_2pasada[0][i][1])\n",
        "    prob0_2pasada.append(np.exp(predictions_2pasada[0][i][0])/suma)\n",
        "    prob1_2pasada.append(np.exp(predictions_2pasada[0][i][1])/suma)\n",
        "\n",
        "\n",
        "cm_2pasada = confusion_matrix(Y_val_2pasada,output_2pasada)\n",
        "\n",
        "print(cm_2pasada)\n",
        "\n",
        "especificidad_2pasada = cm_2pasada[0][0] / (cm_2pasada[0][0] + cm_2pasada[0][1]) * 100\n",
        "sensibilidad_2pasada = cm_2pasada[1][1] / (cm_2pasada[1][1] + cm_2pasada[1][0]) * 100\n",
        "\n",
        "print ('\\nSensibilidad: %.2lf' % sensibilidad_2pasada)\n",
        "print ('Especificidad: %.2lf' % especificidad_2pasada)\n",
        "\n",
        "fpr_2pasada, tpr_2pasada, thresholds_2pasada = roc_curve(Y_val_2pasada,prob1_2pasada)\n",
        "\n",
        "distance_perfection_2pasada = []\n",
        "for i in range (len(fpr_2pasada)):\n",
        "    distance_perfection_2pasada.append(fpr_2pasada[i]*fpr_2pasada[i] + (1-tpr_2pasada[i])*(1-tpr_2pasada[i]))\n",
        "\n",
        "threshold_2pasada = thresholds_2pasada[distance_perfection_2pasada.index(min(distance_perfection_2pasada))]\n",
        "\n",
        "print ('Threshold: ', threshold_2pasada)\n",
        "print ('Operating point: FPR = %lf   TPR = %lf' % (fpr_2pasada[distance_perfection_2pasada.index(min(distance_perfection_2pasada))], tpr_2pasada[distance_perfection_2pasada.index(min(distance_perfection_2pasada))]))\n",
        "\n",
        "print ('AUC: %lf' % (auc(fpr_2pasada, tpr_2pasada)))\n",
        "plt.figure()\n",
        "plt.scatter(fpr_2pasada, tpr_2pasada, c= thresholds_2pasada, cmap='viridis', vmin=0, vmax=1)\n",
        "clb = plt.colorbar()\n",
        "clb.ax.set_title('Threshold')\n",
        "plt.plot([0, 1], [0, 1], color='navy', lw=2, linestyle='--', label= 'Random classifier')\n",
        "plt.xlabel('False Positive Rate')\n",
        "plt.ylabel('True Positive Rate')\n",
        "plt.title('Receiver Operating Characteristic (ROC)')\n",
        "plt.legend(loc=\"lower right\")\n",
        "plt.show()"
      ],
      "metadata": {
        "colab": {
          "base_uri": "https://localhost:8080/",
          "height": 611
        },
        "id": "mCR8xB0od8Od",
        "outputId": "6cbfe5de-bfab-45b3-e9e3-61876b78e23a"
      },
      "execution_count": 61,
      "outputs": [
        {
          "output_type": "stream",
          "name": "stdout",
          "text": [
            "[[167  22]\n",
            " [  6 771]]\n",
            "\n",
            "Sensibilidad: 99.23\n",
            "Especificidad: 88.36\n",
            "Threshold:  0.63291824\n",
            "Operating point: FPR = 0.052910   TPR = 0.971686\n",
            "AUC: 0.991127\n"
          ]
        },
        {
          "output_type": "display_data",
          "data": {
            "text/plain": [
              "<Figure size 640x480 with 2 Axes>"
            ],
            "image/png": "[encoded data removed]"
          },
          "metadata": {}
        }
      ]
    },
    {
      "cell_type": "code",
      "source": [
        "bins = np.arange(0,1.001,0.01)\n",
        "#print (bins)\n",
        "hist_2pasada_aciertos = []\n",
        "Y_val_2pasada = np.array(Y_val_2pasada); output_2pasada = np.array(output_2pasada)\n",
        "for i in range(len(Y_val_2pasada)):\n",
        "    #print (y_val[i],y_test[i])\n",
        "    if Y_val_2pasada[i]==output_2pasada[i]:\n",
        "        hist_2pasada_aciertos.append(prob1_2pasada[i])\n",
        "\n",
        "plt.figure()\n",
        "# plotting first histogram\n",
        "plt.hist(prob1_2pasada,bins=bins, color='red')\n",
        "\n",
        "# plotting second histogram\n",
        "plt.hist(hist_2pasada_aciertos,bins=bins, color='blue')\n",
        "\n",
        "# Showing the plot using plt.show()\n",
        "plt.yscale('log')\n",
        "plt.show()"
      ],
      "metadata": {
        "colab": {
          "base_uri": "https://localhost:8080/",
          "height": 430
        },
        "id": "iKcLPZ-yd8RQ",
        "outputId": "8549579a-f041-4448-aa79-a2afd6d6c2cc"
      },
      "execution_count": 62,
      "outputs": [
        {
          "output_type": "display_data",
          "data": {
            "text/plain": [
              "<Figure size 640x480 with 1 Axes>"
            ],
            "image/png": "[encoded data removed]"
          },
          "metadata": {}
        }
      ]
    },
    {
      "cell_type": "code",
      "source": [
        "labelfinal = []\n",
        "\n",
        "for i in range (len(testresults_2pasada.logits)):\n",
        "    if testresults_2pasada.logits[i][1] > threshold_2pasada:\n",
        "        labelfinal.append('real')\n",
        "    else:\n",
        "        labelfinal.append('fake')\n",
        "\n",
        "d = {'Id': dftest['Id'], 'Prediction': labelfinal}\n",
        "df = pd.DataFrame(data=d)\n",
        "df.to_csv('/content/DistilBERT Base Cased 2ep Operating Point 2pasadas.csv', index=False)"
      ],
      "metadata": {
        "id": "CdPD-PA0d8TW"
      },
      "execution_count": 63,
      "outputs": []
    },
    {
      "cell_type": "markdown",
      "source": [
        "# Mixing both final results"
      ],
      "metadata": {
        "id": "Yr38CrWjyZoP"
      }
    },
    {
      "cell_type": "code",
      "source": [
        "colnames = ['Id', 'Prediction']\n",
        "\n",
        "dfA = pd.read_csv('/content/XGBoost Quitando NaN Operating Point UnifiedMeasure 2pasadas.csv', names = colnames, header = 0)\n",
        "dfB = pd.read_csv('/content/DistilBERT Base Cased 2ep Operating Point 2pasadas.csv', names = colnames, header = 0)\n",
        "\n",
        "print (len(dfA['Prediction']))\n",
        "print (len(dfB['Prediction']))\n",
        "\n",
        "predictions_combined = np.concatenate((dfA['Prediction'], dfB['Prediction']))\n",
        "\n",
        "ids_combined = []\n",
        "for i in range (len(predictions_combined)):\n",
        "    ids_combined.append(i)\n",
        "\n",
        "print (len(ids_combined))\n",
        "\n",
        "d = {'Id': ids_combined, 'Prediction': predictions_combined}\n",
        "df = pd.DataFrame(data=d)\n",
        "\n",
        "df.to_csv('/content/Final_Results_DavidIniguez_JaumeSanchez.csv', index = False)"
      ],
      "metadata": {
        "colab": {
          "base_uri": "https://localhost:8080/"
        },
        "id": "s6fzH1xdd8Vr",
        "outputId": "80942fae-22a9-4669-abc2-1e4339d9771a"
      },
      "execution_count": 64,
      "outputs": [
        {
          "output_type": "stream",
          "name": "stdout",
          "text": [
            "256\n",
            "1500\n",
            "1756\n"
          ]
        }
      ]
    }
  ]
}
